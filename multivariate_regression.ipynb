{
 "cells": [
  {
   "cell_type": "code",
   "execution_count": 1,
   "metadata": {},
   "outputs": [],
   "source": [
    "import pandas as pd\n",
    "import numpy as np\n",
    "import seaborn as sns\n",
    "import matplotlib.pyplot as plt"
   ]
  },
  {
   "cell_type": "code",
   "execution_count": 2,
   "metadata": {},
   "outputs": [],
   "source": [
    "import statsmodels.api as sm\n",
    "from sklearn.metrics import mean_absolute_error, mean_squared_error, r2_score\n",
    "from sklearn.model_selection import train_test_split\n",
    "from sklearn import linear_model"
   ]
  },
  {
   "cell_type": "code",
   "execution_count": 3,
   "metadata": {},
   "outputs": [],
   "source": [
    "%matplotlib inline"
   ]
  },
  {
   "cell_type": "markdown",
   "metadata": {},
   "source": [
    "<div id=\"rmse\" style=\"float:left;width: 100%;\">\n",
    "  <div style=\"float:left;width: 15%;\"><img src=\"https://miro.medium.com/max/327/1*9hQVcasuwx5ddq_s3MFCyw.gif\" style=\"align:center\"/> </div>\n",
    "  <div style=\"float:left;width: 85%;\"><label></label></div>\n",
    "</div>\n"
   ]
  },
  {
   "cell_type": "code",
   "execution_count": 4,
   "metadata": {},
   "outputs": [],
   "source": [
    "df= pd.read_csv('./data/df_total.csv')"
   ]
  },
  {
   "cell_type": "code",
   "execution_count": 5,
   "metadata": {},
   "outputs": [
    {
     "data": {
      "text/html": [
       "<div>\n",
       "<style scoped>\n",
       "    .dataframe tbody tr th:only-of-type {\n",
       "        vertical-align: middle;\n",
       "    }\n",
       "\n",
       "    .dataframe tbody tr th {\n",
       "        vertical-align: top;\n",
       "    }\n",
       "\n",
       "    .dataframe thead th {\n",
       "        text-align: right;\n",
       "    }\n",
       "</style>\n",
       "<table border=\"1\" class=\"dataframe\">\n",
       "  <thead>\n",
       "    <tr style=\"text-align: right;\">\n",
       "      <th></th>\n",
       "      <th>Unnamed: 0</th>\n",
       "      <th>property_type</th>\n",
       "      <th>lat</th>\n",
       "      <th>lon</th>\n",
       "      <th>price_aprox_usd</th>\n",
       "      <th>surface_covered_in_m2</th>\n",
       "      <th>ciudad_barrio</th>\n",
       "      <th>sub_loc</th>\n",
       "      <th>distance_obelisco</th>\n",
       "      <th>precio_m2</th>\n",
       "      <th>segmento_precio_m2</th>\n",
       "      <th>segmento_precio_m2_ordinal</th>\n",
       "    </tr>\n",
       "  </thead>\n",
       "  <tbody>\n",
       "    <tr>\n",
       "      <th>35868</th>\n",
       "      <td>63946</td>\n",
       "      <td>apartment</td>\n",
       "      <td>-34.754123</td>\n",
       "      <td>-58.420766</td>\n",
       "      <td>65000.0</td>\n",
       "      <td>45.0</td>\n",
       "      <td>Lomas de Zamora</td>\n",
       "      <td>Lomas de Zamora</td>\n",
       "      <td>9729.715877</td>\n",
       "      <td>1300.0</td>\n",
       "      <td>bajo</td>\n",
       "      <td>3</td>\n",
       "    </tr>\n",
       "  </tbody>\n",
       "</table>\n",
       "</div>"
      ],
      "text/plain": [
       "       Unnamed: 0 property_type        lat        lon  price_aprox_usd  \\\n",
       "35868       63946     apartment -34.754123 -58.420766          65000.0   \n",
       "\n",
       "       surface_covered_in_m2    ciudad_barrio          sub_loc  \\\n",
       "35868                   45.0  Lomas de Zamora  Lomas de Zamora   \n",
       "\n",
       "       distance_obelisco  precio_m2 segmento_precio_m2  \\\n",
       "35868        9729.715877     1300.0               bajo   \n",
       "\n",
       "       segmento_precio_m2_ordinal  \n",
       "35868                           3  "
      ]
     },
     "execution_count": 5,
     "metadata": {},
     "output_type": "execute_result"
    }
   ],
   "source": [
    "df.sample(1)"
   ]
  },
  {
   "cell_type": "code",
   "execution_count": 6,
   "metadata": {},
   "outputs": [],
   "source": [
    "df.drop(['Unnamed: 0'], axis=1, inplace=True)"
   ]
  },
  {
   "cell_type": "code",
   "execution_count": 7,
   "metadata": {},
   "outputs": [],
   "source": [
    "from sklearn.model_selection import cross_validate"
   ]
  },
  {
   "cell_type": "code",
   "execution_count": 8,
   "metadata": {},
   "outputs": [],
   "source": [
    "def reg_lineal_multiple(data, features):\n",
    "\n",
    "    X = data[features]\n",
    "    y = data.price_aprox_usd\n",
    "\n",
    "    X_train, X_test, y_train, y_test = train_test_split(X, y, random_state= 7)\n",
    "\n",
    "    X = sm.add_constant(X_train)\n",
    "\n",
    "    lm = sm.OLS(y_train, X_train).fit() \n",
    "    \n",
    "\n",
    "    cv = cross_validate(estimator=linear_model.LinearRegression(), X=X_train, y=y_train, scoring=['neg_root_mean_squared_error', 'r2'], cv=3)\n",
    "\n",
    "\n",
    "    return cv, lm"
   ]
  },
  {
   "cell_type": "code",
   "execution_count": 9,
   "metadata": {},
   "outputs": [],
   "source": [
    "cv_tot, lm_tot = reg_lineal_multiple(df,['surface_covered_in_m2', 'lat', 'lon', 'precio_m2','distance_obelisco'] )"
   ]
  },
  {
   "cell_type": "code",
   "execution_count": 10,
   "metadata": {},
   "outputs": [
    {
     "data": {
      "text/html": [
       "<table class=\"simpletable\">\n",
       "<caption>OLS Regression Results</caption>\n",
       "<tr>\n",
       "  <th>Dep. Variable:</th>     <td>price_aprox_usd</td> <th>  R-squared (uncentered):</th>       <td>   0.813</td>  \n",
       "</tr>\n",
       "<tr>\n",
       "  <th>Model:</th>                   <td>OLS</td>       <th>  Adj. R-squared (uncentered):</th>  <td>   0.813</td>  \n",
       "</tr>\n",
       "<tr>\n",
       "  <th>Method:</th>             <td>Least Squares</td>  <th>  F-statistic:       </th>           <td>6.162e+04</td> \n",
       "</tr>\n",
       "<tr>\n",
       "  <th>Date:</th>             <td>Sat, 27 Nov 2021</td> <th>  Prob (F-statistic):</th>            <td>  0.00</td>   \n",
       "</tr>\n",
       "<tr>\n",
       "  <th>Time:</th>                 <td>15:38:09</td>     <th>  Log-Likelihood:    </th>          <td>-9.3497e+05</td>\n",
       "</tr>\n",
       "<tr>\n",
       "  <th>No. Observations:</th>      <td> 70758</td>      <th>  AIC:               </th>           <td>1.870e+06</td> \n",
       "</tr>\n",
       "<tr>\n",
       "  <th>Df Residuals:</th>          <td> 70753</td>      <th>  BIC:               </th>           <td>1.870e+06</td> \n",
       "</tr>\n",
       "<tr>\n",
       "  <th>Df Model:</th>              <td>     5</td>      <th>                     </th>               <td> </td>     \n",
       "</tr>\n",
       "<tr>\n",
       "  <th>Covariance Type:</th>      <td>nonrobust</td>    <th>                     </th>               <td> </td>     \n",
       "</tr>\n",
       "</table>\n",
       "<table class=\"simpletable\">\n",
       "<tr>\n",
       "            <td></td>               <th>coef</th>     <th>std err</th>      <th>t</th>      <th>P>|t|</th>  <th>[0.025</th>    <th>0.975]</th>  \n",
       "</tr>\n",
       "<tr>\n",
       "  <th>surface_covered_in_m2</th> <td> 1480.0385</td> <td>    4.503</td> <td>  328.688</td> <td> 0.000</td> <td> 1471.213</td> <td> 1488.864</td>\n",
       "</tr>\n",
       "<tr>\n",
       "  <th>lat</th>                   <td> 1076.9199</td> <td>  237.590</td> <td>    4.533</td> <td> 0.000</td> <td>  611.244</td> <td> 1542.595</td>\n",
       "</tr>\n",
       "<tr>\n",
       "  <th>lon</th>                   <td> 1264.6476</td> <td>  143.395</td> <td>    8.819</td> <td> 0.000</td> <td>  983.594</td> <td> 1545.701</td>\n",
       "</tr>\n",
       "<tr>\n",
       "  <th>precio_m2</th>             <td>   87.3433</td> <td>    0.557</td> <td>  156.718</td> <td> 0.000</td> <td>   86.251</td> <td>   88.436</td>\n",
       "</tr>\n",
       "<tr>\n",
       "  <th>distance_obelisco</th>     <td>   -0.0218</td> <td>    0.003</td> <td>   -8.461</td> <td> 0.000</td> <td>   -0.027</td> <td>   -0.017</td>\n",
       "</tr>\n",
       "</table>\n",
       "<table class=\"simpletable\">\n",
       "<tr>\n",
       "  <th>Omnibus:</th>       <td>42239.647</td> <th>  Durbin-Watson:     </th>  <td>   2.011</td>  \n",
       "</tr>\n",
       "<tr>\n",
       "  <th>Prob(Omnibus):</th>  <td> 0.000</td>   <th>  Jarque-Bera (JB):  </th> <td>2141687.594</td>\n",
       "</tr>\n",
       "<tr>\n",
       "  <th>Skew:</th>           <td> 2.189</td>   <th>  Prob(JB):          </th>  <td>    0.00</td>  \n",
       "</tr>\n",
       "<tr>\n",
       "  <th>Kurtosis:</th>       <td>29.594</td>   <th>  Cond. No.          </th>  <td>1.66e+05</td>  \n",
       "</tr>\n",
       "</table><br/><br/>Notes:<br/>[1] R² is computed without centering (uncentered) since the model does not contain a constant.<br/>[2] Standard Errors assume that the covariance matrix of the errors is correctly specified.<br/>[3] The condition number is large, 1.66e+05. This might indicate that there are<br/>strong multicollinearity or other numerical problems."
      ],
      "text/plain": [
       "<class 'statsmodels.iolib.summary.Summary'>\n",
       "\"\"\"\n",
       "                                 OLS Regression Results                                \n",
       "=======================================================================================\n",
       "Dep. Variable:        price_aprox_usd   R-squared (uncentered):                   0.813\n",
       "Model:                            OLS   Adj. R-squared (uncentered):              0.813\n",
       "Method:                 Least Squares   F-statistic:                          6.162e+04\n",
       "Date:                Sat, 27 Nov 2021   Prob (F-statistic):                        0.00\n",
       "Time:                        15:38:09   Log-Likelihood:                     -9.3497e+05\n",
       "No. Observations:               70758   AIC:                                  1.870e+06\n",
       "Df Residuals:                   70753   BIC:                                  1.870e+06\n",
       "Df Model:                           5                                                  \n",
       "Covariance Type:            nonrobust                                                  \n",
       "=========================================================================================\n",
       "                            coef    std err          t      P>|t|      [0.025      0.975]\n",
       "-----------------------------------------------------------------------------------------\n",
       "surface_covered_in_m2  1480.0385      4.503    328.688      0.000    1471.213    1488.864\n",
       "lat                    1076.9199    237.590      4.533      0.000     611.244    1542.595\n",
       "lon                    1264.6476    143.395      8.819      0.000     983.594    1545.701\n",
       "precio_m2                87.3433      0.557    156.718      0.000      86.251      88.436\n",
       "distance_obelisco        -0.0218      0.003     -8.461      0.000      -0.027      -0.017\n",
       "==============================================================================\n",
       "Omnibus:                    42239.647   Durbin-Watson:                   2.011\n",
       "Prob(Omnibus):                  0.000   Jarque-Bera (JB):          2141687.594\n",
       "Skew:                           2.189   Prob(JB):                         0.00\n",
       "Kurtosis:                      29.594   Cond. No.                     1.66e+05\n",
       "==============================================================================\n",
       "\n",
       "Notes:\n",
       "[1] R² is computed without centering (uncentered) since the model does not contain a constant.\n",
       "[2] Standard Errors assume that the covariance matrix of the errors is correctly specified.\n",
       "[3] The condition number is large, 1.66e+05. This might indicate that there are\n",
       "strong multicollinearity or other numerical problems.\n",
       "\"\"\""
      ]
     },
     "execution_count": 10,
     "metadata": {},
     "output_type": "execute_result"
    }
   ],
   "source": [
    "lm_tot.summary()        "
   ]
  },
  {
   "cell_type": "code",
   "execution_count": 11,
   "metadata": {},
   "outputs": [
    {
     "data": {
      "text/plain": [
       "{'fit_time': array([0.03404069, 0.01196647, 0.01099849]),\n",
       " 'score_time': array([0.00299311, 0.00303602, 0.00399685]),\n",
       " 'test_neg_root_mean_squared_error': array([-129846.90934102, -131849.53459773, -135445.31156715]),\n",
       " 'test_r2': array([0.62852189, 0.63058781, 0.61366405])}"
      ]
     },
     "execution_count": 11,
     "metadata": {},
     "output_type": "execute_result"
    }
   ],
   "source": [
    "cv_tot"
   ]
  },
  {
   "cell_type": "code",
   "execution_count": 12,
   "metadata": {},
   "outputs": [],
   "source": [
    "cv_tot_2, lm_tot_2 = reg_lineal_multiple(df,['surface_covered_in_m2', 'lat', 'lon', 'precio_m2'] )"
   ]
  },
  {
   "cell_type": "code",
   "execution_count": 13,
   "metadata": {},
   "outputs": [
    {
     "data": {
      "text/html": [
       "<table class=\"simpletable\">\n",
       "<caption>OLS Regression Results</caption>\n",
       "<tr>\n",
       "  <th>Dep. Variable:</th>     <td>price_aprox_usd</td> <th>  R-squared (uncentered):</th>       <td>   0.813</td>  \n",
       "</tr>\n",
       "<tr>\n",
       "  <th>Model:</th>                   <td>OLS</td>       <th>  Adj. R-squared (uncentered):</th>  <td>   0.813</td>  \n",
       "</tr>\n",
       "<tr>\n",
       "  <th>Method:</th>             <td>Least Squares</td>  <th>  F-statistic:       </th>           <td>7.693e+04</td> \n",
       "</tr>\n",
       "<tr>\n",
       "  <th>Date:</th>             <td>Sat, 27 Nov 2021</td> <th>  Prob (F-statistic):</th>            <td>  0.00</td>   \n",
       "</tr>\n",
       "<tr>\n",
       "  <th>Time:</th>                 <td>15:38:10</td>     <th>  Log-Likelihood:    </th>          <td>-9.3501e+05</td>\n",
       "</tr>\n",
       "<tr>\n",
       "  <th>No. Observations:</th>      <td> 70758</td>      <th>  AIC:               </th>           <td>1.870e+06</td> \n",
       "</tr>\n",
       "<tr>\n",
       "  <th>Df Residuals:</th>          <td> 70754</td>      <th>  BIC:               </th>           <td>1.870e+06</td> \n",
       "</tr>\n",
       "<tr>\n",
       "  <th>Df Model:</th>              <td>     4</td>      <th>                     </th>               <td> </td>     \n",
       "</tr>\n",
       "<tr>\n",
       "  <th>Covariance Type:</th>      <td>nonrobust</td>    <th>                     </th>               <td> </td>     \n",
       "</tr>\n",
       "</table>\n",
       "<table class=\"simpletable\">\n",
       "<tr>\n",
       "            <td></td>               <th>coef</th>     <th>std err</th>      <th>t</th>      <th>P>|t|</th>  <th>[0.025</th>    <th>0.975]</th>  \n",
       "</tr>\n",
       "<tr>\n",
       "  <th>surface_covered_in_m2</th> <td> 1482.5581</td> <td>    4.495</td> <td>  329.806</td> <td> 0.000</td> <td> 1473.747</td> <td> 1491.369</td>\n",
       "</tr>\n",
       "<tr>\n",
       "  <th>lat</th>                   <td>  -79.7880</td> <td>  194.409</td> <td>   -0.410</td> <td> 0.682</td> <td> -460.829</td> <td>  301.253</td>\n",
       "</tr>\n",
       "<tr>\n",
       "  <th>lon</th>                   <td> 2036.5844</td> <td>  110.678</td> <td>   18.401</td> <td> 0.000</td> <td> 1819.656</td> <td> 2253.513</td>\n",
       "</tr>\n",
       "<tr>\n",
       "  <th>precio_m2</th>             <td>   88.6133</td> <td>    0.537</td> <td>  165.016</td> <td> 0.000</td> <td>   87.561</td> <td>   89.666</td>\n",
       "</tr>\n",
       "</table>\n",
       "<table class=\"simpletable\">\n",
       "<tr>\n",
       "  <th>Omnibus:</th>       <td>42014.166</td> <th>  Durbin-Watson:     </th>  <td>   2.011</td>  \n",
       "</tr>\n",
       "<tr>\n",
       "  <th>Prob(Omnibus):</th>  <td> 0.000</td>   <th>  Jarque-Bera (JB):  </th> <td>2125229.304</td>\n",
       "</tr>\n",
       "<tr>\n",
       "  <th>Skew:</th>           <td> 2.172</td>   <th>  Prob(JB):          </th>  <td>    0.00</td>  \n",
       "</tr>\n",
       "<tr>\n",
       "  <th>Kurtosis:</th>       <td>29.495</td>   <th>  Cond. No.          </th>  <td>    916.</td>  \n",
       "</tr>\n",
       "</table><br/><br/>Notes:<br/>[1] R² is computed without centering (uncentered) since the model does not contain a constant.<br/>[2] Standard Errors assume that the covariance matrix of the errors is correctly specified."
      ],
      "text/plain": [
       "<class 'statsmodels.iolib.summary.Summary'>\n",
       "\"\"\"\n",
       "                                 OLS Regression Results                                \n",
       "=======================================================================================\n",
       "Dep. Variable:        price_aprox_usd   R-squared (uncentered):                   0.813\n",
       "Model:                            OLS   Adj. R-squared (uncentered):              0.813\n",
       "Method:                 Least Squares   F-statistic:                          7.693e+04\n",
       "Date:                Sat, 27 Nov 2021   Prob (F-statistic):                        0.00\n",
       "Time:                        15:38:10   Log-Likelihood:                     -9.3501e+05\n",
       "No. Observations:               70758   AIC:                                  1.870e+06\n",
       "Df Residuals:                   70754   BIC:                                  1.870e+06\n",
       "Df Model:                           4                                                  \n",
       "Covariance Type:            nonrobust                                                  \n",
       "=========================================================================================\n",
       "                            coef    std err          t      P>|t|      [0.025      0.975]\n",
       "-----------------------------------------------------------------------------------------\n",
       "surface_covered_in_m2  1482.5581      4.495    329.806      0.000    1473.747    1491.369\n",
       "lat                     -79.7880    194.409     -0.410      0.682    -460.829     301.253\n",
       "lon                    2036.5844    110.678     18.401      0.000    1819.656    2253.513\n",
       "precio_m2                88.6133      0.537    165.016      0.000      87.561      89.666\n",
       "==============================================================================\n",
       "Omnibus:                    42014.166   Durbin-Watson:                   2.011\n",
       "Prob(Omnibus):                  0.000   Jarque-Bera (JB):          2125229.304\n",
       "Skew:                           2.172   Prob(JB):                         0.00\n",
       "Kurtosis:                      29.495   Cond. No.                         916.\n",
       "==============================================================================\n",
       "\n",
       "Notes:\n",
       "[1] R² is computed without centering (uncentered) since the model does not contain a constant.\n",
       "[2] Standard Errors assume that the covariance matrix of the errors is correctly specified.\n",
       "\"\"\""
      ]
     },
     "execution_count": 13,
     "metadata": {},
     "output_type": "execute_result"
    }
   ],
   "source": [
    "lm_tot_2.summary()"
   ]
  },
  {
   "cell_type": "code",
   "execution_count": 14,
   "metadata": {},
   "outputs": [
    {
     "data": {
      "text/plain": [
       "{'fit_time': array([0.01099944, 0.01000643, 0.01099873]),\n",
       " 'score_time': array([0.00400162, 0.00399828, 0.00400186]),\n",
       " 'test_neg_root_mean_squared_error': array([-130107.11851299, -132117.91489785, -135669.99954272]),\n",
       " 'test_r2': array([0.62703154, 0.6290824 , 0.61238122])}"
      ]
     },
     "execution_count": 14,
     "metadata": {},
     "output_type": "execute_result"
    }
   ],
   "source": [
    "cv_tot_2"
   ]
  },
  {
   "cell_type": "code",
   "execution_count": 15,
   "metadata": {},
   "outputs": [],
   "source": [
    "def error(ground_truth, prediction):\n",
    "\n",
    "    r2 = r2_score(ground_truth, prediction)\n",
    "    RMSE = mean_squared_error(ground_truth, prediction, squared= False)\n",
    "\n",
    "\n",
    "    print('R2:' , round(r2, 4))\n",
    "    print ('RMSE:' , round(RMSE))\n",
    "\n",
    "    return r2, RMSE"
   ]
  },
  {
   "cell_type": "code",
   "execution_count": 16,
   "metadata": {},
   "outputs": [],
   "source": [
    "X = df[['surface_covered_in_m2', 'lat', 'lon', 'precio_m2']]\n",
    "y = df.price_aprox_usd\n",
    "X_train, X_test, y_train, y_test = train_test_split(X, y, random_state=7)"
   ]
  },
  {
   "cell_type": "code",
   "execution_count": 17,
   "metadata": {},
   "outputs": [
    {
     "name": "stdout",
     "output_type": "stream",
     "text": [
      "R2: 0.6274\n",
      "RMSE: 132205\n"
     ]
    },
    {
     "data": {
      "text/plain": [
       "(0.6273859489781655, 132204.72926813248)"
      ]
     },
     "execution_count": 17,
     "metadata": {},
     "output_type": "execute_result"
    }
   ],
   "source": [
    "#errores en test\n",
    "predictions = lm_tot_2.predict(X_test)\n",
    "\n",
    "error(y_test, predictions)"
   ]
  },
  {
   "cell_type": "code",
   "execution_count": 18,
   "metadata": {},
   "outputs": [
    {
     "name": "stdout",
     "output_type": "stream",
     "text": [
      "R2: 0.6229\n",
      "RMSE: 132620\n"
     ]
    },
    {
     "data": {
      "text/plain": [
       "(0.6229468461959673, 132620.02513876674)"
      ]
     },
     "execution_count": 18,
     "metadata": {},
     "output_type": "execute_result"
    }
   ],
   "source": [
    "#errores en train\n",
    "predictions = lm_tot_2.predict(X_train)\n",
    "\n",
    "error(y_train, predictions)"
   ]
  },
  {
   "cell_type": "markdown",
   "metadata": {},
   "source": [
    "## Departamento"
   ]
  },
  {
   "cell_type": "code",
   "execution_count": 19,
   "metadata": {},
   "outputs": [],
   "source": [
    "df_depto= pd.read_csv('./data/df_depto.csv')"
   ]
  },
  {
   "cell_type": "code",
   "execution_count": 20,
   "metadata": {},
   "outputs": [
    {
     "data": {
      "text/html": [
       "<table class=\"simpletable\">\n",
       "<caption>OLS Regression Results</caption>\n",
       "<tr>\n",
       "  <th>Dep. Variable:</th>     <td>price_aprox_usd</td> <th>  R-squared (uncentered):</th>       <td>   0.833</td>  \n",
       "</tr>\n",
       "<tr>\n",
       "  <th>Model:</th>                   <td>OLS</td>       <th>  Adj. R-squared (uncentered):</th>  <td>   0.833</td>  \n",
       "</tr>\n",
       "<tr>\n",
       "  <th>Method:</th>             <td>Least Squares</td>  <th>  F-statistic:       </th>           <td>5.221e+04</td> \n",
       "</tr>\n",
       "<tr>\n",
       "  <th>Date:</th>             <td>Sat, 27 Nov 2021</td> <th>  Prob (F-statistic):</th>            <td>  0.00</td>   \n",
       "</tr>\n",
       "<tr>\n",
       "  <th>Time:</th>                 <td>15:38:10</td>     <th>  Log-Likelihood:    </th>          <td>-5.3735e+05</td>\n",
       "</tr>\n",
       "<tr>\n",
       "  <th>No. Observations:</th>      <td> 41874</td>      <th>  AIC:               </th>           <td>1.075e+06</td> \n",
       "</tr>\n",
       "<tr>\n",
       "  <th>Df Residuals:</th>          <td> 41870</td>      <th>  BIC:               </th>           <td>1.075e+06</td> \n",
       "</tr>\n",
       "<tr>\n",
       "  <th>Df Model:</th>              <td>     4</td>      <th>                     </th>               <td> </td>     \n",
       "</tr>\n",
       "<tr>\n",
       "  <th>Covariance Type:</th>      <td>nonrobust</td>    <th>                     </th>               <td> </td>     \n",
       "</tr>\n",
       "</table>\n",
       "<table class=\"simpletable\">\n",
       "<tr>\n",
       "            <td></td>               <th>coef</th>     <th>std err</th>      <th>t</th>      <th>P>|t|</th>  <th>[0.025</th>    <th>0.975]</th>  \n",
       "</tr>\n",
       "<tr>\n",
       "  <th>surface_covered_in_m2</th> <td> 2346.6148</td> <td>   11.930</td> <td>  196.694</td> <td> 0.000</td> <td> 2323.231</td> <td> 2369.998</td>\n",
       "</tr>\n",
       "<tr>\n",
       "  <th>lat</th>                   <td> 1156.0407</td> <td>  181.082</td> <td>    6.384</td> <td> 0.000</td> <td>  801.117</td> <td> 1510.965</td>\n",
       "</tr>\n",
       "<tr>\n",
       "  <th>lon</th>                   <td> 1813.5341</td> <td>  102.483</td> <td>   17.696</td> <td> 0.000</td> <td> 1612.665</td> <td> 2014.403</td>\n",
       "</tr>\n",
       "<tr>\n",
       "  <th>precio_m2</th>             <td>   74.5342</td> <td>    0.488</td> <td>  152.749</td> <td> 0.000</td> <td>   73.578</td> <td>   75.491</td>\n",
       "</tr>\n",
       "</table>\n",
       "<table class=\"simpletable\">\n",
       "<tr>\n",
       "  <th>Omnibus:</th>       <td>39038.515</td> <th>  Durbin-Watson:     </th>  <td>   2.003</td>  \n",
       "</tr>\n",
       "<tr>\n",
       "  <th>Prob(Omnibus):</th>  <td> 0.000</td>   <th>  Jarque-Bera (JB):  </th> <td>2285387.804</td>\n",
       "</tr>\n",
       "<tr>\n",
       "  <th>Skew:</th>           <td> 4.411</td>   <th>  Prob(JB):          </th>  <td>    0.00</td>  \n",
       "</tr>\n",
       "<tr>\n",
       "  <th>Kurtosis:</th>       <td>38.100</td>   <th>  Cond. No.          </th>  <td>1.10e+03</td>  \n",
       "</tr>\n",
       "</table><br/><br/>Notes:<br/>[1] R² is computed without centering (uncentered) since the model does not contain a constant.<br/>[2] Standard Errors assume that the covariance matrix of the errors is correctly specified.<br/>[3] The condition number is large, 1.1e+03. This might indicate that there are<br/>strong multicollinearity or other numerical problems."
      ],
      "text/plain": [
       "<class 'statsmodels.iolib.summary.Summary'>\n",
       "\"\"\"\n",
       "                                 OLS Regression Results                                \n",
       "=======================================================================================\n",
       "Dep. Variable:        price_aprox_usd   R-squared (uncentered):                   0.833\n",
       "Model:                            OLS   Adj. R-squared (uncentered):              0.833\n",
       "Method:                 Least Squares   F-statistic:                          5.221e+04\n",
       "Date:                Sat, 27 Nov 2021   Prob (F-statistic):                        0.00\n",
       "Time:                        15:38:10   Log-Likelihood:                     -5.3735e+05\n",
       "No. Observations:               41874   AIC:                                  1.075e+06\n",
       "Df Residuals:                   41870   BIC:                                  1.075e+06\n",
       "Df Model:                           4                                                  \n",
       "Covariance Type:            nonrobust                                                  \n",
       "=========================================================================================\n",
       "                            coef    std err          t      P>|t|      [0.025      0.975]\n",
       "-----------------------------------------------------------------------------------------\n",
       "surface_covered_in_m2  2346.6148     11.930    196.694      0.000    2323.231    2369.998\n",
       "lat                    1156.0407    181.082      6.384      0.000     801.117    1510.965\n",
       "lon                    1813.5341    102.483     17.696      0.000    1612.665    2014.403\n",
       "precio_m2                74.5342      0.488    152.749      0.000      73.578      75.491\n",
       "==============================================================================\n",
       "Omnibus:                    39038.515   Durbin-Watson:                   2.003\n",
       "Prob(Omnibus):                  0.000   Jarque-Bera (JB):          2285387.804\n",
       "Skew:                           4.411   Prob(JB):                         0.00\n",
       "Kurtosis:                      38.100   Cond. No.                     1.10e+03\n",
       "==============================================================================\n",
       "\n",
       "Notes:\n",
       "[1] R² is computed without centering (uncentered) since the model does not contain a constant.\n",
       "[2] Standard Errors assume that the covariance matrix of the errors is correctly specified.\n",
       "[3] The condition number is large, 1.1e+03. This might indicate that there are\n",
       "strong multicollinearity or other numerical problems.\n",
       "\"\"\""
      ]
     },
     "execution_count": 20,
     "metadata": {},
     "output_type": "execute_result"
    }
   ],
   "source": [
    "cv_depto, lm_depto = reg_lineal_multiple(df_depto,['surface_covered_in_m2', 'lat', 'lon', 'precio_m2'] )\n",
    "lm_depto.summary()"
   ]
  },
  {
   "cell_type": "code",
   "execution_count": 21,
   "metadata": {},
   "outputs": [
    {
     "data": {
      "text/plain": [
       "{'fit_time': array([0.01101971, 0.01199913, 0.01099968]),\n",
       " 'score_time': array([0.00498176, 0.00400066, 0.00399709]),\n",
       " 'test_neg_root_mean_squared_error': array([-90686.18905182, -91570.10491446, -89434.29432423]),\n",
       " 'test_r2': array([0.61870272, 0.6335927 , 0.6340603 ])}"
      ]
     },
     "execution_count": 21,
     "metadata": {},
     "output_type": "execute_result"
    }
   ],
   "source": [
    "cv_depto"
   ]
  },
  {
   "cell_type": "markdown",
   "metadata": {},
   "source": [
    "## Casas\n"
   ]
  },
  {
   "cell_type": "code",
   "execution_count": 22,
   "metadata": {},
   "outputs": [],
   "source": [
    "df_casa= pd.read_csv('./data/df_casa.csv')"
   ]
  },
  {
   "cell_type": "code",
   "execution_count": 23,
   "metadata": {},
   "outputs": [
    {
     "data": {
      "text/html": [
       "<table class=\"simpletable\">\n",
       "<caption>OLS Regression Results</caption>\n",
       "<tr>\n",
       "  <th>Dep. Variable:</th>     <td>price_aprox_usd</td> <th>  R-squared (uncentered):</th>       <td>   0.825</td>  \n",
       "</tr>\n",
       "<tr>\n",
       "  <th>Model:</th>                   <td>OLS</td>       <th>  Adj. R-squared (uncentered):</th>  <td>   0.825</td>  \n",
       "</tr>\n",
       "<tr>\n",
       "  <th>Method:</th>             <td>Least Squares</td>  <th>  F-statistic:       </th>           <td>2.762e+04</td> \n",
       "</tr>\n",
       "<tr>\n",
       "  <th>Date:</th>             <td>Sat, 27 Nov 2021</td> <th>  Prob (F-statistic):</th>            <td>  0.00</td>   \n",
       "</tr>\n",
       "<tr>\n",
       "  <th>Time:</th>                 <td>15:38:10</td>     <th>  Log-Likelihood:    </th>          <td>-3.1654e+05</td>\n",
       "</tr>\n",
       "<tr>\n",
       "  <th>No. Observations:</th>      <td> 23469</td>      <th>  AIC:               </th>           <td>6.331e+05</td> \n",
       "</tr>\n",
       "<tr>\n",
       "  <th>Df Residuals:</th>          <td> 23465</td>      <th>  BIC:               </th>           <td>6.331e+05</td> \n",
       "</tr>\n",
       "<tr>\n",
       "  <th>Df Model:</th>              <td>     4</td>      <th>                     </th>               <td> </td>     \n",
       "</tr>\n",
       "<tr>\n",
       "  <th>Covariance Type:</th>      <td>nonrobust</td>    <th>                     </th>               <td> </td>     \n",
       "</tr>\n",
       "</table>\n",
       "<table class=\"simpletable\">\n",
       "<tr>\n",
       "            <td></td>               <th>coef</th>     <th>std err</th>      <th>t</th>      <th>P>|t|</th>  <th>[0.025</th>    <th>0.975]</th>  \n",
       "</tr>\n",
       "<tr>\n",
       "  <th>surface_covered_in_m2</th> <td> 1387.1782</td> <td>    8.799</td> <td>  157.654</td> <td> 0.000</td> <td> 1369.932</td> <td> 1404.425</td>\n",
       "</tr>\n",
       "<tr>\n",
       "  <th>lat</th>                   <td>-2544.2629</td> <td>  410.017</td> <td>   -6.205</td> <td> 0.000</td> <td>-3347.923</td> <td>-1740.603</td>\n",
       "</tr>\n",
       "<tr>\n",
       "  <th>lon</th>                   <td> 3842.2153</td> <td>  235.175</td> <td>   16.338</td> <td> 0.000</td> <td> 3381.257</td> <td> 4303.174</td>\n",
       "</tr>\n",
       "<tr>\n",
       "  <th>precio_m2</th>             <td>  134.0058</td> <td>    1.645</td> <td>   81.448</td> <td> 0.000</td> <td>  130.781</td> <td>  137.231</td>\n",
       "</tr>\n",
       "</table>\n",
       "<table class=\"simpletable\">\n",
       "<tr>\n",
       "  <th>Omnibus:</th>       <td>11901.900</td> <th>  Durbin-Watson:     </th>  <td>   1.996</td> \n",
       "</tr>\n",
       "<tr>\n",
       "  <th>Prob(Omnibus):</th>  <td> 0.000</td>   <th>  Jarque-Bera (JB):  </th> <td>338042.362</td>\n",
       "</tr>\n",
       "<tr>\n",
       "  <th>Skew:</th>           <td> 1.872</td>   <th>  Prob(JB):          </th>  <td>    0.00</td> \n",
       "</tr>\n",
       "<tr>\n",
       "  <th>Kurtosis:</th>       <td>21.212</td>   <th>  Cond. No.          </th>  <td>    585.</td> \n",
       "</tr>\n",
       "</table><br/><br/>Notes:<br/>[1] R² is computed without centering (uncentered) since the model does not contain a constant.<br/>[2] Standard Errors assume that the covariance matrix of the errors is correctly specified."
      ],
      "text/plain": [
       "<class 'statsmodels.iolib.summary.Summary'>\n",
       "\"\"\"\n",
       "                                 OLS Regression Results                                \n",
       "=======================================================================================\n",
       "Dep. Variable:        price_aprox_usd   R-squared (uncentered):                   0.825\n",
       "Model:                            OLS   Adj. R-squared (uncentered):              0.825\n",
       "Method:                 Least Squares   F-statistic:                          2.762e+04\n",
       "Date:                Sat, 27 Nov 2021   Prob (F-statistic):                        0.00\n",
       "Time:                        15:38:10   Log-Likelihood:                     -3.1654e+05\n",
       "No. Observations:               23469   AIC:                                  6.331e+05\n",
       "Df Residuals:                   23465   BIC:                                  6.331e+05\n",
       "Df Model:                           4                                                  \n",
       "Covariance Type:            nonrobust                                                  \n",
       "=========================================================================================\n",
       "                            coef    std err          t      P>|t|      [0.025      0.975]\n",
       "-----------------------------------------------------------------------------------------\n",
       "surface_covered_in_m2  1387.1782      8.799    157.654      0.000    1369.932    1404.425\n",
       "lat                   -2544.2629    410.017     -6.205      0.000   -3347.923   -1740.603\n",
       "lon                    3842.2153    235.175     16.338      0.000    3381.257    4303.174\n",
       "precio_m2               134.0058      1.645     81.448      0.000     130.781     137.231\n",
       "==============================================================================\n",
       "Omnibus:                    11901.900   Durbin-Watson:                   1.996\n",
       "Prob(Omnibus):                  0.000   Jarque-Bera (JB):           338042.362\n",
       "Skew:                           1.872   Prob(JB):                         0.00\n",
       "Kurtosis:                      21.212   Cond. No.                         585.\n",
       "==============================================================================\n",
       "\n",
       "Notes:\n",
       "[1] R² is computed without centering (uncentered) since the model does not contain a constant.\n",
       "[2] Standard Errors assume that the covariance matrix of the errors is correctly specified.\n",
       "\"\"\""
      ]
     },
     "execution_count": 23,
     "metadata": {},
     "output_type": "execute_result"
    }
   ],
   "source": [
    "cv_casa, lm_casa = reg_lineal_multiple(df_casa,['surface_covered_in_m2', 'lat', 'lon', 'precio_m2'] )\n",
    "lm_casa.summary()"
   ]
  },
  {
   "cell_type": "code",
   "execution_count": 24,
   "metadata": {},
   "outputs": [
    {
     "data": {
      "text/plain": [
       "{'fit_time': array([0.00899696, 0.00699878, 0.00399566]),\n",
       " 'score_time': array([0.00400543, 0.00500584, 0.00400257]),\n",
       " 'test_neg_root_mean_squared_error': array([-179640.93914502, -169161.88528476, -174138.30262622]),\n",
       " 'test_r2': array([0.59088075, 0.59128458, 0.5937422 ])}"
      ]
     },
     "execution_count": 24,
     "metadata": {},
     "output_type": "execute_result"
    }
   ],
   "source": [
    "cv_casa"
   ]
  },
  {
   "cell_type": "markdown",
   "metadata": {},
   "source": [
    "## Store\n"
   ]
  },
  {
   "cell_type": "code",
   "execution_count": 25,
   "metadata": {},
   "outputs": [],
   "source": [
    "df_store = pd.read_csv('./data/df_store.csv')"
   ]
  },
  {
   "cell_type": "code",
   "execution_count": 26,
   "metadata": {},
   "outputs": [
    {
     "data": {
      "text/html": [
       "<table class=\"simpletable\">\n",
       "<caption>OLS Regression Results</caption>\n",
       "<tr>\n",
       "  <th>Dep. Variable:</th>     <td>price_aprox_usd</td> <th>  R-squared (uncentered):</th>      <td>   0.812</td> \n",
       "</tr>\n",
       "<tr>\n",
       "  <th>Model:</th>                   <td>OLS</td>       <th>  Adj. R-squared (uncentered):</th> <td>   0.811</td> \n",
       "</tr>\n",
       "<tr>\n",
       "  <th>Method:</th>             <td>Least Squares</td>  <th>  F-statistic:       </th>          <td>   2271.</td> \n",
       "</tr>\n",
       "<tr>\n",
       "  <th>Date:</th>             <td>Sat, 27 Nov 2021</td> <th>  Prob (F-statistic):</th>           <td>  0.00</td>  \n",
       "</tr>\n",
       "<tr>\n",
       "  <th>Time:</th>                 <td>15:38:11</td>     <th>  Log-Likelihood:    </th>          <td> -28809.</td> \n",
       "</tr>\n",
       "<tr>\n",
       "  <th>No. Observations:</th>      <td>  2113</td>      <th>  AIC:               </th>          <td>5.763e+04</td>\n",
       "</tr>\n",
       "<tr>\n",
       "  <th>Df Residuals:</th>          <td>  2109</td>      <th>  BIC:               </th>          <td>5.765e+04</td>\n",
       "</tr>\n",
       "<tr>\n",
       "  <th>Df Model:</th>              <td>     4</td>      <th>                     </th>              <td> </td>    \n",
       "</tr>\n",
       "<tr>\n",
       "  <th>Covariance Type:</th>      <td>nonrobust</td>    <th>                     </th>              <td> </td>    \n",
       "</tr>\n",
       "</table>\n",
       "<table class=\"simpletable\">\n",
       "<tr>\n",
       "            <td></td>               <th>coef</th>     <th>std err</th>      <th>t</th>      <th>P>|t|</th>  <th>[0.025</th>    <th>0.975]</th>  \n",
       "</tr>\n",
       "<tr>\n",
       "  <th>surface_covered_in_m2</th> <td> 1145.6218</td> <td>   20.430</td> <td>   56.075</td> <td> 0.000</td> <td> 1105.556</td> <td> 1185.687</td>\n",
       "</tr>\n",
       "<tr>\n",
       "  <th>lat</th>                   <td>  163.9944</td> <td> 1568.439</td> <td>    0.105</td> <td> 0.917</td> <td>-2911.855</td> <td> 3239.844</td>\n",
       "</tr>\n",
       "<tr>\n",
       "  <th>lon</th>                   <td> 1789.7612</td> <td>  890.030</td> <td>    2.011</td> <td> 0.044</td> <td>   44.332</td> <td> 3535.190</td>\n",
       "</tr>\n",
       "<tr>\n",
       "  <th>precio_m2</th>             <td>  106.7411</td> <td>    3.516</td> <td>   30.362</td> <td> 0.000</td> <td>   99.847</td> <td>  113.635</td>\n",
       "</tr>\n",
       "</table>\n",
       "<table class=\"simpletable\">\n",
       "<tr>\n",
       "  <th>Omnibus:</th>       <td>647.523</td> <th>  Durbin-Watson:     </th> <td>   2.005</td>\n",
       "</tr>\n",
       "<tr>\n",
       "  <th>Prob(Omnibus):</th> <td> 0.000</td>  <th>  Jarque-Bera (JB):  </th> <td>5025.344</td>\n",
       "</tr>\n",
       "<tr>\n",
       "  <th>Skew:</th>          <td> 1.225</td>  <th>  Prob(JB):          </th> <td>    0.00</td>\n",
       "</tr>\n",
       "<tr>\n",
       "  <th>Kurtosis:</th>      <td>10.147</td>  <th>  Cond. No.          </th> <td>    931.</td>\n",
       "</tr>\n",
       "</table><br/><br/>Notes:<br/>[1] R² is computed without centering (uncentered) since the model does not contain a constant.<br/>[2] Standard Errors assume that the covariance matrix of the errors is correctly specified."
      ],
      "text/plain": [
       "<class 'statsmodels.iolib.summary.Summary'>\n",
       "\"\"\"\n",
       "                                 OLS Regression Results                                \n",
       "=======================================================================================\n",
       "Dep. Variable:        price_aprox_usd   R-squared (uncentered):                   0.812\n",
       "Model:                            OLS   Adj. R-squared (uncentered):              0.811\n",
       "Method:                 Least Squares   F-statistic:                              2271.\n",
       "Date:                Sat, 27 Nov 2021   Prob (F-statistic):                        0.00\n",
       "Time:                        15:38:11   Log-Likelihood:                         -28809.\n",
       "No. Observations:                2113   AIC:                                  5.763e+04\n",
       "Df Residuals:                    2109   BIC:                                  5.765e+04\n",
       "Df Model:                           4                                                  \n",
       "Covariance Type:            nonrobust                                                  \n",
       "=========================================================================================\n",
       "                            coef    std err          t      P>|t|      [0.025      0.975]\n",
       "-----------------------------------------------------------------------------------------\n",
       "surface_covered_in_m2  1145.6218     20.430     56.075      0.000    1105.556    1185.687\n",
       "lat                     163.9944   1568.439      0.105      0.917   -2911.855    3239.844\n",
       "lon                    1789.7612    890.030      2.011      0.044      44.332    3535.190\n",
       "precio_m2               106.7411      3.516     30.362      0.000      99.847     113.635\n",
       "==============================================================================\n",
       "Omnibus:                      647.523   Durbin-Watson:                   2.005\n",
       "Prob(Omnibus):                  0.000   Jarque-Bera (JB):             5025.344\n",
       "Skew:                           1.225   Prob(JB):                         0.00\n",
       "Kurtosis:                      10.147   Cond. No.                         931.\n",
       "==============================================================================\n",
       "\n",
       "Notes:\n",
       "[1] R² is computed without centering (uncentered) since the model does not contain a constant.\n",
       "[2] Standard Errors assume that the covariance matrix of the errors is correctly specified.\n",
       "\"\"\""
      ]
     },
     "execution_count": 26,
     "metadata": {},
     "output_type": "execute_result"
    }
   ],
   "source": [
    "cv_store, lm_store = reg_lineal_multiple(df_store,['surface_covered_in_m2', 'lat', 'lon', 'precio_m2'] )\n",
    "lm_store.summary()"
   ]
  },
  {
   "cell_type": "code",
   "execution_count": 27,
   "metadata": {},
   "outputs": [
    {
     "data": {
      "text/plain": [
       "{'fit_time': array([0.00299525, 0.00400591, 0.00400019]),\n",
       " 'score_time': array([0.00200057, 0.00499606, 0.00299501]),\n",
       " 'test_neg_root_mean_squared_error': array([-206900.49493298, -201572.68158073, -198370.36830473]),\n",
       " 'test_r2': array([0.61854755, 0.59863054, 0.63319761])}"
      ]
     },
     "execution_count": 27,
     "metadata": {},
     "output_type": "execute_result"
    }
   ],
   "source": [
    "cv_store"
   ]
  },
  {
   "cell_type": "markdown",
   "metadata": {},
   "source": [
    "## PH\n"
   ]
  },
  {
   "cell_type": "code",
   "execution_count": 28,
   "metadata": {},
   "outputs": [],
   "source": [
    "df_ph= pd.read_csv('./data/df_ph.csv')"
   ]
  },
  {
   "cell_type": "code",
   "execution_count": 29,
   "metadata": {},
   "outputs": [
    {
     "data": {
      "text/html": [
       "<table class=\"simpletable\">\n",
       "<caption>OLS Regression Results</caption>\n",
       "<tr>\n",
       "  <th>Dep. Variable:</th>     <td>price_aprox_usd</td> <th>  R-squared (uncentered):</th>      <td>   0.912</td> \n",
       "</tr>\n",
       "<tr>\n",
       "  <th>Model:</th>                   <td>OLS</td>       <th>  Adj. R-squared (uncentered):</th> <td>   0.912</td> \n",
       "</tr>\n",
       "<tr>\n",
       "  <th>Method:</th>             <td>Least Squares</td>  <th>  F-statistic:       </th>          <td>   8575.</td> \n",
       "</tr>\n",
       "<tr>\n",
       "  <th>Date:</th>             <td>Sat, 27 Nov 2021</td> <th>  Prob (F-statistic):</th>           <td>  0.00</td>  \n",
       "</tr>\n",
       "<tr>\n",
       "  <th>Time:</th>                 <td>15:38:11</td>     <th>  Log-Likelihood:    </th>          <td> -40067.</td> \n",
       "</tr>\n",
       "<tr>\n",
       "  <th>No. Observations:</th>      <td>  3300</td>      <th>  AIC:               </th>          <td>8.014e+04</td>\n",
       "</tr>\n",
       "<tr>\n",
       "  <th>Df Residuals:</th>          <td>  3296</td>      <th>  BIC:               </th>          <td>8.017e+04</td>\n",
       "</tr>\n",
       "<tr>\n",
       "  <th>Df Model:</th>              <td>     4</td>      <th>                     </th>              <td> </td>    \n",
       "</tr>\n",
       "<tr>\n",
       "  <th>Covariance Type:</th>      <td>nonrobust</td>    <th>                     </th>              <td> </td>    \n",
       "</tr>\n",
       "</table>\n",
       "<table class=\"simpletable\">\n",
       "<tr>\n",
       "            <td></td>               <th>coef</th>     <th>std err</th>      <th>t</th>      <th>P>|t|</th>  <th>[0.025</th>    <th>0.975]</th>  \n",
       "</tr>\n",
       "<tr>\n",
       "  <th>surface_covered_in_m2</th> <td> 1222.1905</td> <td>   19.473</td> <td>   62.765</td> <td> 0.000</td> <td> 1184.011</td> <td> 1260.370</td>\n",
       "</tr>\n",
       "<tr>\n",
       "  <th>lat</th>                   <td>  770.9124</td> <td>  383.361</td> <td>    2.011</td> <td> 0.044</td> <td>   19.262</td> <td> 1522.562</td>\n",
       "</tr>\n",
       "<tr>\n",
       "  <th>lon</th>                   <td>  417.8127</td> <td>  228.437</td> <td>    1.829</td> <td> 0.067</td> <td>  -30.080</td> <td>  865.705</td>\n",
       "</tr>\n",
       "<tr>\n",
       "  <th>precio_m2</th>             <td>   55.6249</td> <td>    1.345</td> <td>   41.353</td> <td> 0.000</td> <td>   52.988</td> <td>   58.262</td>\n",
       "</tr>\n",
       "</table>\n",
       "<table class=\"simpletable\">\n",
       "<tr>\n",
       "  <th>Omnibus:</th>       <td>463.812</td> <th>  Durbin-Watson:     </th> <td>   2.007</td>\n",
       "</tr>\n",
       "<tr>\n",
       "  <th>Prob(Omnibus):</th> <td> 0.000</td>  <th>  Jarque-Bera (JB):  </th> <td>4133.296</td>\n",
       "</tr>\n",
       "<tr>\n",
       "  <th>Skew:</th>          <td> 0.369</td>  <th>  Prob(JB):          </th> <td>    0.00</td>\n",
       "</tr>\n",
       "<tr>\n",
       "  <th>Kurtosis:</th>      <td> 8.433</td>  <th>  Cond. No.          </th> <td>    898.</td>\n",
       "</tr>\n",
       "</table><br/><br/>Notes:<br/>[1] R² is computed without centering (uncentered) since the model does not contain a constant.<br/>[2] Standard Errors assume that the covariance matrix of the errors is correctly specified."
      ],
      "text/plain": [
       "<class 'statsmodels.iolib.summary.Summary'>\n",
       "\"\"\"\n",
       "                                 OLS Regression Results                                \n",
       "=======================================================================================\n",
       "Dep. Variable:        price_aprox_usd   R-squared (uncentered):                   0.912\n",
       "Model:                            OLS   Adj. R-squared (uncentered):              0.912\n",
       "Method:                 Least Squares   F-statistic:                              8575.\n",
       "Date:                Sat, 27 Nov 2021   Prob (F-statistic):                        0.00\n",
       "Time:                        15:38:11   Log-Likelihood:                         -40067.\n",
       "No. Observations:                3300   AIC:                                  8.014e+04\n",
       "Df Residuals:                    3296   BIC:                                  8.017e+04\n",
       "Df Model:                           4                                                  \n",
       "Covariance Type:            nonrobust                                                  \n",
       "=========================================================================================\n",
       "                            coef    std err          t      P>|t|      [0.025      0.975]\n",
       "-----------------------------------------------------------------------------------------\n",
       "surface_covered_in_m2  1222.1905     19.473     62.765      0.000    1184.011    1260.370\n",
       "lat                     770.9124    383.361      2.011      0.044      19.262    1522.562\n",
       "lon                     417.8127    228.437      1.829      0.067     -30.080     865.705\n",
       "precio_m2                55.6249      1.345     41.353      0.000      52.988      58.262\n",
       "==============================================================================\n",
       "Omnibus:                      463.812   Durbin-Watson:                   2.007\n",
       "Prob(Omnibus):                  0.000   Jarque-Bera (JB):             4133.296\n",
       "Skew:                           0.369   Prob(JB):                         0.00\n",
       "Kurtosis:                       8.433   Cond. No.                         898.\n",
       "==============================================================================\n",
       "\n",
       "Notes:\n",
       "[1] R² is computed without centering (uncentered) since the model does not contain a constant.\n",
       "[2] Standard Errors assume that the covariance matrix of the errors is correctly specified.\n",
       "\"\"\""
      ]
     },
     "execution_count": 29,
     "metadata": {},
     "output_type": "execute_result"
    }
   ],
   "source": [
    "cv_ph, lm_ph = reg_lineal_multiple(df_ph,['surface_covered_in_m2', 'lat', 'lon', 'precio_m2'] )\n",
    "lm_ph.summary()"
   ]
  },
  {
   "cell_type": "code",
   "execution_count": 30,
   "metadata": {},
   "outputs": [
    {
     "data": {
      "text/plain": [
       "{'fit_time': array([0.0040071 , 0.0070076 , 0.00399852]),\n",
       " 'score_time': array([0.00299621, 0.00599408, 0.00199986]),\n",
       " 'test_neg_root_mean_squared_error': array([-45055.59766148, -46121.08302842, -45211.19636071]),\n",
       " 'test_r2': array([0.60354689, 0.5837611 , 0.59441566])}"
      ]
     },
     "execution_count": 30,
     "metadata": {},
     "output_type": "execute_result"
    }
   ],
   "source": [
    "cv_ph"
   ]
  },
  {
   "cell_type": "code",
   "execution_count": 31,
   "metadata": {},
   "outputs": [],
   "source": [
    "rmse_dict = {'RMSE_ph' : cv_ph['test_neg_root_mean_squared_error'] , 'RMSE_casa':cv_casa['test_neg_root_mean_squared_error'], 'RMSE_depto':cv_depto['test_neg_root_mean_squared_error'], 'RMSE_store':cv_store['test_neg_root_mean_squared_error'], 'RMSE':cv_tot_2['test_neg_root_mean_squared_error']}"
   ]
  },
  {
   "cell_type": "code",
   "execution_count": 32,
   "metadata": {},
   "outputs": [],
   "source": [
    "df_plot = pd.DataFrame(rmse_dict)"
   ]
  },
  {
   "cell_type": "code",
   "execution_count": 33,
   "metadata": {},
   "outputs": [],
   "source": [
    "df_plot[['RMSE', 'RMSE_store','RMSE_casa', 'RMSE_depto', 'RMSE_ph']] = df_plot[['RMSE', 'RMSE_store','RMSE_casa', 'RMSE_depto', 'RMSE_ph']] * -1"
   ]
  },
  {
   "cell_type": "code",
   "execution_count": 34,
   "metadata": {},
   "outputs": [],
   "source": [
    "df_plot['model'] = 'multivariable'"
   ]
  },
  {
   "cell_type": "code",
   "execution_count": 35,
   "metadata": {},
   "outputs": [
    {
     "data": {
      "text/plain": [
       "<AxesSubplot:>"
      ]
     },
     "execution_count": 35,
     "metadata": {},
     "output_type": "execute_result"
    },
    {
     "data": {
      "image/png": "[encoded data removed]",
      "text/plain": [
       "<Figure size 576x432 with 1 Axes>"
      ]
     },
     "metadata": {
      "needs_background": "light"
     },
     "output_type": "display_data"
    }
   ],
   "source": [
    "plt.figure(figsize=(8, 6))\n",
    "plt.ylim(0, 300000)\n",
    "sns.barplot(data=df_plot, palette= 'magma')"
   ]
  },
  {
   "cell_type": "code",
   "execution_count": 36,
   "metadata": {},
   "outputs": [],
   "source": [
    "df_RMSE_lineal = pd.read_csv('./data/RMSE_lineal_simple.csv')"
   ]
  },
  {
   "cell_type": "code",
   "execution_count": 37,
   "metadata": {},
   "outputs": [],
   "source": [
    "df_RMSE_lineal['model'] ='lineal'"
   ]
  },
  {
   "cell_type": "code",
   "execution_count": 38,
   "metadata": {},
   "outputs": [],
   "source": [
    "df_plot = pd.concat([df_RMSE_lineal,df_plot])"
   ]
  },
  {
   "cell_type": "code",
   "execution_count": 39,
   "metadata": {},
   "outputs": [],
   "source": [
    "df_plot = pd.melt(df_plot, id_vars=['model'])"
   ]
  },
  {
   "cell_type": "code",
   "execution_count": 40,
   "metadata": {},
   "outputs": [
    {
     "data": {
      "text/html": [
       "<div>\n",
       "<style scoped>\n",
       "    .dataframe tbody tr th:only-of-type {\n",
       "        vertical-align: middle;\n",
       "    }\n",
       "\n",
       "    .dataframe tbody tr th {\n",
       "        vertical-align: top;\n",
       "    }\n",
       "\n",
       "    .dataframe thead th {\n",
       "        text-align: right;\n",
       "    }\n",
       "</style>\n",
       "<table border=\"1\" class=\"dataframe\">\n",
       "  <thead>\n",
       "    <tr style=\"text-align: right;\">\n",
       "      <th></th>\n",
       "      <th>model</th>\n",
       "      <th>variable</th>\n",
       "      <th>value</th>\n",
       "    </tr>\n",
       "  </thead>\n",
       "  <tbody>\n",
       "    <tr>\n",
       "      <th>21</th>\n",
       "      <td>multivariable</td>\n",
       "      <td>RMSE_store</td>\n",
       "      <td>206900.494933</td>\n",
       "    </tr>\n",
       "    <tr>\n",
       "      <th>13</th>\n",
       "      <td>lineal</td>\n",
       "      <td>RMSE_depto</td>\n",
       "      <td>116132.906721</td>\n",
       "    </tr>\n",
       "  </tbody>\n",
       "</table>\n",
       "</div>"
      ],
      "text/plain": [
       "            model    variable          value\n",
       "21  multivariable  RMSE_store  206900.494933\n",
       "13         lineal  RMSE_depto  116132.906721"
      ]
     },
     "execution_count": 40,
     "metadata": {},
     "output_type": "execute_result"
    }
   ],
   "source": [
    "df_plot.sample(2)"
   ]
  },
  {
   "cell_type": "code",
   "execution_count": 41,
   "metadata": {},
   "outputs": [
    {
     "data": {
      "text/plain": [
       "<AxesSubplot:xlabel='variable', ylabel='value'>"
      ]
     },
     "execution_count": 41,
     "metadata": {},
     "output_type": "execute_result"
    },
    {
     "data": {
      "image/png": "[encoded data removed]",
      "text/plain": [
       "<Figure size 576x432 with 1 Axes>"
      ]
     },
     "metadata": {
      "needs_background": "light"
     },
     "output_type": "display_data"
    }
   ],
   "source": [
    "plt.figure(figsize=(8, 6))\n",
    "plt.ylim(0, 250000)\n",
    "sns.barplot(data= df_plot, x ='variable', y= 'value', hue= 'model', palette= 'magma')"
   ]
  },
  {
   "cell_type": "markdown",
   "id": "097b3edb",
   "metadata": {},
   "source": [
    "### Regularización"
   ]
  },
  {
   "cell_type": "markdown",
   "id": "34e83356",
   "metadata": {},
   "source": [
    "#### L2 = Regularización con Ridge"
   ]
  },
  {
   "cell_type": "code",
   "execution_count": 42,
   "id": "af96c41b",
   "metadata": {},
   "outputs": [],
   "source": [
    "# Regularización con Ridge\n",
    "\n",
    "from sklearn.preprocessing import StandardScaler\n",
    "\n",
    "X = df[['lat', 'lon', 'surface_covered_in_m2', 'distance_obelisco', 'precio_m2']]\n",
    "\n",
    "scaler = StandardScaler()\n",
    "\n",
    "X_std = scaler.fit_transform(X)\n",
    "\n",
    "y = df['price_aprox_usd']"
   ]
  },
  {
   "cell_type": "code",
   "execution_count": 43,
   "id": "3212c74c",
   "metadata": {},
   "outputs": [
    {
     "name": "stdout",
     "output_type": "stream",
     "text": [
      "El mejor valor de  𝜆  es:\n",
      "10.0\n",
      "El valor de  𝑅MSE  en train es:\n",
      "-132403.89670895878\n"
     ]
    }
   ],
   "source": [
    "X_train, X_test, y_train, y_test = train_test_split(X_std, y, test_size = 0.3, random_state = 117)\n",
    "\n",
    "model_ridge_cv = linear_model.RidgeCV(alphas= [0.3, 0.5, 1.0, 1.1, 1.15, 1.17, 1.18, 1.19, 1.2, 1.21, 1.22, 1.3, 1.4, 1.5, 10.0, 20, 50, 100], \n",
    "                                   fit_intercept=True, scoring='neg_root_mean_squared_error', normalize=False, cv=10)\n",
    "\n",
    "model_fit_ridge_cv = model_ridge_cv.fit(X_train, y_train)\n",
    "\n",
    "print('El mejor valor de  𝜆  es:')\n",
    "print(model_fit_ridge_cv.alpha_)\n",
    "print('El valor de  𝑅MSE  en train es:')\n",
    "print(model_fit_ridge_cv.best_score_)"
   ]
  },
  {
   "cell_type": "code",
   "execution_count": 44,
   "id": "18a51637",
   "metadata": {},
   "outputs": [
    {
     "name": "stdout",
     "output_type": "stream",
     "text": [
      "[ -1791.7478231  -15079.87542545 168647.89079284 -21094.95631564\n",
      "  83941.60468743]\n",
      "217501.01338899572\n",
      "0.6269125760161969\n"
     ]
    }
   ],
   "source": [
    "best_alpha = model_fit_ridge_cv.alpha_\n",
    "model_ridge = linear_model.Ridge(alpha = best_alpha, fit_intercept = True, normalize = False)\n",
    "model_fit_ridge = model_ridge.fit(X_train, y_train)\n",
    "print(model_fit_ridge.coef_)\n",
    "print(model_fit_ridge.intercept_)\n",
    "print(model_fit_ridge.score(X_train, y_train))"
   ]
  },
  {
   "cell_type": "code",
   "execution_count": 45,
   "metadata": {},
   "outputs": [],
   "source": [
    "pred= model_fit_ridge.predict(X_test)"
   ]
  },
  {
   "cell_type": "code",
   "execution_count": 46,
   "metadata": {},
   "outputs": [
    {
     "name": "stdout",
     "output_type": "stream",
     "text": [
      "R2: 0.6219\n",
      "RMSE: 131919\n"
     ]
    }
   ],
   "source": [
    "r2, RMSE_ridge = error(y_test, pred )"
   ]
  },
  {
   "cell_type": "code",
   "execution_count": 47,
   "metadata": {},
   "outputs": [],
   "source": [
    "df_plot = df_plot.append({'model': 'Ridge' ,'variable': 'RMSE',\t'value' : RMSE_ridge}, ignore_index=True)"
   ]
  },
  {
   "cell_type": "code",
   "execution_count": 48,
   "metadata": {},
   "outputs": [
    {
     "data": {
      "text/html": [
       "<div>\n",
       "<style scoped>\n",
       "    .dataframe tbody tr th:only-of-type {\n",
       "        vertical-align: middle;\n",
       "    }\n",
       "\n",
       "    .dataframe tbody tr th {\n",
       "        vertical-align: top;\n",
       "    }\n",
       "\n",
       "    .dataframe thead th {\n",
       "        text-align: right;\n",
       "    }\n",
       "</style>\n",
       "<table border=\"1\" class=\"dataframe\">\n",
       "  <thead>\n",
       "    <tr style=\"text-align: right;\">\n",
       "      <th></th>\n",
       "      <th>model</th>\n",
       "      <th>variable</th>\n",
       "      <th>value</th>\n",
       "    </tr>\n",
       "  </thead>\n",
       "  <tbody>\n",
       "    <tr>\n",
       "      <th>0</th>\n",
       "      <td>lineal</td>\n",
       "      <td>RMSE_ph</td>\n",
       "      <td>56099.575297</td>\n",
       "    </tr>\n",
       "    <tr>\n",
       "      <th>1</th>\n",
       "      <td>lineal</td>\n",
       "      <td>RMSE_ph</td>\n",
       "      <td>55258.360912</td>\n",
       "    </tr>\n",
       "    <tr>\n",
       "      <th>2</th>\n",
       "      <td>lineal</td>\n",
       "      <td>RMSE_ph</td>\n",
       "      <td>56152.490413</td>\n",
       "    </tr>\n",
       "    <tr>\n",
       "      <th>3</th>\n",
       "      <td>multivariable</td>\n",
       "      <td>RMSE_ph</td>\n",
       "      <td>45055.597661</td>\n",
       "    </tr>\n",
       "    <tr>\n",
       "      <th>4</th>\n",
       "      <td>multivariable</td>\n",
       "      <td>RMSE_ph</td>\n",
       "      <td>46121.083028</td>\n",
       "    </tr>\n",
       "    <tr>\n",
       "      <th>5</th>\n",
       "      <td>multivariable</td>\n",
       "      <td>RMSE_ph</td>\n",
       "      <td>45211.196361</td>\n",
       "    </tr>\n",
       "    <tr>\n",
       "      <th>6</th>\n",
       "      <td>lineal</td>\n",
       "      <td>RMSE_casa</td>\n",
       "      <td>204323.844514</td>\n",
       "    </tr>\n",
       "    <tr>\n",
       "      <th>7</th>\n",
       "      <td>lineal</td>\n",
       "      <td>RMSE_casa</td>\n",
       "      <td>191733.356984</td>\n",
       "    </tr>\n",
       "    <tr>\n",
       "      <th>8</th>\n",
       "      <td>lineal</td>\n",
       "      <td>RMSE_casa</td>\n",
       "      <td>199166.128193</td>\n",
       "    </tr>\n",
       "    <tr>\n",
       "      <th>9</th>\n",
       "      <td>multivariable</td>\n",
       "      <td>RMSE_casa</td>\n",
       "      <td>179640.939145</td>\n",
       "    </tr>\n",
       "    <tr>\n",
       "      <th>10</th>\n",
       "      <td>multivariable</td>\n",
       "      <td>RMSE_casa</td>\n",
       "      <td>169161.885285</td>\n",
       "    </tr>\n",
       "    <tr>\n",
       "      <th>11</th>\n",
       "      <td>multivariable</td>\n",
       "      <td>RMSE_casa</td>\n",
       "      <td>174138.302626</td>\n",
       "    </tr>\n",
       "    <tr>\n",
       "      <th>12</th>\n",
       "      <td>lineal</td>\n",
       "      <td>RMSE_depto</td>\n",
       "      <td>113148.106009</td>\n",
       "    </tr>\n",
       "    <tr>\n",
       "      <th>13</th>\n",
       "      <td>lineal</td>\n",
       "      <td>RMSE_depto</td>\n",
       "      <td>116132.906721</td>\n",
       "    </tr>\n",
       "    <tr>\n",
       "      <th>14</th>\n",
       "      <td>lineal</td>\n",
       "      <td>RMSE_depto</td>\n",
       "      <td>113572.229631</td>\n",
       "    </tr>\n",
       "    <tr>\n",
       "      <th>15</th>\n",
       "      <td>multivariable</td>\n",
       "      <td>RMSE_depto</td>\n",
       "      <td>90686.189052</td>\n",
       "    </tr>\n",
       "    <tr>\n",
       "      <th>16</th>\n",
       "      <td>multivariable</td>\n",
       "      <td>RMSE_depto</td>\n",
       "      <td>91570.104914</td>\n",
       "    </tr>\n",
       "    <tr>\n",
       "      <th>17</th>\n",
       "      <td>multivariable</td>\n",
       "      <td>RMSE_depto</td>\n",
       "      <td>89434.294324</td>\n",
       "    </tr>\n",
       "    <tr>\n",
       "      <th>18</th>\n",
       "      <td>lineal</td>\n",
       "      <td>RMSE_store</td>\n",
       "      <td>248224.971339</td>\n",
       "    </tr>\n",
       "    <tr>\n",
       "      <th>19</th>\n",
       "      <td>lineal</td>\n",
       "      <td>RMSE_store</td>\n",
       "      <td>239270.745720</td>\n",
       "    </tr>\n",
       "    <tr>\n",
       "      <th>20</th>\n",
       "      <td>lineal</td>\n",
       "      <td>RMSE_store</td>\n",
       "      <td>241961.522263</td>\n",
       "    </tr>\n",
       "    <tr>\n",
       "      <th>21</th>\n",
       "      <td>multivariable</td>\n",
       "      <td>RMSE_store</td>\n",
       "      <td>206900.494933</td>\n",
       "    </tr>\n",
       "    <tr>\n",
       "      <th>22</th>\n",
       "      <td>multivariable</td>\n",
       "      <td>RMSE_store</td>\n",
       "      <td>201572.681581</td>\n",
       "    </tr>\n",
       "    <tr>\n",
       "      <th>23</th>\n",
       "      <td>multivariable</td>\n",
       "      <td>RMSE_store</td>\n",
       "      <td>198370.368305</td>\n",
       "    </tr>\n",
       "    <tr>\n",
       "      <th>24</th>\n",
       "      <td>lineal</td>\n",
       "      <td>RMSE</td>\n",
       "      <td>154702.507415</td>\n",
       "    </tr>\n",
       "    <tr>\n",
       "      <th>25</th>\n",
       "      <td>lineal</td>\n",
       "      <td>RMSE</td>\n",
       "      <td>156162.485465</td>\n",
       "    </tr>\n",
       "    <tr>\n",
       "      <th>26</th>\n",
       "      <td>lineal</td>\n",
       "      <td>RMSE</td>\n",
       "      <td>159940.433481</td>\n",
       "    </tr>\n",
       "    <tr>\n",
       "      <th>27</th>\n",
       "      <td>multivariable</td>\n",
       "      <td>RMSE</td>\n",
       "      <td>130107.118513</td>\n",
       "    </tr>\n",
       "    <tr>\n",
       "      <th>28</th>\n",
       "      <td>multivariable</td>\n",
       "      <td>RMSE</td>\n",
       "      <td>132117.914898</td>\n",
       "    </tr>\n",
       "    <tr>\n",
       "      <th>29</th>\n",
       "      <td>multivariable</td>\n",
       "      <td>RMSE</td>\n",
       "      <td>135669.999543</td>\n",
       "    </tr>\n",
       "    <tr>\n",
       "      <th>30</th>\n",
       "      <td>lineal</td>\n",
       "      <td>RMSE promedio</td>\n",
       "      <td>216127.976878</td>\n",
       "    </tr>\n",
       "    <tr>\n",
       "      <th>31</th>\n",
       "      <td>lineal</td>\n",
       "      <td>RMSE promedio</td>\n",
       "      <td>216127.976878</td>\n",
       "    </tr>\n",
       "    <tr>\n",
       "      <th>32</th>\n",
       "      <td>lineal</td>\n",
       "      <td>RMSE promedio</td>\n",
       "      <td>216127.976878</td>\n",
       "    </tr>\n",
       "    <tr>\n",
       "      <th>33</th>\n",
       "      <td>multivariable</td>\n",
       "      <td>RMSE promedio</td>\n",
       "      <td>NaN</td>\n",
       "    </tr>\n",
       "    <tr>\n",
       "      <th>34</th>\n",
       "      <td>multivariable</td>\n",
       "      <td>RMSE promedio</td>\n",
       "      <td>NaN</td>\n",
       "    </tr>\n",
       "    <tr>\n",
       "      <th>35</th>\n",
       "      <td>multivariable</td>\n",
       "      <td>RMSE promedio</td>\n",
       "      <td>NaN</td>\n",
       "    </tr>\n",
       "    <tr>\n",
       "      <th>36</th>\n",
       "      <td>Ridge</td>\n",
       "      <td>RMSE</td>\n",
       "      <td>131918.556033</td>\n",
       "    </tr>\n",
       "  </tbody>\n",
       "</table>\n",
       "</div>"
      ],
      "text/plain": [
       "            model       variable          value\n",
       "0          lineal        RMSE_ph   56099.575297\n",
       "1          lineal        RMSE_ph   55258.360912\n",
       "2          lineal        RMSE_ph   56152.490413\n",
       "3   multivariable        RMSE_ph   45055.597661\n",
       "4   multivariable        RMSE_ph   46121.083028\n",
       "5   multivariable        RMSE_ph   45211.196361\n",
       "6          lineal      RMSE_casa  204323.844514\n",
       "7          lineal      RMSE_casa  191733.356984\n",
       "8          lineal      RMSE_casa  199166.128193\n",
       "9   multivariable      RMSE_casa  179640.939145\n",
       "10  multivariable      RMSE_casa  169161.885285\n",
       "11  multivariable      RMSE_casa  174138.302626\n",
       "12         lineal     RMSE_depto  113148.106009\n",
       "13         lineal     RMSE_depto  116132.906721\n",
       "14         lineal     RMSE_depto  113572.229631\n",
       "15  multivariable     RMSE_depto   90686.189052\n",
       "16  multivariable     RMSE_depto   91570.104914\n",
       "17  multivariable     RMSE_depto   89434.294324\n",
       "18         lineal     RMSE_store  248224.971339\n",
       "19         lineal     RMSE_store  239270.745720\n",
       "20         lineal     RMSE_store  241961.522263\n",
       "21  multivariable     RMSE_store  206900.494933\n",
       "22  multivariable     RMSE_store  201572.681581\n",
       "23  multivariable     RMSE_store  198370.368305\n",
       "24         lineal           RMSE  154702.507415\n",
       "25         lineal           RMSE  156162.485465\n",
       "26         lineal           RMSE  159940.433481\n",
       "27  multivariable           RMSE  130107.118513\n",
       "28  multivariable           RMSE  132117.914898\n",
       "29  multivariable           RMSE  135669.999543\n",
       "30         lineal  RMSE promedio  216127.976878\n",
       "31         lineal  RMSE promedio  216127.976878\n",
       "32         lineal  RMSE promedio  216127.976878\n",
       "33  multivariable  RMSE promedio            NaN\n",
       "34  multivariable  RMSE promedio            NaN\n",
       "35  multivariable  RMSE promedio            NaN\n",
       "36          Ridge           RMSE  131918.556033"
      ]
     },
     "execution_count": 48,
     "metadata": {},
     "output_type": "execute_result"
    }
   ],
   "source": [
    "df_plot"
   ]
  },
  {
   "cell_type": "code",
   "execution_count": 49,
   "metadata": {},
   "outputs": [
    {
     "data": {
      "text/plain": [
       "<AxesSubplot:xlabel='model', ylabel='value'>"
      ]
     },
     "execution_count": 49,
     "metadata": {},
     "output_type": "execute_result"
    },
    {
     "data": {
      "image/png": "[encoded data removed]",
      "text/plain": [
       "<Figure size 576x432 with 1 Axes>"
      ]
     },
     "metadata": {
      "needs_background": "light"
     },
     "output_type": "display_data"
    }
   ],
   "source": [
    "plt.figure(figsize=(8, 6))\n",
    "sns.barplot(x = 'model', y= 'value', data= df_plot[df_plot.variable == 'RMSE'], palette='magma')"
   ]
  },
  {
   "cell_type": "markdown",
   "metadata": {},
   "source": [
    "## Lasso"
   ]
  },
  {
   "cell_type": "code",
   "execution_count": 50,
   "metadata": {},
   "outputs": [
    {
     "data": {
      "text/plain": [
       "array([[ 0.66808886, -0.60159852, -0.74229355,  0.48148636, -0.37820461],\n",
       "       [-1.88734742,  0.77536551, -0.56678943,  0.2885108 , -1.33564433],\n",
       "       [-0.07468498,  0.42029578, -0.23333161, -0.57982761, -0.31637733],\n",
       "       ...,\n",
       "       [-1.84159266,  0.77803925,  1.20580215,  0.27139062, -1.22506348],\n",
       "       [-0.00584915,  0.35870019,  3.84713911, -0.51702719,  0.49958574],\n",
       "       [-0.07016067,  0.41041233, -0.54923902, -0.57572902,  1.5875365 ]])"
      ]
     },
     "execution_count": 50,
     "metadata": {},
     "output_type": "execute_result"
    }
   ],
   "source": [
    "X_train"
   ]
  },
  {
   "cell_type": "code",
   "execution_count": 51,
   "metadata": {},
   "outputs": [],
   "source": [
    "alphas = np.logspace(-2,7,20)\n",
    "\n",
    "error_test_lista = []\n",
    "error_train_lista = []\n",
    "\n",
    "params = pd.DataFrame()\n",
    "\n",
    "for alpha in alphas:\n",
    "#     print(alpha, end = ', ')\n",
    "    lasso = linear_model.Lasso(alpha = alpha)\n",
    "    lasso.fit(X_train, y_train)\n",
    "    params = pd.concat([params,pd.DataFrame({f'{alpha}':lasso.coef_})], axis = 1)\n",
    "    \n",
    "    error_train = mean_squared_error(y_train, lasso.predict(X_train), squared=False)\n",
    "    error_test  = mean_squared_error(y_test,  lasso.predict(X_test), squared=False)\n",
    "    \n",
    "    error_test_lista.append( error_test )\n",
    "    error_train_lista.append(error_train)"
   ]
  },
  {
   "cell_type": "code",
   "execution_count": 52,
   "metadata": {},
   "outputs": [
    {
     "data": {
      "text/plain": [
       "array([1.00000000e-02, 2.97635144e-02, 8.85866790e-02, 2.63665090e-01,\n",
       "       7.84759970e-01, 2.33572147e+00, 6.95192796e+00, 2.06913808e+01,\n",
       "       6.15848211e+01, 1.83298071e+02, 5.45559478e+02, 1.62377674e+03,\n",
       "       4.83293024e+03, 1.43844989e+04, 4.28133240e+04, 1.27427499e+05,\n",
       "       3.79269019e+05, 1.12883789e+06, 3.35981829e+06, 1.00000000e+07])"
      ]
     },
     "execution_count": 52,
     "metadata": {},
     "output_type": "execute_result"
    }
   ],
   "source": [
    "alphas"
   ]
  },
  {
   "cell_type": "code",
   "execution_count": 53,
   "metadata": {},
   "outputs": [
    {
     "data": {
      "image/png": "[encoded data removed]",
      "text/plain": [
       "<Figure size 432x288 with 1 Axes>"
      ]
     },
     "metadata": {
      "needs_background": "light"
     },
     "output_type": "display_data"
    }
   ],
   "source": [
    "plt.plot(alphas[::-1], error_test_lista, label = 'test')\n",
    "plt.plot(alphas[::-1], error_train_lista, label = 'train')\n",
    "\n",
    "\n",
    "plt.title('Como evolucionan las métricas a medida que regularizo')\n",
    "plt.legend()\n",
    "plt.xlabel('1 / lambda')\n",
    "plt.ylabel('error')\n",
    "plt.xscale('log')\n",
    "plt.show()"
   ]
  },
  {
   "cell_type": "code",
   "execution_count": 58,
   "metadata": {},
   "outputs": [
    {
     "data": {
      "text/plain": [
       "[131918.37198617708,\n",
       " 131918.3709929556,\n",
       " 131918.36803936426,\n",
       " 131918.35923269443,\n",
       " 131918.3331088716,\n",
       " 131918.25553238302,\n",
       " 131918.02828729013,\n",
       " 131917.37892256447,\n",
       " 131915.69240070527,\n",
       " 131912.9648445465,\n",
       " 131922.9528893627,\n",
       " 132029.93082960902,\n",
       " 132286.2954173836,\n",
       " 134268.5042650066,\n",
       " 149271.07278061498,\n",
       " 199912.4768297352,\n",
       " 214528.31170261183,\n",
       " 214528.31170261183,\n",
       " 214528.31170261183,\n",
       " 214528.31170261183]"
      ]
     },
     "execution_count": 58,
     "metadata": {},
     "output_type": "execute_result"
    }
   ],
   "source": [
    "error_test_lista"
   ]
  },
  {
   "cell_type": "code",
   "execution_count": 54,
   "metadata": {},
   "outputs": [
    {
     "data": {
      "text/html": [
       "<div>\n",
       "<style scoped>\n",
       "    .dataframe tbody tr th:only-of-type {\n",
       "        vertical-align: middle;\n",
       "    }\n",
       "\n",
       "    .dataframe tbody tr th {\n",
       "        vertical-align: top;\n",
       "    }\n",
       "\n",
       "    .dataframe thead th {\n",
       "        text-align: right;\n",
       "    }\n",
       "</style>\n",
       "<table border=\"1\" class=\"dataframe\">\n",
       "  <thead>\n",
       "    <tr style=\"text-align: right;\">\n",
       "      <th></th>\n",
       "      <th>0.01</th>\n",
       "      <th>0.029763514416313176</th>\n",
       "      <th>0.08858667904100823</th>\n",
       "      <th>0.26366508987303583</th>\n",
       "      <th>0.7847599703514611</th>\n",
       "      <th>2.3357214690901213</th>\n",
       "      <th>6.951927961775605</th>\n",
       "      <th>20.69138081114788</th>\n",
       "      <th>61.584821106602604</th>\n",
       "      <th>183.29807108324337</th>\n",
       "      <th>545.5594781168514</th>\n",
       "      <th>1623.776739188721</th>\n",
       "      <th>4832.930238571752</th>\n",
       "      <th>14384.498882876629</th>\n",
       "      <th>42813.32398719387</th>\n",
       "      <th>127427.49857031321</th>\n",
       "      <th>379269.0190732246</th>\n",
       "      <th>1128837.8916846884</th>\n",
       "      <th>3359818.2862837743</th>\n",
       "      <th>10000000.0</th>\n",
       "    </tr>\n",
       "  </thead>\n",
       "  <tbody>\n",
       "    <tr>\n",
       "      <th>0</th>\n",
       "      <td>-1793.782650</td>\n",
       "      <td>-1793.739653</td>\n",
       "      <td>-1793.611743</td>\n",
       "      <td>-1793.230424</td>\n",
       "      <td>-1792.096949</td>\n",
       "      <td>-1788.717975</td>\n",
       "      <td>-1778.677161</td>\n",
       "      <td>-1748.771727</td>\n",
       "      <td>-1659.807209</td>\n",
       "      <td>-1404.588297</td>\n",
       "      <td>-626.898088</td>\n",
       "      <td>-0.000000</td>\n",
       "      <td>-0.000000</td>\n",
       "      <td>-0.000000</td>\n",
       "      <td>-0.000000</td>\n",
       "      <td>-0.000000</td>\n",
       "      <td>-0.0</td>\n",
       "      <td>-0.0</td>\n",
       "      <td>-0.0</td>\n",
       "      <td>-0.0</td>\n",
       "    </tr>\n",
       "    <tr>\n",
       "      <th>1</th>\n",
       "      <td>-15105.629515</td>\n",
       "      <td>-15105.383458</td>\n",
       "      <td>-15104.651588</td>\n",
       "      <td>-15102.468599</td>\n",
       "      <td>-15095.982419</td>\n",
       "      <td>-15076.636450</td>\n",
       "      <td>-15019.179590</td>\n",
       "      <td>-14848.011891</td>\n",
       "      <td>-14338.896494</td>\n",
       "      <td>-12904.805341</td>\n",
       "      <td>-8465.925134</td>\n",
       "      <td>-0.000000</td>\n",
       "      <td>0.000000</td>\n",
       "      <td>0.000000</td>\n",
       "      <td>0.000000</td>\n",
       "      <td>0.000000</td>\n",
       "      <td>0.0</td>\n",
       "      <td>0.0</td>\n",
       "      <td>0.0</td>\n",
       "      <td>0.0</td>\n",
       "    </tr>\n",
       "    <tr>\n",
       "      <th>2</th>\n",
       "      <td>168677.418253</td>\n",
       "      <td>168677.397334</td>\n",
       "      <td>168677.335067</td>\n",
       "      <td>168677.149798</td>\n",
       "      <td>168676.598228</td>\n",
       "      <td>168674.957085</td>\n",
       "      <td>168670.070885</td>\n",
       "      <td>168655.529834</td>\n",
       "      <td>168612.246202</td>\n",
       "      <td>168482.500638</td>\n",
       "      <td>168098.031418</td>\n",
       "      <td>166869.846086</td>\n",
       "      <td>162742.853797</td>\n",
       "      <td>150386.289970</td>\n",
       "      <td>113326.582180</td>\n",
       "      <td>22774.841104</td>\n",
       "      <td>0.0</td>\n",
       "      <td>0.0</td>\n",
       "      <td>0.0</td>\n",
       "      <td>0.0</td>\n",
       "    </tr>\n",
       "    <tr>\n",
       "      <th>3</th>\n",
       "      <td>-21117.170671</td>\n",
       "      <td>-21116.936837</td>\n",
       "      <td>-21116.241301</td>\n",
       "      <td>-21114.166912</td>\n",
       "      <td>-21108.002870</td>\n",
       "      <td>-21089.619705</td>\n",
       "      <td>-21035.016353</td>\n",
       "      <td>-20872.357008</td>\n",
       "      <td>-20388.532090</td>\n",
       "      <td>-19021.797834</td>\n",
       "      <td>-14799.905070</td>\n",
       "      <td>-6301.519795</td>\n",
       "      <td>-3932.054866</td>\n",
       "      <td>-0.000000</td>\n",
       "      <td>-0.000000</td>\n",
       "      <td>-0.000000</td>\n",
       "      <td>-0.0</td>\n",
       "      <td>-0.0</td>\n",
       "      <td>-0.0</td>\n",
       "      <td>-0.0</td>\n",
       "    </tr>\n",
       "    <tr>\n",
       "      <th>4</th>\n",
       "      <td>83960.832448</td>\n",
       "      <td>83960.823483</td>\n",
       "      <td>83960.796774</td>\n",
       "      <td>83960.717517</td>\n",
       "      <td>83960.481055</td>\n",
       "      <td>83959.779322</td>\n",
       "      <td>83957.684481</td>\n",
       "      <td>83951.457370</td>\n",
       "      <td>83932.906135</td>\n",
       "      <td>83873.705323</td>\n",
       "      <td>83705.654151</td>\n",
       "      <td>82918.791704</td>\n",
       "      <td>79347.486863</td>\n",
       "      <td>67816.018914</td>\n",
       "      <td>30109.291593</td>\n",
       "      <td>0.000000</td>\n",
       "      <td>0.0</td>\n",
       "      <td>0.0</td>\n",
       "      <td>0.0</td>\n",
       "      <td>0.0</td>\n",
       "    </tr>\n",
       "  </tbody>\n",
       "</table>\n",
       "</div>"
      ],
      "text/plain": [
       "            0.01  0.029763514416313176  0.08858667904100823  \\\n",
       "0   -1793.782650          -1793.739653         -1793.611743   \n",
       "1  -15105.629515         -15105.383458        -15104.651588   \n",
       "2  168677.418253         168677.397334        168677.335067   \n",
       "3  -21117.170671         -21116.936837        -21116.241301   \n",
       "4   83960.832448          83960.823483         83960.796774   \n",
       "\n",
       "   0.26366508987303583  0.7847599703514611  2.3357214690901213  \\\n",
       "0         -1793.230424        -1792.096949        -1788.717975   \n",
       "1        -15102.468599       -15095.982419       -15076.636450   \n",
       "2        168677.149798       168676.598228       168674.957085   \n",
       "3        -21114.166912       -21108.002870       -21089.619705   \n",
       "4         83960.717517        83960.481055        83959.779322   \n",
       "\n",
       "   6.951927961775605  20.69138081114788  61.584821106602604  \\\n",
       "0       -1778.677161       -1748.771727        -1659.807209   \n",
       "1      -15019.179590      -14848.011891       -14338.896494   \n",
       "2      168670.070885      168655.529834       168612.246202   \n",
       "3      -21035.016353      -20872.357008       -20388.532090   \n",
       "4       83957.684481       83951.457370        83932.906135   \n",
       "\n",
       "   183.29807108324337  545.5594781168514  1623.776739188721  \\\n",
       "0        -1404.588297        -626.898088          -0.000000   \n",
       "1       -12904.805341       -8465.925134          -0.000000   \n",
       "2       168482.500638      168098.031418      166869.846086   \n",
       "3       -19021.797834      -14799.905070       -6301.519795   \n",
       "4        83873.705323       83705.654151       82918.791704   \n",
       "\n",
       "   4832.930238571752  14384.498882876629  42813.32398719387  \\\n",
       "0          -0.000000           -0.000000          -0.000000   \n",
       "1           0.000000            0.000000           0.000000   \n",
       "2      162742.853797       150386.289970      113326.582180   \n",
       "3       -3932.054866           -0.000000          -0.000000   \n",
       "4       79347.486863        67816.018914       30109.291593   \n",
       "\n",
       "   127427.49857031321  379269.0190732246  1128837.8916846884  \\\n",
       "0           -0.000000               -0.0                -0.0   \n",
       "1            0.000000                0.0                 0.0   \n",
       "2        22774.841104                0.0                 0.0   \n",
       "3           -0.000000               -0.0                -0.0   \n",
       "4            0.000000                0.0                 0.0   \n",
       "\n",
       "   3359818.2862837743  10000000.0  \n",
       "0                -0.0        -0.0  \n",
       "1                 0.0         0.0  \n",
       "2                 0.0         0.0  \n",
       "3                -0.0        -0.0  \n",
       "4                 0.0         0.0  "
      ]
     },
     "execution_count": 54,
     "metadata": {},
     "output_type": "execute_result"
    }
   ],
   "source": [
    "params"
   ]
  },
  {
   "cell_type": "code",
   "execution_count": 60,
   "metadata": {},
   "outputs": [],
   "source": [
    "df_plot = df_plot.append({'model': 'Lasso' ,'variable': 'RMSE',\t'value' : error_test_lista[0]}, ignore_index=True)"
   ]
  },
  {
   "cell_type": "code",
   "execution_count": 61,
   "id": "internal-marina",
   "metadata": {},
   "outputs": [],
   "source": [
    "params_to_plot = params\n",
    "alphas_to_plot = params_to_plot.columns\n",
    "alphas_to_plot = np.array(alphas_to_plot, dtype = 'float')"
   ]
  },
  {
   "cell_type": "code",
   "execution_count": 62,
   "id": "quarterly-rhythm",
   "metadata": {},
   "outputs": [
    {
     "data": {
      "image/png": "[encoded data removed]",
      "text/plain": [
       "<Figure size 432x288 with 1 Axes>"
      ]
     },
     "metadata": {
      "needs_background": "light"
     },
     "output_type": "display_data"
    }
   ],
   "source": [
    "plt.plot(alphas_to_plot, np.abs(params_to_plot.loc[0].values), label = 'lat')\n",
    "plt.plot(alphas_to_plot, np.abs(params_to_plot.loc[1].values), label = 'lon')\n",
    "plt.plot(alphas_to_plot, np.abs(params_to_plot.loc[2].values), label = 'surface')\n",
    "plt.plot(alphas_to_plot, np.abs(params_to_plot.loc[3].values), label = 'distancia ob')\n",
    "plt.plot(alphas_to_plot, np.abs(params_to_plot.loc[4].values), label = 'precio m2')\n",
    "# plt.plot(alphas_to_plot, np.abs(params_to_plot.loc[5].values), label = 'b5')\n",
    "# plt.plot(alphas_to_plot, np.abs(params_to_plot.loc[6].values), label = 'b6')\n",
    "\n",
    "plt.legend()\n",
    "plt.xticks(rotation = 90)\n",
    "plt.xscale('log')\n",
    "plt.show()"
   ]
  },
  {
   "cell_type": "code",
   "execution_count": 63,
   "metadata": {},
   "outputs": [
    {
     "data": {
      "text/plain": [
       "<AxesSubplot:xlabel='model', ylabel='value'>"
      ]
     },
     "execution_count": 63,
     "metadata": {},
     "output_type": "execute_result"
    },
    {
     "data": {
      "image/png": "[encoded data removed]",
      "text/plain": [
       "<Figure size 576x432 with 1 Axes>"
      ]
     },
     "metadata": {
      "needs_background": "light"
     },
     "output_type": "display_data"
    }
   ],
   "source": [
    "plt.figure(figsize=(8, 6))\n",
    "sns.barplot(x = 'model', y= 'value', data= df_plot[df_plot.variable == 'RMSE'], palette='magma')"
   ]
  },
  {
   "cell_type": "markdown",
   "metadata": {},
   "source": [
    "## XGBoost"
   ]
  },
  {
   "cell_type": "code",
   "execution_count": 64,
   "metadata": {},
   "outputs": [],
   "source": [
    "import xgboost as xgb\n",
    "from xgboost.sklearn import XGBRegressor"
   ]
  },
  {
   "cell_type": "code",
   "execution_count": 65,
   "metadata": {},
   "outputs": [],
   "source": [
    "X= df[['surface_covered_in_m2', 'lat', 'lon', 'precio_m2', 'property_type']]\n",
    "X_encoded = pd.get_dummies(X, columns=['property_type'])\n",
    "y = df.price_aprox_usd\n",
    "X_train, X_test, y_train, y_test = train_test_split(X_encoded, y, random_state=7)"
   ]
  },
  {
   "cell_type": "code",
   "execution_count": 66,
   "metadata": {},
   "outputs": [
    {
     "name": "stdout",
     "output_type": "stream",
     "text": [
      "[0]\tvalidation_0-rmse:185626.67188\n",
      "Will train until validation_0-rmse hasn't improved in 10 rounds.\n",
      "[1]\tvalidation_0-rmse:134571.76562\n",
      "[2]\tvalidation_0-rmse:115558.74219\n",
      "[3]\tvalidation_0-rmse:108263.25781\n",
      "[4]\tvalidation_0-rmse:104129.22656\n",
      "[5]\tvalidation_0-rmse:101569.50000\n",
      "[6]\tvalidation_0-rmse:100459.85156\n",
      "[7]\tvalidation_0-rmse:97531.84375\n",
      "[8]\tvalidation_0-rmse:97240.10938\n",
      "[9]\tvalidation_0-rmse:97235.67188\n",
      "[10]\tvalidation_0-rmse:96760.28125\n",
      "[11]\tvalidation_0-rmse:96668.28125\n",
      "[12]\tvalidation_0-rmse:96506.27344\n",
      "[13]\tvalidation_0-rmse:96136.12500\n",
      "[14]\tvalidation_0-rmse:96104.71094\n",
      "[15]\tvalidation_0-rmse:96099.50781\n",
      "[16]\tvalidation_0-rmse:95821.50000\n",
      "[17]\tvalidation_0-rmse:95619.37500\n",
      "[18]\tvalidation_0-rmse:95550.75000\n",
      "[19]\tvalidation_0-rmse:95392.75000\n",
      "[20]\tvalidation_0-rmse:95404.19531\n",
      "[21]\tvalidation_0-rmse:95040.86719\n",
      "[22]\tvalidation_0-rmse:94863.51562\n",
      "[23]\tvalidation_0-rmse:94813.63281\n",
      "[24]\tvalidation_0-rmse:94514.32812\n",
      "[25]\tvalidation_0-rmse:94510.07812\n",
      "[26]\tvalidation_0-rmse:94461.10156\n",
      "[27]\tvalidation_0-rmse:94309.65625\n",
      "[28]\tvalidation_0-rmse:94181.46094\n",
      "[29]\tvalidation_0-rmse:94261.52344\n",
      "[30]\tvalidation_0-rmse:94262.77344\n",
      "[31]\tvalidation_0-rmse:94177.11719\n",
      "[32]\tvalidation_0-rmse:93775.99219\n",
      "[33]\tvalidation_0-rmse:93860.11719\n",
      "[34]\tvalidation_0-rmse:93728.70312\n",
      "[35]\tvalidation_0-rmse:93702.35156\n",
      "[36]\tvalidation_0-rmse:93930.03906\n",
      "[37]\tvalidation_0-rmse:93879.26562\n",
      "[38]\tvalidation_0-rmse:93666.59375\n",
      "[39]\tvalidation_0-rmse:93673.11719\n",
      "[40]\tvalidation_0-rmse:93702.82812\n",
      "[41]\tvalidation_0-rmse:93681.85938\n",
      "[42]\tvalidation_0-rmse:93477.88281\n",
      "[43]\tvalidation_0-rmse:93433.81250\n",
      "[44]\tvalidation_0-rmse:93393.56250\n",
      "[45]\tvalidation_0-rmse:93458.30469\n",
      "[46]\tvalidation_0-rmse:93410.60938\n",
      "[47]\tvalidation_0-rmse:93468.25000\n",
      "[48]\tvalidation_0-rmse:93414.75000\n",
      "[49]\tvalidation_0-rmse:93321.04688\n",
      "[50]\tvalidation_0-rmse:93319.54688\n",
      "[51]\tvalidation_0-rmse:93270.00781\n",
      "[52]\tvalidation_0-rmse:93202.59375\n",
      "[53]\tvalidation_0-rmse:93164.74219\n",
      "[54]\tvalidation_0-rmse:93140.31250\n",
      "[55]\tvalidation_0-rmse:93121.29688\n",
      "[56]\tvalidation_0-rmse:92975.60938\n",
      "[57]\tvalidation_0-rmse:92894.51562\n",
      "[58]\tvalidation_0-rmse:92903.55469\n",
      "[59]\tvalidation_0-rmse:92914.97656\n",
      "[60]\tvalidation_0-rmse:92971.13281\n",
      "[61]\tvalidation_0-rmse:92954.86719\n",
      "[62]\tvalidation_0-rmse:92913.91406\n",
      "[63]\tvalidation_0-rmse:92942.55469\n",
      "[64]\tvalidation_0-rmse:92955.17188\n",
      "[65]\tvalidation_0-rmse:92935.95312\n",
      "[66]\tvalidation_0-rmse:92999.80469\n",
      "[67]\tvalidation_0-rmse:92964.71875\n",
      "Stopping. Best iteration:\n",
      "[57]\tvalidation_0-rmse:92894.51562\n",
      "\n"
     ]
    },
    {
     "data": {
      "text/plain": [
       "XGBRegressor(base_score=0.5, booster='gbtree', colsample_bylevel=1,\n",
       "             colsample_bynode=1, colsample_bytree=1, gamma=0, gpu_id=-1,\n",
       "             importance_type='gain', interaction_constraints='',\n",
       "             learning_rate=0.5, max_delta_step=0, max_depth=6,\n",
       "             min_child_weight=1, missing=nan, monotone_constraints='()',\n",
       "             n_estimators=100, n_jobs=0, num_parallel_tree=1, random_state=0,\n",
       "             reg_alpha=0, reg_lambda=5, scale_pos_weight=1, subsample=1,\n",
       "             tree_method='exact', validate_parameters=1, verbosity=None)"
      ]
     },
     "execution_count": 66,
     "metadata": {},
     "output_type": "execute_result"
    }
   ],
   "source": [
    "rg_xgb = xgb.XGBRegressor( learning_rate=0.5, max_depth=6, reg_lambda=5)\n",
    "rg_xgb.fit(X_train, y_train, verbose=True, early_stopping_rounds=10, eval_set=[(X_test,y_test)])"
   ]
  },
  {
   "cell_type": "code",
   "execution_count": 67,
   "metadata": {},
   "outputs": [],
   "source": [
    "pred = rg_xgb.predict(X_test)"
   ]
  },
  {
   "cell_type": "code",
   "execution_count": 68,
   "metadata": {},
   "outputs": [],
   "source": [
    "from sklearn.model_selection import GridSearchCV"
   ]
  },
  {
   "cell_type": "code",
   "execution_count": 69,
   "metadata": {},
   "outputs": [],
   "source": [
    "param_grid = {\n",
    "    'max_depth': [4,5,6],\n",
    "    'learning_rate': [0.9, 0.7,0.5,0,3],\n",
    "    'gamma':[0, 0.25, 1],\n",
    "    'reg_lambda':[1.0, 10, 30],\n",
    "    'scale_pos_weight':[1,3,5]}\n",
    "   "
   ]
  },
  {
   "cell_type": "code",
   "execution_count": 70,
   "metadata": {},
   "outputs": [],
   "source": [
    "# param_grid = {\n",
    "#     'max_depth': [6, 7],\n",
    "#     'learning_rate': [0.9, 0.7,0.5,0,3],\n",
    "#     'reg_lambda':[5,7,10]}"
   ]
  },
  {
   "cell_type": "code",
   "execution_count": 71,
   "metadata": {},
   "outputs": [],
   "source": [
    "optimal_params= GridSearchCV(\n",
    "    estimator=xgb.XGBRegressor(),\n",
    "    param_grid=param_grid,\n",
    "    scoring= 'neg_root_mean_squared_error',\n",
    "    verbose=2,\n",
    "    n_jobs=10,\n",
    "    cv=3)\n"
   ]
  },
  {
   "cell_type": "code",
   "execution_count": 72,
   "metadata": {},
   "outputs": [
    {
     "name": "stdout",
     "output_type": "stream",
     "text": [
      "Fitting 3 folds for each of 30 candidates, totalling 90 fits\n"
     ]
    },
    {
     "name": "stderr",
     "output_type": "stream",
     "text": [
      "[Parallel(n_jobs=10)]: Using backend LokyBackend with 10 concurrent workers.\n",
      "[Parallel(n_jobs=10)]: Done  21 tasks      | elapsed:   39.9s\n",
      "[Parallel(n_jobs=10)]: Done  90 out of  90 | elapsed:  2.2min finished\n"
     ]
    },
    {
     "data": {
      "text/plain": [
       "GridSearchCV(cv=3,\n",
       "             estimator=XGBRegressor(base_score=None, booster=None,\n",
       "                                    colsample_bylevel=None,\n",
       "                                    colsample_bynode=None,\n",
       "                                    colsample_bytree=None, gamma=None,\n",
       "                                    gpu_id=None, importance_type='gain',\n",
       "                                    interaction_constraints=None,\n",
       "                                    learning_rate=None, max_delta_step=None,\n",
       "                                    max_depth=None, min_child_weight=None,\n",
       "                                    missing=nan, monotone_constraints=None,\n",
       "                                    n_estimators=100, n_jobs=None,\n",
       "                                    num_parallel_tree=None, random_state=None,\n",
       "                                    reg_alpha=None, reg_lambda=None,\n",
       "                                    scale_pos_weight=None, subsample=None,\n",
       "                                    tree_method=None, validate_parameters=None,\n",
       "                                    verbosity=None),\n",
       "             n_jobs=10,\n",
       "             param_grid={'learning_rate': [0.9, 0.7, 0.5, 0, 3],\n",
       "                         'max_depth': [6, 7], 'reg_lambda': [5, 7, 10]},\n",
       "             scoring='neg_root_mean_squared_error', verbose=2)"
      ]
     },
     "execution_count": 72,
     "metadata": {},
     "output_type": "execute_result"
    }
   ],
   "source": [
    "optimal_params.fit(X_train, y_train)"
   ]
  },
  {
   "cell_type": "code",
   "execution_count": 73,
   "metadata": {},
   "outputs": [
    {
     "name": "stdout",
     "output_type": "stream",
     "text": [
      "-94352.52460209554\n",
      "{'learning_rate': 0.5, 'max_depth': 6, 'reg_lambda': 7}\n"
     ]
    }
   ],
   "source": [
    "print(optimal_params.best_score_)\n",
    "print(optimal_params.best_params_)"
   ]
  },
  {
   "cell_type": "code",
   "execution_count": 74,
   "metadata": {},
   "outputs": [
    {
     "data": {
      "text/plain": [
       "array([0.49675158, 0.05939185, 0.05519441, 0.30076623, 0.01644962,\n",
       "       0.01816799, 0.03207456, 0.02120376], dtype=float32)"
      ]
     },
     "execution_count": 74,
     "metadata": {},
     "output_type": "execute_result"
    }
   ],
   "source": [
    "rg_xgb.feature_importances_"
   ]
  },
  {
   "cell_type": "code",
   "execution_count": 78,
   "metadata": {},
   "outputs": [
    {
     "data": {
      "text/plain": [
       "<BarContainer object of 8 artists>"
      ]
     },
     "execution_count": 78,
     "metadata": {},
     "output_type": "execute_result"
    },
    {
     "data": {
      "image/png": "[encoded data removed]",
      "text/plain": [
       "<Figure size 576x432 with 1 Axes>"
      ]
     },
     "metadata": {
      "needs_background": "light"
     },
     "output_type": "display_data"
    }
   ],
   "source": [
    "plt.figure(figsize=(8, 6))\n",
    "plt.bar( ['surface', 'lat', 'lon', 'precio_m2', 'depto', 'casa', 'ph', 'store'],rg_xgb.feature_importances_, color= 'red')"
   ]
  },
  {
   "cell_type": "code",
   "execution_count": 76,
   "metadata": {},
   "outputs": [],
   "source": [
    "df_plot = df_plot.append({'model': 'XGBoost' ,'variable': 'RMSE',\t'value' : (-optimal_params.best_score_)}, ignore_index=True)"
   ]
  },
  {
   "cell_type": "code",
   "execution_count": 77,
   "metadata": {},
   "outputs": [
    {
     "data": {
      "text/plain": [
       "<AxesSubplot:xlabel='model', ylabel='value'>"
      ]
     },
     "execution_count": 77,
     "metadata": {},
     "output_type": "execute_result"
    },
    {
     "data": {
      "image/png": "[encoded data removed]",
      "text/plain": [
       "<Figure size 576x432 with 1 Axes>"
      ]
     },
     "metadata": {
      "needs_background": "light"
     },
     "output_type": "display_data"
    }
   ],
   "source": [
    "plt.figure(figsize=(8, 6))\n",
    "sns.barplot(x = 'model', y= 'value', data= df_plot[df_plot.variable == 'RMSE'], palette='magma')"
   ]
  }
 ],
 "metadata": {
  "interpreter": {
   "hash": "c086fc7738b30d1aba3dc99f49fa45c96aec9fd0a00bf9d0b3eaf085c1395b52"
  },
  "kernelspec": {
   "display_name": "Python 3.8.11 64-bit ('dhdsblend2021': conda)",
   "language": "python",
   "name": "python3"
  },
  "language_info": {
   "codemirror_mode": {
    "name": "ipython",
    "version": 3
   },
   "file_extension": ".py",
   "mimetype": "text/x-python",
   "name": "python",
   "nbconvert_exporter": "python",
   "pygments_lexer": "ipython3",
   "version": "3.8.11"
  },
  "orig_nbformat": 4
 },
 "nbformat": 4,
 "nbformat_minor": 2
}
