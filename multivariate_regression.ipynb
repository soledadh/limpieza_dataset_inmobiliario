{
 "cells": [
  {
   "cell_type": "code",
   "execution_count": 222,
   "metadata": {},
   "outputs": [],
   "source": [
    "import pandas as pd\n",
    "import numpy as np\n",
    "import seaborn as sns\n",
    "import matplotlib.pyplot as plt"
   ]
  },
  {
   "cell_type": "code",
   "execution_count": 223,
   "metadata": {},
   "outputs": [],
   "source": [
    "import statsmodels.api as sm\n",
    "from sklearn.metrics import mean_absolute_error, mean_squared_error, r2_score\n",
    "from sklearn.model_selection import train_test_split\n",
    "from sklearn import linear_model"
   ]
  },
  {
   "cell_type": "code",
   "execution_count": 224,
   "metadata": {},
   "outputs": [],
   "source": [
    "%matplotlib inline"
   ]
  },
  {
   "cell_type": "markdown",
   "metadata": {},
   "source": [
    "<div id=\"rmse\" style=\"float:left;width: 100%;\">\n",
    "  <div style=\"float:left;width: 15%;\"><img src=\"https://miro.medium.com/max/327/1*9hQVcasuwx5ddq_s3MFCyw.gif\" style=\"align:center\"/> </div>\n",
    "  <div style=\"float:left;width: 85%;\"><label></label></div>\n",
    "</div>\n"
   ]
  },
  {
   "cell_type": "code",
   "execution_count": 225,
   "metadata": {},
   "outputs": [],
   "source": [
    "df= pd.read_csv('./data/df_total.csv')"
   ]
  },
  {
   "cell_type": "code",
   "execution_count": 226,
   "metadata": {},
   "outputs": [
    {
     "data": {
      "text/html": [
       "<div>\n",
       "<style scoped>\n",
       "    .dataframe tbody tr th:only-of-type {\n",
       "        vertical-align: middle;\n",
       "    }\n",
       "\n",
       "    .dataframe tbody tr th {\n",
       "        vertical-align: top;\n",
       "    }\n",
       "\n",
       "    .dataframe thead th {\n",
       "        text-align: right;\n",
       "    }\n",
       "</style>\n",
       "<table border=\"1\" class=\"dataframe\">\n",
       "  <thead>\n",
       "    <tr style=\"text-align: right;\">\n",
       "      <th></th>\n",
       "      <th>Unnamed: 0</th>\n",
       "      <th>property_type</th>\n",
       "      <th>lat</th>\n",
       "      <th>lon</th>\n",
       "      <th>price_aprox_usd</th>\n",
       "      <th>surface_covered_in_m2</th>\n",
       "      <th>ciudad_barrio</th>\n",
       "      <th>sub_loc</th>\n",
       "      <th>distance_obelisco</th>\n",
       "      <th>precio_m2</th>\n",
       "      <th>segmento_precio_m2</th>\n",
       "      <th>segmento_precio_m2_ordinal</th>\n",
       "    </tr>\n",
       "  </thead>\n",
       "  <tbody>\n",
       "    <tr>\n",
       "      <th>69982</th>\n",
       "      <td>41258</td>\n",
       "      <td>house</td>\n",
       "      <td>-34.415918</td>\n",
       "      <td>-58.871507</td>\n",
       "      <td>310000.0</td>\n",
       "      <td>256.0</td>\n",
       "      <td>Pilar</td>\n",
       "      <td>Villa Rosa</td>\n",
       "      <td>55674.494166</td>\n",
       "      <td>959.752322</td>\n",
       "      <td>bajo</td>\n",
       "      <td>2</td>\n",
       "    </tr>\n",
       "  </tbody>\n",
       "</table>\n",
       "</div>"
      ],
      "text/plain": [
       "       Unnamed: 0 property_type        lat        lon  price_aprox_usd  \\\n",
       "69982       41258         house -34.415918 -58.871507         310000.0   \n",
       "\n",
       "       surface_covered_in_m2 ciudad_barrio     sub_loc  distance_obelisco  \\\n",
       "69982                  256.0         Pilar  Villa Rosa       55674.494166   \n",
       "\n",
       "        precio_m2 segmento_precio_m2  segmento_precio_m2_ordinal  \n",
       "69982  959.752322               bajo                           2  "
      ]
     },
     "execution_count": 226,
     "metadata": {},
     "output_type": "execute_result"
    }
   ],
   "source": [
    "df.sample(1)"
   ]
  },
  {
   "cell_type": "code",
   "execution_count": 227,
   "metadata": {},
   "outputs": [],
   "source": [
    "df.drop(['Unnamed: 0'], axis=1, inplace=True)"
   ]
  },
  {
   "cell_type": "code",
   "execution_count": 228,
   "metadata": {},
   "outputs": [],
   "source": [
    "from sklearn.model_selection import cross_validate"
   ]
  },
  {
   "cell_type": "code",
   "execution_count": 229,
   "metadata": {},
   "outputs": [],
   "source": [
    "def reg_lineal_multiple(data, features):\n",
    "\n",
    "    X = data[features]\n",
    "    y = data.price_aprox_usd\n",
    "\n",
    "    X_train, X_test, y_train, y_test = train_test_split(X, y, random_state= 7)\n",
    "\n",
    "    X = sm.add_constant(X_train)\n",
    "\n",
    "    lm = sm.OLS(y_train, X_train).fit() \n",
    "    \n",
    "\n",
    "    cv = cross_validate(estimator=linear_model.LinearRegression(), X=X_train, y=y_train, scoring=['neg_root_mean_squared_error', 'r2'], cv=3)\n",
    "\n",
    "\n",
    "    return cv, lm"
   ]
  },
  {
   "cell_type": "code",
   "execution_count": 230,
   "metadata": {},
   "outputs": [],
   "source": [
    "cv_tot, lm_tot = reg_lineal_multiple(df,['surface_covered_in_m2', 'lat', 'lon', 'precio_m2','distance_obelisco'] )"
   ]
  },
  {
   "cell_type": "code",
   "execution_count": 231,
   "metadata": {},
   "outputs": [
    {
     "data": {
      "text/html": [
       "<table class=\"simpletable\">\n",
       "<caption>OLS Regression Results</caption>\n",
       "<tr>\n",
       "  <th>Dep. Variable:</th>     <td>price_aprox_usd</td> <th>  R-squared (uncentered):</th>       <td>   0.813</td>  \n",
       "</tr>\n",
       "<tr>\n",
       "  <th>Model:</th>                   <td>OLS</td>       <th>  Adj. R-squared (uncentered):</th>  <td>   0.813</td>  \n",
       "</tr>\n",
       "<tr>\n",
       "  <th>Method:</th>             <td>Least Squares</td>  <th>  F-statistic:       </th>           <td>6.162e+04</td> \n",
       "</tr>\n",
       "<tr>\n",
       "  <th>Date:</th>             <td>Tue, 30 Nov 2021</td> <th>  Prob (F-statistic):</th>            <td>  0.00</td>   \n",
       "</tr>\n",
       "<tr>\n",
       "  <th>Time:</th>                 <td>16:13:22</td>     <th>  Log-Likelihood:    </th>          <td>-9.3497e+05</td>\n",
       "</tr>\n",
       "<tr>\n",
       "  <th>No. Observations:</th>      <td> 70758</td>      <th>  AIC:               </th>           <td>1.870e+06</td> \n",
       "</tr>\n",
       "<tr>\n",
       "  <th>Df Residuals:</th>          <td> 70753</td>      <th>  BIC:               </th>           <td>1.870e+06</td> \n",
       "</tr>\n",
       "<tr>\n",
       "  <th>Df Model:</th>              <td>     5</td>      <th>                     </th>               <td> </td>     \n",
       "</tr>\n",
       "<tr>\n",
       "  <th>Covariance Type:</th>      <td>nonrobust</td>    <th>                     </th>               <td> </td>     \n",
       "</tr>\n",
       "</table>\n",
       "<table class=\"simpletable\">\n",
       "<tr>\n",
       "            <td></td>               <th>coef</th>     <th>std err</th>      <th>t</th>      <th>P>|t|</th>  <th>[0.025</th>    <th>0.975]</th>  \n",
       "</tr>\n",
       "<tr>\n",
       "  <th>surface_covered_in_m2</th> <td> 1480.0385</td> <td>    4.503</td> <td>  328.688</td> <td> 0.000</td> <td> 1471.213</td> <td> 1488.864</td>\n",
       "</tr>\n",
       "<tr>\n",
       "  <th>lat</th>                   <td> 1076.9199</td> <td>  237.590</td> <td>    4.533</td> <td> 0.000</td> <td>  611.244</td> <td> 1542.595</td>\n",
       "</tr>\n",
       "<tr>\n",
       "  <th>lon</th>                   <td> 1264.6476</td> <td>  143.395</td> <td>    8.819</td> <td> 0.000</td> <td>  983.594</td> <td> 1545.701</td>\n",
       "</tr>\n",
       "<tr>\n",
       "  <th>precio_m2</th>             <td>   87.3433</td> <td>    0.557</td> <td>  156.718</td> <td> 0.000</td> <td>   86.251</td> <td>   88.436</td>\n",
       "</tr>\n",
       "<tr>\n",
       "  <th>distance_obelisco</th>     <td>   -0.0218</td> <td>    0.003</td> <td>   -8.461</td> <td> 0.000</td> <td>   -0.027</td> <td>   -0.017</td>\n",
       "</tr>\n",
       "</table>\n",
       "<table class=\"simpletable\">\n",
       "<tr>\n",
       "  <th>Omnibus:</th>       <td>42239.647</td> <th>  Durbin-Watson:     </th>  <td>   2.011</td>  \n",
       "</tr>\n",
       "<tr>\n",
       "  <th>Prob(Omnibus):</th>  <td> 0.000</td>   <th>  Jarque-Bera (JB):  </th> <td>2141687.594</td>\n",
       "</tr>\n",
       "<tr>\n",
       "  <th>Skew:</th>           <td> 2.189</td>   <th>  Prob(JB):          </th>  <td>    0.00</td>  \n",
       "</tr>\n",
       "<tr>\n",
       "  <th>Kurtosis:</th>       <td>29.594</td>   <th>  Cond. No.          </th>  <td>1.66e+05</td>  \n",
       "</tr>\n",
       "</table><br/><br/>Notes:<br/>[1] R² is computed without centering (uncentered) since the model does not contain a constant.<br/>[2] Standard Errors assume that the covariance matrix of the errors is correctly specified.<br/>[3] The condition number is large, 1.66e+05. This might indicate that there are<br/>strong multicollinearity or other numerical problems."
      ],
      "text/plain": [
       "<class 'statsmodels.iolib.summary.Summary'>\n",
       "\"\"\"\n",
       "                                 OLS Regression Results                                \n",
       "=======================================================================================\n",
       "Dep. Variable:        price_aprox_usd   R-squared (uncentered):                   0.813\n",
       "Model:                            OLS   Adj. R-squared (uncentered):              0.813\n",
       "Method:                 Least Squares   F-statistic:                          6.162e+04\n",
       "Date:                Tue, 30 Nov 2021   Prob (F-statistic):                        0.00\n",
       "Time:                        16:13:22   Log-Likelihood:                     -9.3497e+05\n",
       "No. Observations:               70758   AIC:                                  1.870e+06\n",
       "Df Residuals:                   70753   BIC:                                  1.870e+06\n",
       "Df Model:                           5                                                  \n",
       "Covariance Type:            nonrobust                                                  \n",
       "=========================================================================================\n",
       "                            coef    std err          t      P>|t|      [0.025      0.975]\n",
       "-----------------------------------------------------------------------------------------\n",
       "surface_covered_in_m2  1480.0385      4.503    328.688      0.000    1471.213    1488.864\n",
       "lat                    1076.9199    237.590      4.533      0.000     611.244    1542.595\n",
       "lon                    1264.6476    143.395      8.819      0.000     983.594    1545.701\n",
       "precio_m2                87.3433      0.557    156.718      0.000      86.251      88.436\n",
       "distance_obelisco        -0.0218      0.003     -8.461      0.000      -0.027      -0.017\n",
       "==============================================================================\n",
       "Omnibus:                    42239.647   Durbin-Watson:                   2.011\n",
       "Prob(Omnibus):                  0.000   Jarque-Bera (JB):          2141687.594\n",
       "Skew:                           2.189   Prob(JB):                         0.00\n",
       "Kurtosis:                      29.594   Cond. No.                     1.66e+05\n",
       "==============================================================================\n",
       "\n",
       "Notes:\n",
       "[1] R² is computed without centering (uncentered) since the model does not contain a constant.\n",
       "[2] Standard Errors assume that the covariance matrix of the errors is correctly specified.\n",
       "[3] The condition number is large, 1.66e+05. This might indicate that there are\n",
       "strong multicollinearity or other numerical problems.\n",
       "\"\"\""
      ]
     },
     "execution_count": 231,
     "metadata": {},
     "output_type": "execute_result"
    }
   ],
   "source": [
    "lm_tot.summary()        "
   ]
  },
  {
   "cell_type": "code",
   "execution_count": 232,
   "metadata": {},
   "outputs": [
    {
     "data": {
      "text/plain": [
       "{'fit_time': array([0.01011443, 0.        , 0.00900841]),\n",
       " 'score_time': array([0.        , 0.01697254, 0.0039959 ]),\n",
       " 'test_neg_root_mean_squared_error': array([-129846.90934102, -131849.53459773, -135445.31156715]),\n",
       " 'test_r2': array([0.62852189, 0.63058781, 0.61366405])}"
      ]
     },
     "execution_count": 232,
     "metadata": {},
     "output_type": "execute_result"
    }
   ],
   "source": [
    "cv_tot"
   ]
  },
  {
   "cell_type": "code",
   "execution_count": 233,
   "metadata": {},
   "outputs": [],
   "source": [
    "def error(ground_truth, prediction):\n",
    "\n",
    "    r2 = r2_score(ground_truth, prediction)\n",
    "    RMSE = mean_squared_error(ground_truth, prediction, squared= False)\n",
    "\n",
    "\n",
    "    print('R2:' , round(r2, 4))\n",
    "    print ('RMSE:' , round(RMSE))\n",
    "\n",
    "    return r2, RMSE"
   ]
  },
  {
   "cell_type": "code",
   "execution_count": 234,
   "metadata": {},
   "outputs": [],
   "source": [
    "X = df[['surface_covered_in_m2', 'lat', 'lon', 'precio_m2','distance_obelisco']]\n",
    "y = df.price_aprox_usd\n",
    "X_train, X_test, y_train, y_test = train_test_split(X, y, random_state=7)"
   ]
  },
  {
   "cell_type": "code",
   "execution_count": 235,
   "metadata": {},
   "outputs": [
    {
     "name": "stdout",
     "output_type": "stream",
     "text": [
      "R2: 0.6274\n",
      "RMSE: 132198\n"
     ]
    },
    {
     "data": {
      "text/plain": [
       "(0.6274262499135732, 132197.57962051066)"
      ]
     },
     "execution_count": 235,
     "metadata": {},
     "output_type": "execute_result"
    }
   ],
   "source": [
    "#errores en test\n",
    "predictions = lm_tot.predict(X_test)\n",
    "\n",
    "error(y_test, predictions)"
   ]
  },
  {
   "cell_type": "code",
   "execution_count": 236,
   "metadata": {},
   "outputs": [
    {
     "name": "stdout",
     "output_type": "stream",
     "text": [
      "R2: 0.6233\n",
      "RMSE: 132553\n"
     ]
    },
    {
     "data": {
      "text/plain": [
       "(0.6233279251233403, 132552.99019628056)"
      ]
     },
     "execution_count": 236,
     "metadata": {},
     "output_type": "execute_result"
    }
   ],
   "source": [
    "#errores en train\n",
    "predictions = lm_tot.predict(X_train)\n",
    "\n",
    "error(y_train, predictions)"
   ]
  },
  {
   "cell_type": "markdown",
   "metadata": {},
   "source": [
    "## Departamento"
   ]
  },
  {
   "cell_type": "code",
   "execution_count": 237,
   "metadata": {},
   "outputs": [],
   "source": [
    "df_depto= pd.read_csv('./data/df_depto.csv')"
   ]
  },
  {
   "cell_type": "code",
   "execution_count": 238,
   "metadata": {},
   "outputs": [
    {
     "data": {
      "text/html": [
       "<table class=\"simpletable\">\n",
       "<caption>OLS Regression Results</caption>\n",
       "<tr>\n",
       "  <th>Dep. Variable:</th>     <td>price_aprox_usd</td> <th>  R-squared (uncentered):</th>       <td>   0.833</td>  \n",
       "</tr>\n",
       "<tr>\n",
       "  <th>Model:</th>                   <td>OLS</td>       <th>  Adj. R-squared (uncentered):</th>  <td>   0.833</td>  \n",
       "</tr>\n",
       "<tr>\n",
       "  <th>Method:</th>             <td>Least Squares</td>  <th>  F-statistic:       </th>           <td>4.181e+04</td> \n",
       "</tr>\n",
       "<tr>\n",
       "  <th>Date:</th>             <td>Tue, 30 Nov 2021</td> <th>  Prob (F-statistic):</th>            <td>  0.00</td>   \n",
       "</tr>\n",
       "<tr>\n",
       "  <th>Time:</th>                 <td>16:13:22</td>     <th>  Log-Likelihood:    </th>          <td>-5.3733e+05</td>\n",
       "</tr>\n",
       "<tr>\n",
       "  <th>No. Observations:</th>      <td> 41874</td>      <th>  AIC:               </th>           <td>1.075e+06</td> \n",
       "</tr>\n",
       "<tr>\n",
       "  <th>Df Residuals:</th>          <td> 41869</td>      <th>  BIC:               </th>           <td>1.075e+06</td> \n",
       "</tr>\n",
       "<tr>\n",
       "  <th>Df Model:</th>              <td>     5</td>      <th>                     </th>               <td> </td>     \n",
       "</tr>\n",
       "<tr>\n",
       "  <th>Covariance Type:</th>      <td>nonrobust</td>    <th>                     </th>               <td> </td>     \n",
       "</tr>\n",
       "</table>\n",
       "<table class=\"simpletable\">\n",
       "<tr>\n",
       "            <td></td>               <th>coef</th>     <th>std err</th>      <th>t</th>      <th>P>|t|</th>  <th>[0.025</th>    <th>0.975]</th>  \n",
       "</tr>\n",
       "<tr>\n",
       "  <th>surface_covered_in_m2</th> <td> 2347.1428</td> <td>   11.925</td> <td>  196.824</td> <td> 0.000</td> <td> 2323.769</td> <td> 2370.516</td>\n",
       "</tr>\n",
       "<tr>\n",
       "  <th>lat</th>                   <td> 1946.0906</td> <td>  220.483</td> <td>    8.826</td> <td> 0.000</td> <td> 1513.939</td> <td> 2378.242</td>\n",
       "</tr>\n",
       "<tr>\n",
       "  <th>lon</th>                   <td> 1276.1756</td> <td>  133.516</td> <td>    9.558</td> <td> 0.000</td> <td> 1014.481</td> <td> 1537.871</td>\n",
       "</tr>\n",
       "<tr>\n",
       "  <th>precio_m2</th>             <td>   73.4361</td> <td>    0.518</td> <td>  141.720</td> <td> 0.000</td> <td>   72.420</td> <td>   74.452</td>\n",
       "</tr>\n",
       "<tr>\n",
       "  <th>distance_obelisco</th>     <td>   -0.0163</td> <td>    0.003</td> <td>   -6.275</td> <td> 0.000</td> <td>   -0.021</td> <td>   -0.011</td>\n",
       "</tr>\n",
       "</table>\n",
       "<table class=\"simpletable\">\n",
       "<tr>\n",
       "  <th>Omnibus:</th>       <td>39017.400</td> <th>  Durbin-Watson:     </th>  <td>   2.003</td>  \n",
       "</tr>\n",
       "<tr>\n",
       "  <th>Prob(Omnibus):</th>  <td> 0.000</td>   <th>  Jarque-Bera (JB):  </th> <td>2269537.297</td>\n",
       "</tr>\n",
       "<tr>\n",
       "  <th>Skew:</th>           <td> 4.410</td>   <th>  Prob(JB):          </th>  <td>    0.00</td>  \n",
       "</tr>\n",
       "<tr>\n",
       "  <th>Kurtosis:</th>       <td>37.971</td>   <th>  Cond. No.          </th>  <td>1.58e+05</td>  \n",
       "</tr>\n",
       "</table><br/><br/>Notes:<br/>[1] R² is computed without centering (uncentered) since the model does not contain a constant.<br/>[2] Standard Errors assume that the covariance matrix of the errors is correctly specified.<br/>[3] The condition number is large, 1.58e+05. This might indicate that there are<br/>strong multicollinearity or other numerical problems."
      ],
      "text/plain": [
       "<class 'statsmodels.iolib.summary.Summary'>\n",
       "\"\"\"\n",
       "                                 OLS Regression Results                                \n",
       "=======================================================================================\n",
       "Dep. Variable:        price_aprox_usd   R-squared (uncentered):                   0.833\n",
       "Model:                            OLS   Adj. R-squared (uncentered):              0.833\n",
       "Method:                 Least Squares   F-statistic:                          4.181e+04\n",
       "Date:                Tue, 30 Nov 2021   Prob (F-statistic):                        0.00\n",
       "Time:                        16:13:22   Log-Likelihood:                     -5.3733e+05\n",
       "No. Observations:               41874   AIC:                                  1.075e+06\n",
       "Df Residuals:                   41869   BIC:                                  1.075e+06\n",
       "Df Model:                           5                                                  \n",
       "Covariance Type:            nonrobust                                                  \n",
       "=========================================================================================\n",
       "                            coef    std err          t      P>|t|      [0.025      0.975]\n",
       "-----------------------------------------------------------------------------------------\n",
       "surface_covered_in_m2  2347.1428     11.925    196.824      0.000    2323.769    2370.516\n",
       "lat                    1946.0906    220.483      8.826      0.000    1513.939    2378.242\n",
       "lon                    1276.1756    133.516      9.558      0.000    1014.481    1537.871\n",
       "precio_m2                73.4361      0.518    141.720      0.000      72.420      74.452\n",
       "distance_obelisco        -0.0163      0.003     -6.275      0.000      -0.021      -0.011\n",
       "==============================================================================\n",
       "Omnibus:                    39017.400   Durbin-Watson:                   2.003\n",
       "Prob(Omnibus):                  0.000   Jarque-Bera (JB):          2269537.297\n",
       "Skew:                           4.410   Prob(JB):                         0.00\n",
       "Kurtosis:                      37.971   Cond. No.                     1.58e+05\n",
       "==============================================================================\n",
       "\n",
       "Notes:\n",
       "[1] R² is computed without centering (uncentered) since the model does not contain a constant.\n",
       "[2] Standard Errors assume that the covariance matrix of the errors is correctly specified.\n",
       "[3] The condition number is large, 1.58e+05. This might indicate that there are\n",
       "strong multicollinearity or other numerical problems.\n",
       "\"\"\""
      ]
     },
     "execution_count": 238,
     "metadata": {},
     "output_type": "execute_result"
    }
   ],
   "source": [
    "cv_depto, lm_depto = reg_lineal_multiple(df_depto,['surface_covered_in_m2', 'lat', 'lon', 'precio_m2','distance_obelisco'] )\n",
    "lm_depto.summary()"
   ]
  },
  {
   "cell_type": "code",
   "execution_count": 239,
   "metadata": {},
   "outputs": [
    {
     "data": {
      "text/plain": [
       "{'fit_time': array([0.0059998 , 0.00599837, 0.00685644]),\n",
       " 'score_time': array([0.00400066, 0.00300169, 0.00300312]),\n",
       " 'test_neg_root_mean_squared_error': array([-90512.53052934, -91426.12337188, -89361.10118498]),\n",
       " 'test_r2': array([0.62016164, 0.63474404, 0.63465903])}"
      ]
     },
     "execution_count": 239,
     "metadata": {},
     "output_type": "execute_result"
    }
   ],
   "source": [
    "cv_depto"
   ]
  },
  {
   "cell_type": "markdown",
   "metadata": {},
   "source": [
    "## Casas\n"
   ]
  },
  {
   "cell_type": "code",
   "execution_count": 240,
   "metadata": {},
   "outputs": [],
   "source": [
    "df_casa= pd.read_csv('./data/df_casa.csv')"
   ]
  },
  {
   "cell_type": "code",
   "execution_count": 241,
   "metadata": {},
   "outputs": [
    {
     "data": {
      "text/html": [
       "<table class=\"simpletable\">\n",
       "<caption>OLS Regression Results</caption>\n",
       "<tr>\n",
       "  <th>Dep. Variable:</th>     <td>price_aprox_usd</td> <th>  R-squared (uncentered):</th>       <td>   0.825</td>  \n",
       "</tr>\n",
       "<tr>\n",
       "  <th>Model:</th>                   <td>OLS</td>       <th>  Adj. R-squared (uncentered):</th>  <td>   0.825</td>  \n",
       "</tr>\n",
       "<tr>\n",
       "  <th>Method:</th>             <td>Least Squares</td>  <th>  F-statistic:       </th>           <td>2.212e+04</td> \n",
       "</tr>\n",
       "<tr>\n",
       "  <th>Date:</th>             <td>Tue, 30 Nov 2021</td> <th>  Prob (F-statistic):</th>            <td>  0.00</td>   \n",
       "</tr>\n",
       "<tr>\n",
       "  <th>Time:</th>                 <td>16:13:23</td>     <th>  Log-Likelihood:    </th>          <td>-3.1653e+05</td>\n",
       "</tr>\n",
       "<tr>\n",
       "  <th>No. Observations:</th>      <td> 23469</td>      <th>  AIC:               </th>           <td>6.331e+05</td> \n",
       "</tr>\n",
       "<tr>\n",
       "  <th>Df Residuals:</th>          <td> 23464</td>      <th>  BIC:               </th>           <td>6.331e+05</td> \n",
       "</tr>\n",
       "<tr>\n",
       "  <th>Df Model:</th>              <td>     5</td>      <th>                     </th>               <td> </td>     \n",
       "</tr>\n",
       "<tr>\n",
       "  <th>Covariance Type:</th>      <td>nonrobust</td>    <th>                     </th>               <td> </td>     \n",
       "</tr>\n",
       "</table>\n",
       "<table class=\"simpletable\">\n",
       "<tr>\n",
       "            <td></td>               <th>coef</th>     <th>std err</th>      <th>t</th>      <th>P>|t|</th>  <th>[0.025</th>    <th>0.975]</th>  \n",
       "</tr>\n",
       "<tr>\n",
       "  <th>surface_covered_in_m2</th> <td> 1383.8976</td> <td>    8.820</td> <td>  156.906</td> <td> 0.000</td> <td> 1366.610</td> <td> 1401.185</td>\n",
       "</tr>\n",
       "<tr>\n",
       "  <th>lat</th>                   <td>-1046.2859</td> <td>  510.959</td> <td>   -2.048</td> <td> 0.041</td> <td>-2047.798</td> <td>  -44.774</td>\n",
       "</tr>\n",
       "<tr>\n",
       "  <th>lon</th>                   <td> 2859.1893</td> <td>  308.802</td> <td>    9.259</td> <td> 0.000</td> <td> 2253.917</td> <td> 3464.462</td>\n",
       "</tr>\n",
       "<tr>\n",
       "  <th>precio_m2</th>             <td>  132.6480</td> <td>    1.668</td> <td>   79.545</td> <td> 0.000</td> <td>  129.379</td> <td>  135.917</td>\n",
       "</tr>\n",
       "<tr>\n",
       "  <th>distance_obelisco</th>     <td>   -0.0253</td> <td>    0.005</td> <td>   -4.909</td> <td> 0.000</td> <td>   -0.035</td> <td>   -0.015</td>\n",
       "</tr>\n",
       "</table>\n",
       "<table class=\"simpletable\">\n",
       "<tr>\n",
       "  <th>Omnibus:</th>       <td>12017.682</td> <th>  Durbin-Watson:     </th>  <td>   1.997</td> \n",
       "</tr>\n",
       "<tr>\n",
       "  <th>Prob(Omnibus):</th>  <td> 0.000</td>   <th>  Jarque-Bera (JB):  </th> <td>342195.799</td>\n",
       "</tr>\n",
       "<tr>\n",
       "  <th>Skew:</th>           <td> 1.897</td>   <th>  Prob(JB):          </th>  <td>    0.00</td> \n",
       "</tr>\n",
       "<tr>\n",
       "  <th>Kurtosis:</th>       <td>21.318</td>   <th>  Cond. No.          </th>  <td>1.79e+05</td> \n",
       "</tr>\n",
       "</table><br/><br/>Notes:<br/>[1] R² is computed without centering (uncentered) since the model does not contain a constant.<br/>[2] Standard Errors assume that the covariance matrix of the errors is correctly specified.<br/>[3] The condition number is large, 1.79e+05. This might indicate that there are<br/>strong multicollinearity or other numerical problems."
      ],
      "text/plain": [
       "<class 'statsmodels.iolib.summary.Summary'>\n",
       "\"\"\"\n",
       "                                 OLS Regression Results                                \n",
       "=======================================================================================\n",
       "Dep. Variable:        price_aprox_usd   R-squared (uncentered):                   0.825\n",
       "Model:                            OLS   Adj. R-squared (uncentered):              0.825\n",
       "Method:                 Least Squares   F-statistic:                          2.212e+04\n",
       "Date:                Tue, 30 Nov 2021   Prob (F-statistic):                        0.00\n",
       "Time:                        16:13:23   Log-Likelihood:                     -3.1653e+05\n",
       "No. Observations:               23469   AIC:                                  6.331e+05\n",
       "Df Residuals:                   23464   BIC:                                  6.331e+05\n",
       "Df Model:                           5                                                  \n",
       "Covariance Type:            nonrobust                                                  \n",
       "=========================================================================================\n",
       "                            coef    std err          t      P>|t|      [0.025      0.975]\n",
       "-----------------------------------------------------------------------------------------\n",
       "surface_covered_in_m2  1383.8976      8.820    156.906      0.000    1366.610    1401.185\n",
       "lat                   -1046.2859    510.959     -2.048      0.041   -2047.798     -44.774\n",
       "lon                    2859.1893    308.802      9.259      0.000    2253.917    3464.462\n",
       "precio_m2               132.6480      1.668     79.545      0.000     129.379     135.917\n",
       "distance_obelisco        -0.0253      0.005     -4.909      0.000      -0.035      -0.015\n",
       "==============================================================================\n",
       "Omnibus:                    12017.682   Durbin-Watson:                   1.997\n",
       "Prob(Omnibus):                  0.000   Jarque-Bera (JB):           342195.799\n",
       "Skew:                           1.897   Prob(JB):                         0.00\n",
       "Kurtosis:                      21.318   Cond. No.                     1.79e+05\n",
       "==============================================================================\n",
       "\n",
       "Notes:\n",
       "[1] R² is computed without centering (uncentered) since the model does not contain a constant.\n",
       "[2] Standard Errors assume that the covariance matrix of the errors is correctly specified.\n",
       "[3] The condition number is large, 1.79e+05. This might indicate that there are\n",
       "strong multicollinearity or other numerical problems.\n",
       "\"\"\""
      ]
     },
     "execution_count": 241,
     "metadata": {},
     "output_type": "execute_result"
    }
   ],
   "source": [
    "cv_casa, lm_casa = reg_lineal_multiple(df_casa,['surface_covered_in_m2', 'lat', 'lon', 'precio_m2','distance_obelisco'] )\n",
    "lm_casa.summary()"
   ]
  },
  {
   "cell_type": "code",
   "execution_count": 242,
   "metadata": {},
   "outputs": [
    {
     "data": {
      "text/plain": [
       "{'fit_time': array([0.00699973, 0.00500393, 0.00400352]),\n",
       " 'score_time': array([0.00399613, 0.00199652, 0.00299859]),\n",
       " 'test_neg_root_mean_squared_error': array([-179133.02876885, -168975.69527524, -173811.68606442]),\n",
       " 'test_r2': array([0.59319094, 0.5921838 , 0.59526474])}"
      ]
     },
     "execution_count": 242,
     "metadata": {},
     "output_type": "execute_result"
    }
   ],
   "source": [
    "cv_casa"
   ]
  },
  {
   "cell_type": "markdown",
   "metadata": {},
   "source": [
    "## Store\n"
   ]
  },
  {
   "cell_type": "code",
   "execution_count": 243,
   "metadata": {},
   "outputs": [],
   "source": [
    "df_store = pd.read_csv('./data/df_store.csv')"
   ]
  },
  {
   "cell_type": "code",
   "execution_count": 244,
   "metadata": {},
   "outputs": [
    {
     "data": {
      "text/html": [
       "<table class=\"simpletable\">\n",
       "<caption>OLS Regression Results</caption>\n",
       "<tr>\n",
       "  <th>Dep. Variable:</th>     <td>price_aprox_usd</td> <th>  R-squared (uncentered):</th>      <td>   0.812</td> \n",
       "</tr>\n",
       "<tr>\n",
       "  <th>Model:</th>                   <td>OLS</td>       <th>  Adj. R-squared (uncentered):</th> <td>   0.811</td> \n",
       "</tr>\n",
       "<tr>\n",
       "  <th>Method:</th>             <td>Least Squares</td>  <th>  F-statistic:       </th>          <td>   1819.</td> \n",
       "</tr>\n",
       "<tr>\n",
       "  <th>Date:</th>             <td>Tue, 30 Nov 2021</td> <th>  Prob (F-statistic):</th>           <td>  0.00</td>  \n",
       "</tr>\n",
       "<tr>\n",
       "  <th>Time:</th>                 <td>16:13:23</td>     <th>  Log-Likelihood:    </th>          <td> -28807.</td> \n",
       "</tr>\n",
       "<tr>\n",
       "  <th>No. Observations:</th>      <td>  2113</td>      <th>  AIC:               </th>          <td>5.762e+04</td>\n",
       "</tr>\n",
       "<tr>\n",
       "  <th>Df Residuals:</th>          <td>  2108</td>      <th>  BIC:               </th>          <td>5.765e+04</td>\n",
       "</tr>\n",
       "<tr>\n",
       "  <th>Df Model:</th>              <td>     5</td>      <th>                     </th>              <td> </td>    \n",
       "</tr>\n",
       "<tr>\n",
       "  <th>Covariance Type:</th>      <td>nonrobust</td>    <th>                     </th>              <td> </td>    \n",
       "</tr>\n",
       "</table>\n",
       "<table class=\"simpletable\">\n",
       "<tr>\n",
       "            <td></td>               <th>coef</th>     <th>std err</th>      <th>t</th>      <th>P>|t|</th>  <th>[0.025</th>    <th>0.975]</th>  \n",
       "</tr>\n",
       "<tr>\n",
       "  <th>surface_covered_in_m2</th> <td> 1147.5411</td> <td>   20.455</td> <td>   56.100</td> <td> 0.000</td> <td> 1107.427</td> <td> 1187.656</td>\n",
       "</tr>\n",
       "<tr>\n",
       "  <th>lat</th>                   <td>-1254.4138</td> <td> 1788.917</td> <td>   -0.701</td> <td> 0.483</td> <td>-4762.641</td> <td> 2253.814</td>\n",
       "</tr>\n",
       "<tr>\n",
       "  <th>lon</th>                   <td> 2753.5695</td> <td> 1064.992</td> <td>    2.586</td> <td> 0.010</td> <td>  665.024</td> <td> 4842.115</td>\n",
       "</tr>\n",
       "<tr>\n",
       "  <th>precio_m2</th>             <td>  108.2138</td> <td>    3.626</td> <td>   29.842</td> <td> 0.000</td> <td>  101.103</td> <td>  115.325</td>\n",
       "</tr>\n",
       "<tr>\n",
       "  <th>distance_obelisco</th>     <td>    0.0269</td> <td>    0.016</td> <td>    1.646</td> <td> 0.100</td> <td>   -0.005</td> <td>    0.059</td>\n",
       "</tr>\n",
       "</table>\n",
       "<table class=\"simpletable\">\n",
       "<tr>\n",
       "  <th>Omnibus:</th>       <td>649.495</td> <th>  Durbin-Watson:     </th> <td>   2.003</td>\n",
       "</tr>\n",
       "<tr>\n",
       "  <th>Prob(Omnibus):</th> <td> 0.000</td>  <th>  Jarque-Bera (JB):  </th> <td>5075.262</td>\n",
       "</tr>\n",
       "<tr>\n",
       "  <th>Skew:</th>          <td> 1.227</td>  <th>  Prob(JB):          </th> <td>    0.00</td>\n",
       "</tr>\n",
       "<tr>\n",
       "  <th>Kurtosis:</th>      <td>10.185</td>  <th>  Cond. No.          </th> <td>1.81e+05</td>\n",
       "</tr>\n",
       "</table><br/><br/>Notes:<br/>[1] R² is computed without centering (uncentered) since the model does not contain a constant.<br/>[2] Standard Errors assume that the covariance matrix of the errors is correctly specified.<br/>[3] The condition number is large, 1.81e+05. This might indicate that there are<br/>strong multicollinearity or other numerical problems."
      ],
      "text/plain": [
       "<class 'statsmodels.iolib.summary.Summary'>\n",
       "\"\"\"\n",
       "                                 OLS Regression Results                                \n",
       "=======================================================================================\n",
       "Dep. Variable:        price_aprox_usd   R-squared (uncentered):                   0.812\n",
       "Model:                            OLS   Adj. R-squared (uncentered):              0.811\n",
       "Method:                 Least Squares   F-statistic:                              1819.\n",
       "Date:                Tue, 30 Nov 2021   Prob (F-statistic):                        0.00\n",
       "Time:                        16:13:23   Log-Likelihood:                         -28807.\n",
       "No. Observations:                2113   AIC:                                  5.762e+04\n",
       "Df Residuals:                    2108   BIC:                                  5.765e+04\n",
       "Df Model:                           5                                                  \n",
       "Covariance Type:            nonrobust                                                  \n",
       "=========================================================================================\n",
       "                            coef    std err          t      P>|t|      [0.025      0.975]\n",
       "-----------------------------------------------------------------------------------------\n",
       "surface_covered_in_m2  1147.5411     20.455     56.100      0.000    1107.427    1187.656\n",
       "lat                   -1254.4138   1788.917     -0.701      0.483   -4762.641    2253.814\n",
       "lon                    2753.5695   1064.992      2.586      0.010     665.024    4842.115\n",
       "precio_m2               108.2138      3.626     29.842      0.000     101.103     115.325\n",
       "distance_obelisco         0.0269      0.016      1.646      0.100      -0.005       0.059\n",
       "==============================================================================\n",
       "Omnibus:                      649.495   Durbin-Watson:                   2.003\n",
       "Prob(Omnibus):                  0.000   Jarque-Bera (JB):             5075.262\n",
       "Skew:                           1.227   Prob(JB):                         0.00\n",
       "Kurtosis:                      10.185   Cond. No.                     1.81e+05\n",
       "==============================================================================\n",
       "\n",
       "Notes:\n",
       "[1] R² is computed without centering (uncentered) since the model does not contain a constant.\n",
       "[2] Standard Errors assume that the covariance matrix of the errors is correctly specified.\n",
       "[3] The condition number is large, 1.81e+05. This might indicate that there are\n",
       "strong multicollinearity or other numerical problems.\n",
       "\"\"\""
      ]
     },
     "execution_count": 244,
     "metadata": {},
     "output_type": "execute_result"
    }
   ],
   "source": [
    "cv_store, lm_store = reg_lineal_multiple(df_store,['surface_covered_in_m2', 'lat', 'lon', 'precio_m2','distance_obelisco'] )\n",
    "lm_store.summary()"
   ]
  },
  {
   "cell_type": "code",
   "execution_count": 245,
   "metadata": {},
   "outputs": [
    {
     "data": {
      "text/plain": [
       "{'fit_time': array([0.00399828, 0.00400043, 0.00300622]),\n",
       " 'score_time': array([0.00400019, 0.00299478, 0.00299835]),\n",
       " 'test_neg_root_mean_squared_error': array([-207406.799876  , -201183.64350331, -198033.57273149]),\n",
       " 'test_r2': array([0.61667837, 0.60017834, 0.63444208])}"
      ]
     },
     "execution_count": 245,
     "metadata": {},
     "output_type": "execute_result"
    }
   ],
   "source": [
    "cv_store"
   ]
  },
  {
   "cell_type": "markdown",
   "metadata": {},
   "source": [
    "## PH\n"
   ]
  },
  {
   "cell_type": "code",
   "execution_count": 246,
   "metadata": {},
   "outputs": [],
   "source": [
    "df_ph= pd.read_csv('./data/df_ph.csv')"
   ]
  },
  {
   "cell_type": "code",
   "execution_count": 247,
   "metadata": {},
   "outputs": [
    {
     "data": {
      "text/html": [
       "<table class=\"simpletable\">\n",
       "<caption>OLS Regression Results</caption>\n",
       "<tr>\n",
       "  <th>Dep. Variable:</th>     <td>price_aprox_usd</td> <th>  R-squared (uncentered):</th>      <td>   0.914</td> \n",
       "</tr>\n",
       "<tr>\n",
       "  <th>Model:</th>                   <td>OLS</td>       <th>  Adj. R-squared (uncentered):</th> <td>   0.914</td> \n",
       "</tr>\n",
       "<tr>\n",
       "  <th>Method:</th>             <td>Least Squares</td>  <th>  F-statistic:       </th>          <td>   7043.</td> \n",
       "</tr>\n",
       "<tr>\n",
       "  <th>Date:</th>             <td>Tue, 30 Nov 2021</td> <th>  Prob (F-statistic):</th>           <td>  0.00</td>  \n",
       "</tr>\n",
       "<tr>\n",
       "  <th>Time:</th>                 <td>16:13:23</td>     <th>  Log-Likelihood:    </th>          <td> -40026.</td> \n",
       "</tr>\n",
       "<tr>\n",
       "  <th>No. Observations:</th>      <td>  3300</td>      <th>  AIC:               </th>          <td>8.006e+04</td>\n",
       "</tr>\n",
       "<tr>\n",
       "  <th>Df Residuals:</th>          <td>  3295</td>      <th>  BIC:               </th>          <td>8.009e+04</td>\n",
       "</tr>\n",
       "<tr>\n",
       "  <th>Df Model:</th>              <td>     5</td>      <th>                     </th>              <td> </td>    \n",
       "</tr>\n",
       "<tr>\n",
       "  <th>Covariance Type:</th>      <td>nonrobust</td>    <th>                     </th>              <td> </td>    \n",
       "</tr>\n",
       "</table>\n",
       "<table class=\"simpletable\">\n",
       "<tr>\n",
       "            <td></td>               <th>coef</th>     <th>std err</th>      <th>t</th>      <th>P>|t|</th>  <th>[0.025</th>    <th>0.975]</th>  \n",
       "</tr>\n",
       "<tr>\n",
       "  <th>surface_covered_in_m2</th> <td> 1195.9148</td> <td>   19.460</td> <td>   61.453</td> <td> 0.000</td> <td> 1157.759</td> <td> 1234.071</td>\n",
       "</tr>\n",
       "<tr>\n",
       "  <th>lat</th>                   <td> 2323.3592</td> <td>  416.193</td> <td>    5.582</td> <td> 0.000</td> <td> 1507.336</td> <td> 3139.382</td>\n",
       "</tr>\n",
       "<tr>\n",
       "  <th>lon</th>                   <td> -652.8908</td> <td>  255.128</td> <td>   -2.559</td> <td> 0.011</td> <td>-1153.117</td> <td> -152.665</td>\n",
       "</tr>\n",
       "<tr>\n",
       "  <th>precio_m2</th>             <td>   53.6693</td> <td>    1.347</td> <td>   39.852</td> <td> 0.000</td> <td>   51.029</td> <td>   56.310</td>\n",
       "</tr>\n",
       "<tr>\n",
       "  <th>distance_obelisco</th>     <td>   -0.0376</td> <td>    0.004</td> <td>   -9.003</td> <td> 0.000</td> <td>   -0.046</td> <td>   -0.029</td>\n",
       "</tr>\n",
       "</table>\n",
       "<table class=\"simpletable\">\n",
       "<tr>\n",
       "  <th>Omnibus:</th>       <td>477.241</td> <th>  Durbin-Watson:     </th> <td>   2.005</td>\n",
       "</tr>\n",
       "<tr>\n",
       "  <th>Prob(Omnibus):</th> <td> 0.000</td>  <th>  Jarque-Bera (JB):  </th> <td>4036.350</td>\n",
       "</tr>\n",
       "<tr>\n",
       "  <th>Skew:</th>          <td> 0.416</td>  <th>  Prob(JB):          </th> <td>    0.00</td>\n",
       "</tr>\n",
       "<tr>\n",
       "  <th>Kurtosis:</th>      <td> 8.354</td>  <th>  Cond. No.          </th> <td>1.46e+05</td>\n",
       "</tr>\n",
       "</table><br/><br/>Notes:<br/>[1] R² is computed without centering (uncentered) since the model does not contain a constant.<br/>[2] Standard Errors assume that the covariance matrix of the errors is correctly specified.<br/>[3] The condition number is large, 1.46e+05. This might indicate that there are<br/>strong multicollinearity or other numerical problems."
      ],
      "text/plain": [
       "<class 'statsmodels.iolib.summary.Summary'>\n",
       "\"\"\"\n",
       "                                 OLS Regression Results                                \n",
       "=======================================================================================\n",
       "Dep. Variable:        price_aprox_usd   R-squared (uncentered):                   0.914\n",
       "Model:                            OLS   Adj. R-squared (uncentered):              0.914\n",
       "Method:                 Least Squares   F-statistic:                              7043.\n",
       "Date:                Tue, 30 Nov 2021   Prob (F-statistic):                        0.00\n",
       "Time:                        16:13:23   Log-Likelihood:                         -40026.\n",
       "No. Observations:                3300   AIC:                                  8.006e+04\n",
       "Df Residuals:                    3295   BIC:                                  8.009e+04\n",
       "Df Model:                           5                                                  \n",
       "Covariance Type:            nonrobust                                                  \n",
       "=========================================================================================\n",
       "                            coef    std err          t      P>|t|      [0.025      0.975]\n",
       "-----------------------------------------------------------------------------------------\n",
       "surface_covered_in_m2  1195.9148     19.460     61.453      0.000    1157.759    1234.071\n",
       "lat                    2323.3592    416.193      5.582      0.000    1507.336    3139.382\n",
       "lon                    -652.8908    255.128     -2.559      0.011   -1153.117    -152.665\n",
       "precio_m2                53.6693      1.347     39.852      0.000      51.029      56.310\n",
       "distance_obelisco        -0.0376      0.004     -9.003      0.000      -0.046      -0.029\n",
       "==============================================================================\n",
       "Omnibus:                      477.241   Durbin-Watson:                   2.005\n",
       "Prob(Omnibus):                  0.000   Jarque-Bera (JB):             4036.350\n",
       "Skew:                           0.416   Prob(JB):                         0.00\n",
       "Kurtosis:                       8.354   Cond. No.                     1.46e+05\n",
       "==============================================================================\n",
       "\n",
       "Notes:\n",
       "[1] R² is computed without centering (uncentered) since the model does not contain a constant.\n",
       "[2] Standard Errors assume that the covariance matrix of the errors is correctly specified.\n",
       "[3] The condition number is large, 1.46e+05. This might indicate that there are\n",
       "strong multicollinearity or other numerical problems.\n",
       "\"\"\""
      ]
     },
     "execution_count": 247,
     "metadata": {},
     "output_type": "execute_result"
    }
   ],
   "source": [
    "cv_ph, lm_ph = reg_lineal_multiple(df_ph,['surface_covered_in_m2', 'lat', 'lon', 'precio_m2','distance_obelisco'] )\n",
    "lm_ph.summary()"
   ]
  },
  {
   "cell_type": "code",
   "execution_count": 248,
   "metadata": {},
   "outputs": [
    {
     "data": {
      "text/plain": [
       "{'fit_time': array([0.00299191, 0.00300431, 0.00399804]),\n",
       " 'score_time': array([0.00200129, 0.00199866, 0.00199842]),\n",
       " 'test_neg_root_mean_squared_error': array([-44227.13994483, -45296.90119278, -44364.84671731]),\n",
       " 'test_r2': array([0.61799237, 0.59850453, 0.60945853])}"
      ]
     },
     "execution_count": 248,
     "metadata": {},
     "output_type": "execute_result"
    }
   ],
   "source": [
    "cv_ph"
   ]
  },
  {
   "cell_type": "code",
   "execution_count": 249,
   "metadata": {},
   "outputs": [],
   "source": [
    "rmse_dict = {'RMSE_ph' : cv_ph['test_neg_root_mean_squared_error'] , 'RMSE_casa':cv_casa['test_neg_root_mean_squared_error'], 'RMSE_depto':cv_depto['test_neg_root_mean_squared_error'], 'RMSE_store':cv_store['test_neg_root_mean_squared_error'], 'RMSE':cv_tot['test_neg_root_mean_squared_error']}"
   ]
  },
  {
   "cell_type": "code",
   "execution_count": 250,
   "metadata": {},
   "outputs": [],
   "source": [
    "df_plot = pd.DataFrame(rmse_dict)"
   ]
  },
  {
   "cell_type": "code",
   "execution_count": 251,
   "metadata": {},
   "outputs": [],
   "source": [
    "df_plot[['RMSE', 'RMSE_store','RMSE_casa', 'RMSE_depto', 'RMSE_ph']] = df_plot[['RMSE', 'RMSE_store','RMSE_casa', 'RMSE_depto', 'RMSE_ph']] * -1"
   ]
  },
  {
   "cell_type": "code",
   "execution_count": 252,
   "metadata": {},
   "outputs": [],
   "source": [
    "df_plot['model'] = 'multivariable'"
   ]
  },
  {
   "cell_type": "code",
   "execution_count": 253,
   "metadata": {},
   "outputs": [
    {
     "data": {
      "text/plain": [
       "<AxesSubplot:>"
      ]
     },
     "execution_count": 253,
     "metadata": {},
     "output_type": "execute_result"
    },
    {
     "data": {
      "image/png": "[encoded data removed]",
      "text/plain": [
       "<Figure size 576x432 with 1 Axes>"
      ]
     },
     "metadata": {
      "needs_background": "light"
     },
     "output_type": "display_data"
    }
   ],
   "source": [
    "plt.figure(figsize=(8, 6))\n",
    "plt.ylim(0, 300000)\n",
    "sns.barplot(data=df_plot, palette= 'magma')"
   ]
  },
  {
   "cell_type": "code",
   "execution_count": 254,
   "metadata": {},
   "outputs": [],
   "source": [
    "df_RMSE_lineal = pd.read_csv('./data/RMSE_lineal_simple.csv')"
   ]
  },
  {
   "cell_type": "code",
   "execution_count": 255,
   "metadata": {},
   "outputs": [],
   "source": [
    "df_RMSE_lineal['model'] ='lineal'"
   ]
  },
  {
   "cell_type": "code",
   "execution_count": 256,
   "metadata": {},
   "outputs": [],
   "source": [
    "df_plot = pd.concat([df_RMSE_lineal,df_plot])"
   ]
  },
  {
   "cell_type": "code",
   "execution_count": 257,
   "metadata": {},
   "outputs": [],
   "source": [
    "df_plot = pd.melt(df_plot, id_vars=['model'])"
   ]
  },
  {
   "cell_type": "code",
   "execution_count": 258,
   "metadata": {},
   "outputs": [
    {
     "data": {
      "text/html": [
       "<div>\n",
       "<style scoped>\n",
       "    .dataframe tbody tr th:only-of-type {\n",
       "        vertical-align: middle;\n",
       "    }\n",
       "\n",
       "    .dataframe tbody tr th {\n",
       "        vertical-align: top;\n",
       "    }\n",
       "\n",
       "    .dataframe thead th {\n",
       "        text-align: right;\n",
       "    }\n",
       "</style>\n",
       "<table border=\"1\" class=\"dataframe\">\n",
       "  <thead>\n",
       "    <tr style=\"text-align: right;\">\n",
       "      <th></th>\n",
       "      <th>model</th>\n",
       "      <th>variable</th>\n",
       "      <th>value</th>\n",
       "    </tr>\n",
       "  </thead>\n",
       "  <tbody>\n",
       "    <tr>\n",
       "      <th>23</th>\n",
       "      <td>multivariable</td>\n",
       "      <td>RMSE_store</td>\n",
       "      <td>198033.572731</td>\n",
       "    </tr>\n",
       "    <tr>\n",
       "      <th>0</th>\n",
       "      <td>lineal</td>\n",
       "      <td>RMSE_ph</td>\n",
       "      <td>56099.575297</td>\n",
       "    </tr>\n",
       "  </tbody>\n",
       "</table>\n",
       "</div>"
      ],
      "text/plain": [
       "            model    variable          value\n",
       "23  multivariable  RMSE_store  198033.572731\n",
       "0          lineal     RMSE_ph   56099.575297"
      ]
     },
     "execution_count": 258,
     "metadata": {},
     "output_type": "execute_result"
    }
   ],
   "source": [
    "df_plot.sample(2)"
   ]
  },
  {
   "cell_type": "code",
   "execution_count": 259,
   "metadata": {},
   "outputs": [
    {
     "data": {
      "text/plain": [
       "<AxesSubplot:xlabel='variable', ylabel='value'>"
      ]
     },
     "execution_count": 259,
     "metadata": {},
     "output_type": "execute_result"
    },
    {
     "data": {
      "image/png": "[encoded data removed]",
      "text/plain": [
       "<Figure size 576x432 with 1 Axes>"
      ]
     },
     "metadata": {
      "needs_background": "light"
     },
     "output_type": "display_data"
    }
   ],
   "source": [
    "plt.figure(figsize=(8, 6))\n",
    "plt.ylim(0, 250000)\n",
    "sns.barplot(data= df_plot, x ='variable', y= 'value', hue= 'model', palette= 'magma')"
   ]
  },
  {
   "cell_type": "markdown",
   "id": "097b3edb",
   "metadata": {},
   "source": [
    "### Regularización"
   ]
  },
  {
   "cell_type": "markdown",
   "id": "34e83356",
   "metadata": {},
   "source": [
    "#### L2 = Regularización con Ridge"
   ]
  },
  {
   "cell_type": "code",
   "execution_count": 260,
   "id": "af96c41b",
   "metadata": {},
   "outputs": [],
   "source": [
    "# Regularización con Ridge\n",
    "\n",
    "from sklearn.preprocessing import StandardScaler\n",
    "\n",
    "X = df[['lat', 'lon', 'surface_covered_in_m2', 'distance_obelisco', 'precio_m2']]\n",
    "\n",
    "scaler = StandardScaler()\n",
    "\n",
    "X_std = scaler.fit_transform(X)\n",
    "\n",
    "y = df['price_aprox_usd']"
   ]
  },
  {
   "cell_type": "code",
   "execution_count": 261,
   "id": "3212c74c",
   "metadata": {},
   "outputs": [
    {
     "name": "stdout",
     "output_type": "stream",
     "text": [
      "El mejor valor de  𝜆  es:\n",
      "10.0\n",
      "El valor de  𝑅MSE  en train es:\n",
      "-132403.89670895878\n"
     ]
    }
   ],
   "source": [
    "X_train, X_test, y_train, y_test = train_test_split(X_std, y, test_size = 0.3, random_state = 117)\n",
    "\n",
    "model_ridge_cv = linear_model.RidgeCV(alphas= [0.3, 0.5, 1.0, 1.1, 1.15, 1.17, 1.18, 1.19, 1.2, 1.21, 1.22, 1.3, 1.4, 1.5, 10.0, 20, 50, 100], \n",
    "                                   fit_intercept=True, scoring='neg_root_mean_squared_error', normalize=False, cv=10)\n",
    "\n",
    "model_fit_ridge_cv = model_ridge_cv.fit(X_train, y_train)\n",
    "\n",
    "print('El mejor valor de  𝜆  es:')\n",
    "print(model_fit_ridge_cv.alpha_)\n",
    "print('El valor de  𝑅MSE  en train es:')\n",
    "print(model_fit_ridge_cv.best_score_)"
   ]
  },
  {
   "cell_type": "code",
   "execution_count": 262,
   "id": "18a51637",
   "metadata": {},
   "outputs": [
    {
     "name": "stdout",
     "output_type": "stream",
     "text": [
      "[ -1791.7478231  -15079.87542545 168647.89079284 -21094.95631564\n",
      "  83941.60468743]\n",
      "217501.01338899572\n",
      "0.6269125760161969\n"
     ]
    }
   ],
   "source": [
    "best_alpha = model_fit_ridge_cv.alpha_\n",
    "model_ridge = linear_model.Ridge(alpha = best_alpha, fit_intercept = True, normalize = False)\n",
    "model_fit_ridge = model_ridge.fit(X_train, y_train)\n",
    "print(model_fit_ridge.coef_)\n",
    "print(model_fit_ridge.intercept_)\n",
    "print(model_fit_ridge.score(X_train, y_train))"
   ]
  },
  {
   "cell_type": "code",
   "execution_count": 263,
   "metadata": {},
   "outputs": [],
   "source": [
    "pred= model_fit_ridge.predict(X_test)"
   ]
  },
  {
   "cell_type": "code",
   "execution_count": 264,
   "metadata": {},
   "outputs": [
    {
     "name": "stdout",
     "output_type": "stream",
     "text": [
      "R2: 0.6219\n",
      "RMSE: 131919\n"
     ]
    }
   ],
   "source": [
    "r2, RMSE_ridge = error(y_test, pred )"
   ]
  },
  {
   "cell_type": "code",
   "execution_count": 265,
   "metadata": {},
   "outputs": [],
   "source": [
    "df_plot = df_plot.append({'model': 'Ridge' ,'variable': 'RMSE',\t'value' : RMSE_ridge}, ignore_index=True)"
   ]
  },
  {
   "cell_type": "code",
   "execution_count": 266,
   "metadata": {},
   "outputs": [
    {
     "data": {
      "text/html": [
       "<div>\n",
       "<style scoped>\n",
       "    .dataframe tbody tr th:only-of-type {\n",
       "        vertical-align: middle;\n",
       "    }\n",
       "\n",
       "    .dataframe tbody tr th {\n",
       "        vertical-align: top;\n",
       "    }\n",
       "\n",
       "    .dataframe thead th {\n",
       "        text-align: right;\n",
       "    }\n",
       "</style>\n",
       "<table border=\"1\" class=\"dataframe\">\n",
       "  <thead>\n",
       "    <tr style=\"text-align: right;\">\n",
       "      <th></th>\n",
       "      <th>model</th>\n",
       "      <th>variable</th>\n",
       "      <th>value</th>\n",
       "    </tr>\n",
       "  </thead>\n",
       "  <tbody>\n",
       "    <tr>\n",
       "      <th>0</th>\n",
       "      <td>lineal</td>\n",
       "      <td>RMSE_ph</td>\n",
       "      <td>56099.575297</td>\n",
       "    </tr>\n",
       "    <tr>\n",
       "      <th>1</th>\n",
       "      <td>lineal</td>\n",
       "      <td>RMSE_ph</td>\n",
       "      <td>55258.360912</td>\n",
       "    </tr>\n",
       "    <tr>\n",
       "      <th>2</th>\n",
       "      <td>lineal</td>\n",
       "      <td>RMSE_ph</td>\n",
       "      <td>56152.490413</td>\n",
       "    </tr>\n",
       "    <tr>\n",
       "      <th>3</th>\n",
       "      <td>multivariable</td>\n",
       "      <td>RMSE_ph</td>\n",
       "      <td>44227.139945</td>\n",
       "    </tr>\n",
       "    <tr>\n",
       "      <th>4</th>\n",
       "      <td>multivariable</td>\n",
       "      <td>RMSE_ph</td>\n",
       "      <td>45296.901193</td>\n",
       "    </tr>\n",
       "    <tr>\n",
       "      <th>5</th>\n",
       "      <td>multivariable</td>\n",
       "      <td>RMSE_ph</td>\n",
       "      <td>44364.846717</td>\n",
       "    </tr>\n",
       "    <tr>\n",
       "      <th>6</th>\n",
       "      <td>lineal</td>\n",
       "      <td>RMSE_casa</td>\n",
       "      <td>204323.844514</td>\n",
       "    </tr>\n",
       "    <tr>\n",
       "      <th>7</th>\n",
       "      <td>lineal</td>\n",
       "      <td>RMSE_casa</td>\n",
       "      <td>191733.356984</td>\n",
       "    </tr>\n",
       "    <tr>\n",
       "      <th>8</th>\n",
       "      <td>lineal</td>\n",
       "      <td>RMSE_casa</td>\n",
       "      <td>199166.128193</td>\n",
       "    </tr>\n",
       "    <tr>\n",
       "      <th>9</th>\n",
       "      <td>multivariable</td>\n",
       "      <td>RMSE_casa</td>\n",
       "      <td>179133.028769</td>\n",
       "    </tr>\n",
       "    <tr>\n",
       "      <th>10</th>\n",
       "      <td>multivariable</td>\n",
       "      <td>RMSE_casa</td>\n",
       "      <td>168975.695275</td>\n",
       "    </tr>\n",
       "    <tr>\n",
       "      <th>11</th>\n",
       "      <td>multivariable</td>\n",
       "      <td>RMSE_casa</td>\n",
       "      <td>173811.686064</td>\n",
       "    </tr>\n",
       "    <tr>\n",
       "      <th>12</th>\n",
       "      <td>lineal</td>\n",
       "      <td>RMSE_depto</td>\n",
       "      <td>113148.106009</td>\n",
       "    </tr>\n",
       "    <tr>\n",
       "      <th>13</th>\n",
       "      <td>lineal</td>\n",
       "      <td>RMSE_depto</td>\n",
       "      <td>116132.906721</td>\n",
       "    </tr>\n",
       "    <tr>\n",
       "      <th>14</th>\n",
       "      <td>lineal</td>\n",
       "      <td>RMSE_depto</td>\n",
       "      <td>113572.229631</td>\n",
       "    </tr>\n",
       "    <tr>\n",
       "      <th>15</th>\n",
       "      <td>multivariable</td>\n",
       "      <td>RMSE_depto</td>\n",
       "      <td>90512.530529</td>\n",
       "    </tr>\n",
       "    <tr>\n",
       "      <th>16</th>\n",
       "      <td>multivariable</td>\n",
       "      <td>RMSE_depto</td>\n",
       "      <td>91426.123372</td>\n",
       "    </tr>\n",
       "    <tr>\n",
       "      <th>17</th>\n",
       "      <td>multivariable</td>\n",
       "      <td>RMSE_depto</td>\n",
       "      <td>89361.101185</td>\n",
       "    </tr>\n",
       "    <tr>\n",
       "      <th>18</th>\n",
       "      <td>lineal</td>\n",
       "      <td>RMSE_store</td>\n",
       "      <td>248224.971339</td>\n",
       "    </tr>\n",
       "    <tr>\n",
       "      <th>19</th>\n",
       "      <td>lineal</td>\n",
       "      <td>RMSE_store</td>\n",
       "      <td>239270.745720</td>\n",
       "    </tr>\n",
       "    <tr>\n",
       "      <th>20</th>\n",
       "      <td>lineal</td>\n",
       "      <td>RMSE_store</td>\n",
       "      <td>241961.522263</td>\n",
       "    </tr>\n",
       "    <tr>\n",
       "      <th>21</th>\n",
       "      <td>multivariable</td>\n",
       "      <td>RMSE_store</td>\n",
       "      <td>207406.799876</td>\n",
       "    </tr>\n",
       "    <tr>\n",
       "      <th>22</th>\n",
       "      <td>multivariable</td>\n",
       "      <td>RMSE_store</td>\n",
       "      <td>201183.643503</td>\n",
       "    </tr>\n",
       "    <tr>\n",
       "      <th>23</th>\n",
       "      <td>multivariable</td>\n",
       "      <td>RMSE_store</td>\n",
       "      <td>198033.572731</td>\n",
       "    </tr>\n",
       "    <tr>\n",
       "      <th>24</th>\n",
       "      <td>lineal</td>\n",
       "      <td>RMSE</td>\n",
       "      <td>154702.507415</td>\n",
       "    </tr>\n",
       "    <tr>\n",
       "      <th>25</th>\n",
       "      <td>lineal</td>\n",
       "      <td>RMSE</td>\n",
       "      <td>156162.485465</td>\n",
       "    </tr>\n",
       "    <tr>\n",
       "      <th>26</th>\n",
       "      <td>lineal</td>\n",
       "      <td>RMSE</td>\n",
       "      <td>159940.433481</td>\n",
       "    </tr>\n",
       "    <tr>\n",
       "      <th>27</th>\n",
       "      <td>multivariable</td>\n",
       "      <td>RMSE</td>\n",
       "      <td>129846.909341</td>\n",
       "    </tr>\n",
       "    <tr>\n",
       "      <th>28</th>\n",
       "      <td>multivariable</td>\n",
       "      <td>RMSE</td>\n",
       "      <td>131849.534598</td>\n",
       "    </tr>\n",
       "    <tr>\n",
       "      <th>29</th>\n",
       "      <td>multivariable</td>\n",
       "      <td>RMSE</td>\n",
       "      <td>135445.311567</td>\n",
       "    </tr>\n",
       "    <tr>\n",
       "      <th>30</th>\n",
       "      <td>lineal</td>\n",
       "      <td>RMSE promedio</td>\n",
       "      <td>216127.976878</td>\n",
       "    </tr>\n",
       "    <tr>\n",
       "      <th>31</th>\n",
       "      <td>lineal</td>\n",
       "      <td>RMSE promedio</td>\n",
       "      <td>216127.976878</td>\n",
       "    </tr>\n",
       "    <tr>\n",
       "      <th>32</th>\n",
       "      <td>lineal</td>\n",
       "      <td>RMSE promedio</td>\n",
       "      <td>216127.976878</td>\n",
       "    </tr>\n",
       "    <tr>\n",
       "      <th>33</th>\n",
       "      <td>multivariable</td>\n",
       "      <td>RMSE promedio</td>\n",
       "      <td>NaN</td>\n",
       "    </tr>\n",
       "    <tr>\n",
       "      <th>34</th>\n",
       "      <td>multivariable</td>\n",
       "      <td>RMSE promedio</td>\n",
       "      <td>NaN</td>\n",
       "    </tr>\n",
       "    <tr>\n",
       "      <th>35</th>\n",
       "      <td>multivariable</td>\n",
       "      <td>RMSE promedio</td>\n",
       "      <td>NaN</td>\n",
       "    </tr>\n",
       "    <tr>\n",
       "      <th>36</th>\n",
       "      <td>Ridge</td>\n",
       "      <td>RMSE</td>\n",
       "      <td>131918.556033</td>\n",
       "    </tr>\n",
       "  </tbody>\n",
       "</table>\n",
       "</div>"
      ],
      "text/plain": [
       "            model       variable          value\n",
       "0          lineal        RMSE_ph   56099.575297\n",
       "1          lineal        RMSE_ph   55258.360912\n",
       "2          lineal        RMSE_ph   56152.490413\n",
       "3   multivariable        RMSE_ph   44227.139945\n",
       "4   multivariable        RMSE_ph   45296.901193\n",
       "5   multivariable        RMSE_ph   44364.846717\n",
       "6          lineal      RMSE_casa  204323.844514\n",
       "7          lineal      RMSE_casa  191733.356984\n",
       "8          lineal      RMSE_casa  199166.128193\n",
       "9   multivariable      RMSE_casa  179133.028769\n",
       "10  multivariable      RMSE_casa  168975.695275\n",
       "11  multivariable      RMSE_casa  173811.686064\n",
       "12         lineal     RMSE_depto  113148.106009\n",
       "13         lineal     RMSE_depto  116132.906721\n",
       "14         lineal     RMSE_depto  113572.229631\n",
       "15  multivariable     RMSE_depto   90512.530529\n",
       "16  multivariable     RMSE_depto   91426.123372\n",
       "17  multivariable     RMSE_depto   89361.101185\n",
       "18         lineal     RMSE_store  248224.971339\n",
       "19         lineal     RMSE_store  239270.745720\n",
       "20         lineal     RMSE_store  241961.522263\n",
       "21  multivariable     RMSE_store  207406.799876\n",
       "22  multivariable     RMSE_store  201183.643503\n",
       "23  multivariable     RMSE_store  198033.572731\n",
       "24         lineal           RMSE  154702.507415\n",
       "25         lineal           RMSE  156162.485465\n",
       "26         lineal           RMSE  159940.433481\n",
       "27  multivariable           RMSE  129846.909341\n",
       "28  multivariable           RMSE  131849.534598\n",
       "29  multivariable           RMSE  135445.311567\n",
       "30         lineal  RMSE promedio  216127.976878\n",
       "31         lineal  RMSE promedio  216127.976878\n",
       "32         lineal  RMSE promedio  216127.976878\n",
       "33  multivariable  RMSE promedio            NaN\n",
       "34  multivariable  RMSE promedio            NaN\n",
       "35  multivariable  RMSE promedio            NaN\n",
       "36          Ridge           RMSE  131918.556033"
      ]
     },
     "execution_count": 266,
     "metadata": {},
     "output_type": "execute_result"
    }
   ],
   "source": [
    "df_plot"
   ]
  },
  {
   "cell_type": "code",
   "execution_count": 267,
   "metadata": {},
   "outputs": [
    {
     "data": {
      "text/plain": [
       "<AxesSubplot:xlabel='model', ylabel='value'>"
      ]
     },
     "execution_count": 267,
     "metadata": {},
     "output_type": "execute_result"
    },
    {
     "data": {
      "image/png": "[encoded data removed]",
      "text/plain": [
       "<Figure size 576x432 with 1 Axes>"
      ]
     },
     "metadata": {
      "needs_background": "light"
     },
     "output_type": "display_data"
    }
   ],
   "source": [
    "plt.figure(figsize=(8, 6))\n",
    "sns.barplot(x = 'model', y= 'value', data= df_plot[df_plot.variable == 'RMSE'], palette='magma')"
   ]
  },
  {
   "cell_type": "markdown",
   "metadata": {},
   "source": [
    "## Lasso"
   ]
  },
  {
   "cell_type": "code",
   "execution_count": 268,
   "metadata": {},
   "outputs": [
    {
     "data": {
      "text/plain": [
       "array([[ 0.66808886, -0.60159852, -0.74229355,  0.48148636, -0.37820461],\n",
       "       [-1.88734742,  0.77536551, -0.56678943,  0.2885108 , -1.33564433],\n",
       "       [-0.07468498,  0.42029578, -0.23333161, -0.57982761, -0.31637733],\n",
       "       ...,\n",
       "       [-1.84159266,  0.77803925,  1.20580215,  0.27139062, -1.22506348],\n",
       "       [-0.00584915,  0.35870019,  3.84713911, -0.51702719,  0.49958574],\n",
       "       [-0.07016067,  0.41041233, -0.54923902, -0.57572902,  1.5875365 ]])"
      ]
     },
     "execution_count": 268,
     "metadata": {},
     "output_type": "execute_result"
    }
   ],
   "source": [
    "X_train"
   ]
  },
  {
   "cell_type": "code",
   "execution_count": 269,
   "metadata": {},
   "outputs": [],
   "source": [
    "alphas = np.logspace(-2,7,20)\n",
    "\n",
    "error_test_lista = []\n",
    "error_train_lista = []\n",
    "\n",
    "params = pd.DataFrame()\n",
    "\n",
    "for alpha in alphas:\n",
    "#     print(alpha, end = ', ')\n",
    "    lasso = linear_model.Lasso(alpha = alpha)\n",
    "    lasso.fit(X_train, y_train)\n",
    "    params = pd.concat([params,pd.DataFrame({f'{alpha}':lasso.coef_})], axis = 1)\n",
    "    \n",
    "    error_train = mean_squared_error(y_train, lasso.predict(X_train), squared=False)\n",
    "    error_test  = mean_squared_error(y_test,  lasso.predict(X_test), squared=False)\n",
    "    \n",
    "    error_test_lista.append( error_test )\n",
    "    error_train_lista.append(error_train)"
   ]
  },
  {
   "cell_type": "code",
   "execution_count": 270,
   "metadata": {},
   "outputs": [
    {
     "data": {
      "text/plain": [
       "array([1.00000000e-02, 2.97635144e-02, 8.85866790e-02, 2.63665090e-01,\n",
       "       7.84759970e-01, 2.33572147e+00, 6.95192796e+00, 2.06913808e+01,\n",
       "       6.15848211e+01, 1.83298071e+02, 5.45559478e+02, 1.62377674e+03,\n",
       "       4.83293024e+03, 1.43844989e+04, 4.28133240e+04, 1.27427499e+05,\n",
       "       3.79269019e+05, 1.12883789e+06, 3.35981829e+06, 1.00000000e+07])"
      ]
     },
     "execution_count": 270,
     "metadata": {},
     "output_type": "execute_result"
    }
   ],
   "source": [
    "alphas"
   ]
  },
  {
   "cell_type": "code",
   "execution_count": 271,
   "metadata": {},
   "outputs": [
    {
     "data": {
      "image/png": "[encoded data removed]",
      "text/plain": [
       "<Figure size 432x288 with 1 Axes>"
      ]
     },
     "metadata": {
      "needs_background": "light"
     },
     "output_type": "display_data"
    }
   ],
   "source": [
    "plt.plot(alphas[::-1], error_test_lista, label = 'test')\n",
    "plt.plot(alphas[::-1], error_train_lista, label = 'train')\n",
    "\n",
    "\n",
    "plt.title('Como evolucionan las métricas a medida que regularizo')\n",
    "plt.legend()\n",
    "plt.xlabel('1 / lambda')\n",
    "plt.ylabel('error')\n",
    "plt.xscale('log')\n",
    "plt.show()"
   ]
  },
  {
   "cell_type": "code",
   "execution_count": 272,
   "metadata": {},
   "outputs": [
    {
     "data": {
      "text/plain": [
       "[131918.37198617708,\n",
       " 131918.3709929556,\n",
       " 131918.36803936426,\n",
       " 131918.35923269443,\n",
       " 131918.3331088716,\n",
       " 131918.25553238302,\n",
       " 131918.02828729013,\n",
       " 131917.37892256447,\n",
       " 131915.69240070527,\n",
       " 131912.9648445465,\n",
       " 131922.9528893627,\n",
       " 132029.93082960902,\n",
       " 132286.2954173836,\n",
       " 134268.5042650066,\n",
       " 149271.07278061498,\n",
       " 199912.4768297352,\n",
       " 214528.31170261183,\n",
       " 214528.31170261183,\n",
       " 214528.31170261183,\n",
       " 214528.31170261183]"
      ]
     },
     "execution_count": 272,
     "metadata": {},
     "output_type": "execute_result"
    }
   ],
   "source": [
    "error_test_lista"
   ]
  },
  {
   "cell_type": "code",
   "execution_count": 273,
   "metadata": {},
   "outputs": [
    {
     "data": {
      "text/html": [
       "<div>\n",
       "<style scoped>\n",
       "    .dataframe tbody tr th:only-of-type {\n",
       "        vertical-align: middle;\n",
       "    }\n",
       "\n",
       "    .dataframe tbody tr th {\n",
       "        vertical-align: top;\n",
       "    }\n",
       "\n",
       "    .dataframe thead th {\n",
       "        text-align: right;\n",
       "    }\n",
       "</style>\n",
       "<table border=\"1\" class=\"dataframe\">\n",
       "  <thead>\n",
       "    <tr style=\"text-align: right;\">\n",
       "      <th></th>\n",
       "      <th>0.01</th>\n",
       "      <th>0.029763514416313176</th>\n",
       "      <th>0.08858667904100823</th>\n",
       "      <th>0.26366508987303583</th>\n",
       "      <th>0.7847599703514611</th>\n",
       "      <th>2.3357214690901213</th>\n",
       "      <th>6.951927961775605</th>\n",
       "      <th>20.69138081114788</th>\n",
       "      <th>61.584821106602604</th>\n",
       "      <th>183.29807108324337</th>\n",
       "      <th>545.5594781168514</th>\n",
       "      <th>1623.776739188721</th>\n",
       "      <th>4832.930238571752</th>\n",
       "      <th>14384.498882876629</th>\n",
       "      <th>42813.32398719387</th>\n",
       "      <th>127427.49857031321</th>\n",
       "      <th>379269.0190732246</th>\n",
       "      <th>1128837.8916846884</th>\n",
       "      <th>3359818.2862837743</th>\n",
       "      <th>10000000.0</th>\n",
       "    </tr>\n",
       "  </thead>\n",
       "  <tbody>\n",
       "    <tr>\n",
       "      <th>0</th>\n",
       "      <td>-1793.782650</td>\n",
       "      <td>-1793.739653</td>\n",
       "      <td>-1793.611743</td>\n",
       "      <td>-1793.230424</td>\n",
       "      <td>-1792.096949</td>\n",
       "      <td>-1788.717975</td>\n",
       "      <td>-1778.677161</td>\n",
       "      <td>-1748.771727</td>\n",
       "      <td>-1659.807209</td>\n",
       "      <td>-1404.588297</td>\n",
       "      <td>-626.898088</td>\n",
       "      <td>-0.000000</td>\n",
       "      <td>-0.000000</td>\n",
       "      <td>-0.000000</td>\n",
       "      <td>-0.000000</td>\n",
       "      <td>-0.000000</td>\n",
       "      <td>-0.0</td>\n",
       "      <td>-0.0</td>\n",
       "      <td>-0.0</td>\n",
       "      <td>-0.0</td>\n",
       "    </tr>\n",
       "    <tr>\n",
       "      <th>1</th>\n",
       "      <td>-15105.629515</td>\n",
       "      <td>-15105.383458</td>\n",
       "      <td>-15104.651588</td>\n",
       "      <td>-15102.468599</td>\n",
       "      <td>-15095.982419</td>\n",
       "      <td>-15076.636450</td>\n",
       "      <td>-15019.179590</td>\n",
       "      <td>-14848.011891</td>\n",
       "      <td>-14338.896494</td>\n",
       "      <td>-12904.805341</td>\n",
       "      <td>-8465.925134</td>\n",
       "      <td>-0.000000</td>\n",
       "      <td>0.000000</td>\n",
       "      <td>0.000000</td>\n",
       "      <td>0.000000</td>\n",
       "      <td>0.000000</td>\n",
       "      <td>0.0</td>\n",
       "      <td>0.0</td>\n",
       "      <td>0.0</td>\n",
       "      <td>0.0</td>\n",
       "    </tr>\n",
       "    <tr>\n",
       "      <th>2</th>\n",
       "      <td>168677.418253</td>\n",
       "      <td>168677.397334</td>\n",
       "      <td>168677.335067</td>\n",
       "      <td>168677.149798</td>\n",
       "      <td>168676.598228</td>\n",
       "      <td>168674.957085</td>\n",
       "      <td>168670.070885</td>\n",
       "      <td>168655.529834</td>\n",
       "      <td>168612.246202</td>\n",
       "      <td>168482.500638</td>\n",
       "      <td>168098.031418</td>\n",
       "      <td>166869.846086</td>\n",
       "      <td>162742.853797</td>\n",
       "      <td>150386.289970</td>\n",
       "      <td>113326.582180</td>\n",
       "      <td>22774.841104</td>\n",
       "      <td>0.0</td>\n",
       "      <td>0.0</td>\n",
       "      <td>0.0</td>\n",
       "      <td>0.0</td>\n",
       "    </tr>\n",
       "    <tr>\n",
       "      <th>3</th>\n",
       "      <td>-21117.170671</td>\n",
       "      <td>-21116.936837</td>\n",
       "      <td>-21116.241301</td>\n",
       "      <td>-21114.166912</td>\n",
       "      <td>-21108.002870</td>\n",
       "      <td>-21089.619705</td>\n",
       "      <td>-21035.016353</td>\n",
       "      <td>-20872.357008</td>\n",
       "      <td>-20388.532090</td>\n",
       "      <td>-19021.797834</td>\n",
       "      <td>-14799.905070</td>\n",
       "      <td>-6301.519795</td>\n",
       "      <td>-3932.054866</td>\n",
       "      <td>-0.000000</td>\n",
       "      <td>-0.000000</td>\n",
       "      <td>-0.000000</td>\n",
       "      <td>-0.0</td>\n",
       "      <td>-0.0</td>\n",
       "      <td>-0.0</td>\n",
       "      <td>-0.0</td>\n",
       "    </tr>\n",
       "    <tr>\n",
       "      <th>4</th>\n",
       "      <td>83960.832448</td>\n",
       "      <td>83960.823483</td>\n",
       "      <td>83960.796774</td>\n",
       "      <td>83960.717517</td>\n",
       "      <td>83960.481055</td>\n",
       "      <td>83959.779322</td>\n",
       "      <td>83957.684481</td>\n",
       "      <td>83951.457370</td>\n",
       "      <td>83932.906135</td>\n",
       "      <td>83873.705323</td>\n",
       "      <td>83705.654151</td>\n",
       "      <td>82918.791704</td>\n",
       "      <td>79347.486863</td>\n",
       "      <td>67816.018914</td>\n",
       "      <td>30109.291593</td>\n",
       "      <td>0.000000</td>\n",
       "      <td>0.0</td>\n",
       "      <td>0.0</td>\n",
       "      <td>0.0</td>\n",
       "      <td>0.0</td>\n",
       "    </tr>\n",
       "  </tbody>\n",
       "</table>\n",
       "</div>"
      ],
      "text/plain": [
       "            0.01  0.029763514416313176  0.08858667904100823  \\\n",
       "0   -1793.782650          -1793.739653         -1793.611743   \n",
       "1  -15105.629515         -15105.383458        -15104.651588   \n",
       "2  168677.418253         168677.397334        168677.335067   \n",
       "3  -21117.170671         -21116.936837        -21116.241301   \n",
       "4   83960.832448          83960.823483         83960.796774   \n",
       "\n",
       "   0.26366508987303583  0.7847599703514611  2.3357214690901213  \\\n",
       "0         -1793.230424        -1792.096949        -1788.717975   \n",
       "1        -15102.468599       -15095.982419       -15076.636450   \n",
       "2        168677.149798       168676.598228       168674.957085   \n",
       "3        -21114.166912       -21108.002870       -21089.619705   \n",
       "4         83960.717517        83960.481055        83959.779322   \n",
       "\n",
       "   6.951927961775605  20.69138081114788  61.584821106602604  \\\n",
       "0       -1778.677161       -1748.771727        -1659.807209   \n",
       "1      -15019.179590      -14848.011891       -14338.896494   \n",
       "2      168670.070885      168655.529834       168612.246202   \n",
       "3      -21035.016353      -20872.357008       -20388.532090   \n",
       "4       83957.684481       83951.457370        83932.906135   \n",
       "\n",
       "   183.29807108324337  545.5594781168514  1623.776739188721  \\\n",
       "0        -1404.588297        -626.898088          -0.000000   \n",
       "1       -12904.805341       -8465.925134          -0.000000   \n",
       "2       168482.500638      168098.031418      166869.846086   \n",
       "3       -19021.797834      -14799.905070       -6301.519795   \n",
       "4        83873.705323       83705.654151       82918.791704   \n",
       "\n",
       "   4832.930238571752  14384.498882876629  42813.32398719387  \\\n",
       "0          -0.000000           -0.000000          -0.000000   \n",
       "1           0.000000            0.000000           0.000000   \n",
       "2      162742.853797       150386.289970      113326.582180   \n",
       "3       -3932.054866           -0.000000          -0.000000   \n",
       "4       79347.486863        67816.018914       30109.291593   \n",
       "\n",
       "   127427.49857031321  379269.0190732246  1128837.8916846884  \\\n",
       "0           -0.000000               -0.0                -0.0   \n",
       "1            0.000000                0.0                 0.0   \n",
       "2        22774.841104                0.0                 0.0   \n",
       "3           -0.000000               -0.0                -0.0   \n",
       "4            0.000000                0.0                 0.0   \n",
       "\n",
       "   3359818.2862837743  10000000.0  \n",
       "0                -0.0        -0.0  \n",
       "1                 0.0         0.0  \n",
       "2                 0.0         0.0  \n",
       "3                -0.0        -0.0  \n",
       "4                 0.0         0.0  "
      ]
     },
     "execution_count": 273,
     "metadata": {},
     "output_type": "execute_result"
    }
   ],
   "source": [
    "params"
   ]
  },
  {
   "cell_type": "code",
   "execution_count": 274,
   "metadata": {},
   "outputs": [],
   "source": [
    "df_plot = df_plot.append({'model': 'Lasso' ,'variable': 'RMSE',\t'value' : error_test_lista[0]}, ignore_index=True)"
   ]
  },
  {
   "cell_type": "code",
   "execution_count": 275,
   "id": "internal-marina",
   "metadata": {},
   "outputs": [],
   "source": [
    "params_to_plot = params\n",
    "alphas_to_plot = params_to_plot.columns\n",
    "alphas_to_plot = np.array(alphas_to_plot, dtype = 'float')"
   ]
  },
  {
   "cell_type": "code",
   "execution_count": 276,
   "id": "quarterly-rhythm",
   "metadata": {},
   "outputs": [
    {
     "data": {
      "image/png": "[encoded data removed]",
      "text/plain": [
       "<Figure size 432x288 with 1 Axes>"
      ]
     },
     "metadata": {
      "needs_background": "light"
     },
     "output_type": "display_data"
    }
   ],
   "source": [
    "plt.plot(alphas_to_plot, np.abs(params_to_plot.loc[0].values), label = 'lat')\n",
    "plt.plot(alphas_to_plot, np.abs(params_to_plot.loc[1].values), label = 'lon')\n",
    "plt.plot(alphas_to_plot, np.abs(params_to_plot.loc[2].values), label = 'surface')\n",
    "plt.plot(alphas_to_plot, np.abs(params_to_plot.loc[3].values), label = 'distancia ob')\n",
    "plt.plot(alphas_to_plot, np.abs(params_to_plot.loc[4].values), label = 'precio m2')\n",
    "# plt.plot(alphas_to_plot, np.abs(params_to_plot.loc[5].values), label = 'b5')\n",
    "# plt.plot(alphas_to_plot, np.abs(params_to_plot.loc[6].values), label = 'b6')\n",
    "\n",
    "plt.legend()\n",
    "plt.xticks(rotation = 90)\n",
    "plt.xscale('log')\n",
    "plt.show()"
   ]
  },
  {
   "cell_type": "code",
   "execution_count": 277,
   "metadata": {},
   "outputs": [
    {
     "data": {
      "text/plain": [
       "<AxesSubplot:xlabel='model', ylabel='value'>"
      ]
     },
     "execution_count": 277,
     "metadata": {},
     "output_type": "execute_result"
    },
    {
     "data": {
      "image/png": "[encoded data removed]",
      "text/plain": [
       "<Figure size 576x432 with 1 Axes>"
      ]
     },
     "metadata": {
      "needs_background": "light"
     },
     "output_type": "display_data"
    }
   ],
   "source": [
    "plt.figure(figsize=(8, 6))\n",
    "sns.barplot(x = 'model', y= 'value', data= df_plot[df_plot.variable == 'RMSE'], palette='magma')"
   ]
  },
  {
   "cell_type": "markdown",
   "metadata": {},
   "source": [
    "## XGBoost"
   ]
  },
  {
   "cell_type": "code",
   "execution_count": 278,
   "metadata": {},
   "outputs": [],
   "source": [
    "import xgboost as xgb\n",
    "from xgboost.sklearn import XGBRegressor"
   ]
  },
  {
   "cell_type": "code",
   "execution_count": 279,
   "metadata": {},
   "outputs": [],
   "source": [
    "X= df[['surface_covered_in_m2', 'lat', 'lon', 'precio_m2', 'distance_obelisco',  'property_type']]\n",
    "X_encoded = pd.get_dummies(X, columns=['property_type'], sparse=True)\n",
    "y = df.price_aprox_usd\n",
    "X_train, X_test, y_train, y_test = train_test_split(X_encoded, y, random_state=7)"
   ]
  },
  {
   "cell_type": "code",
   "execution_count": 280,
   "metadata": {},
   "outputs": [
    {
     "data": {
      "text/html": [
       "<div>\n",
       "<style scoped>\n",
       "    .dataframe tbody tr th:only-of-type {\n",
       "        vertical-align: middle;\n",
       "    }\n",
       "\n",
       "    .dataframe tbody tr th {\n",
       "        vertical-align: top;\n",
       "    }\n",
       "\n",
       "    .dataframe thead th {\n",
       "        text-align: right;\n",
       "    }\n",
       "</style>\n",
       "<table border=\"1\" class=\"dataframe\">\n",
       "  <thead>\n",
       "    <tr style=\"text-align: right;\">\n",
       "      <th></th>\n",
       "      <th>surface_covered_in_m2</th>\n",
       "      <th>lat</th>\n",
       "      <th>lon</th>\n",
       "      <th>precio_m2</th>\n",
       "      <th>distance_obelisco</th>\n",
       "      <th>property_type_PH</th>\n",
       "      <th>property_type_apartment</th>\n",
       "      <th>property_type_house</th>\n",
       "      <th>property_type_store</th>\n",
       "    </tr>\n",
       "  </thead>\n",
       "  <tbody>\n",
       "    <tr>\n",
       "      <th>90115</th>\n",
       "      <td>130.0</td>\n",
       "      <td>-34.63004</td>\n",
       "      <td>-58.524883</td>\n",
       "      <td>1484.615833</td>\n",
       "      <td>16029.19863</td>\n",
       "      <td>1</td>\n",
       "      <td>0</td>\n",
       "      <td>0</td>\n",
       "      <td>0</td>\n",
       "    </tr>\n",
       "    <tr>\n",
       "      <th>64057</th>\n",
       "      <td>190.0</td>\n",
       "      <td>-31.38194</td>\n",
       "      <td>-64.055450</td>\n",
       "      <td>1552.631579</td>\n",
       "      <td>655343.37360</td>\n",
       "      <td>0</td>\n",
       "      <td>0</td>\n",
       "      <td>1</td>\n",
       "      <td>0</td>\n",
       "    </tr>\n",
       "  </tbody>\n",
       "</table>\n",
       "</div>"
      ],
      "text/plain": [
       "       surface_covered_in_m2       lat        lon    precio_m2  \\\n",
       "90115                  130.0 -34.63004 -58.524883  1484.615833   \n",
       "64057                  190.0 -31.38194 -64.055450  1552.631579   \n",
       "\n",
       "       distance_obelisco  property_type_PH  property_type_apartment  \\\n",
       "90115        16029.19863                 1                        0   \n",
       "64057       655343.37360                 0                        0   \n",
       "\n",
       "       property_type_house  property_type_store  \n",
       "90115                    0                    0  \n",
       "64057                    1                    0  "
      ]
     },
     "execution_count": 280,
     "metadata": {},
     "output_type": "execute_result"
    }
   ],
   "source": [
    "X_train.sample(2)"
   ]
  },
  {
   "cell_type": "code",
   "execution_count": 281,
   "metadata": {},
   "outputs": [
    {
     "name": "stdout",
     "output_type": "stream",
     "text": [
      "[0]\tvalidation_0-rmse:185154.87500\n",
      "Will train until validation_0-rmse hasn't improved in 10 rounds.\n",
      "[1]\tvalidation_0-rmse:134145.20312\n",
      "[2]\tvalidation_0-rmse:113669.21094\n",
      "[3]\tvalidation_0-rmse:105889.09375\n",
      "[4]\tvalidation_0-rmse:101599.95312\n",
      "[5]\tvalidation_0-rmse:98923.00781\n",
      "[6]\tvalidation_0-rmse:98193.81250\n",
      "[7]\tvalidation_0-rmse:97674.92969\n",
      "[8]\tvalidation_0-rmse:97552.78906\n",
      "[9]\tvalidation_0-rmse:96756.07812\n",
      "[10]\tvalidation_0-rmse:96383.92188\n",
      "[11]\tvalidation_0-rmse:96310.66406\n",
      "[12]\tvalidation_0-rmse:95924.18750\n",
      "[13]\tvalidation_0-rmse:96135.67969\n",
      "[14]\tvalidation_0-rmse:96056.56250\n",
      "[15]\tvalidation_0-rmse:95896.42188\n",
      "[16]\tvalidation_0-rmse:95448.62500\n",
      "[17]\tvalidation_0-rmse:95185.41406\n",
      "[18]\tvalidation_0-rmse:95246.31250\n",
      "[19]\tvalidation_0-rmse:95106.76562\n",
      "[20]\tvalidation_0-rmse:94629.31250\n",
      "[21]\tvalidation_0-rmse:94533.46875\n",
      "[22]\tvalidation_0-rmse:94367.35156\n",
      "[23]\tvalidation_0-rmse:94204.08594\n",
      "[24]\tvalidation_0-rmse:94167.40625\n",
      "[25]\tvalidation_0-rmse:94166.77344\n",
      "[26]\tvalidation_0-rmse:94311.18750\n",
      "[27]\tvalidation_0-rmse:94287.10156\n",
      "[28]\tvalidation_0-rmse:94102.35938\n",
      "[29]\tvalidation_0-rmse:94098.17188\n",
      "[30]\tvalidation_0-rmse:94091.71094\n",
      "[31]\tvalidation_0-rmse:94094.88281\n",
      "[32]\tvalidation_0-rmse:94094.22656\n",
      "[33]\tvalidation_0-rmse:94035.90625\n",
      "[34]\tvalidation_0-rmse:93989.32031\n",
      "[35]\tvalidation_0-rmse:94026.21094\n",
      "[36]\tvalidation_0-rmse:93986.32812\n",
      "[37]\tvalidation_0-rmse:93984.28906\n",
      "[38]\tvalidation_0-rmse:94002.82812\n",
      "[39]\tvalidation_0-rmse:93859.73438\n",
      "[40]\tvalidation_0-rmse:93814.31250\n",
      "[41]\tvalidation_0-rmse:93967.95312\n",
      "[42]\tvalidation_0-rmse:93968.57812\n",
      "[43]\tvalidation_0-rmse:93950.51562\n",
      "[44]\tvalidation_0-rmse:93934.36719\n",
      "[45]\tvalidation_0-rmse:93848.71094\n",
      "[46]\tvalidation_0-rmse:93754.71094\n",
      "[47]\tvalidation_0-rmse:93737.56250\n",
      "[48]\tvalidation_0-rmse:93668.00781\n",
      "[49]\tvalidation_0-rmse:93548.06250\n",
      "[50]\tvalidation_0-rmse:93563.59375\n",
      "[51]\tvalidation_0-rmse:93428.25781\n",
      "[52]\tvalidation_0-rmse:93375.83594\n",
      "[53]\tvalidation_0-rmse:93393.12500\n",
      "[54]\tvalidation_0-rmse:93375.20312\n",
      "[55]\tvalidation_0-rmse:93469.17188\n",
      "[56]\tvalidation_0-rmse:93370.59375\n",
      "[57]\tvalidation_0-rmse:93297.13281\n",
      "[58]\tvalidation_0-rmse:93283.42188\n",
      "[59]\tvalidation_0-rmse:93231.25000\n",
      "[60]\tvalidation_0-rmse:93088.62500\n",
      "[61]\tvalidation_0-rmse:93047.28906\n",
      "[62]\tvalidation_0-rmse:93190.83594\n",
      "[63]\tvalidation_0-rmse:93173.04688\n",
      "[64]\tvalidation_0-rmse:93100.39844\n",
      "[65]\tvalidation_0-rmse:93118.21094\n",
      "[66]\tvalidation_0-rmse:93114.96094\n",
      "[67]\tvalidation_0-rmse:93107.14062\n",
      "[68]\tvalidation_0-rmse:93058.68750\n",
      "[69]\tvalidation_0-rmse:93052.60156\n",
      "[70]\tvalidation_0-rmse:93049.59375\n",
      "[71]\tvalidation_0-rmse:93066.32031\n",
      "Stopping. Best iteration:\n",
      "[61]\tvalidation_0-rmse:93047.28906\n",
      "\n"
     ]
    },
    {
     "data": {
      "text/plain": [
       "XGBRegressor(base_score=0.5, booster='gbtree', colsample_bylevel=1,\n",
       "             colsample_bynode=1, colsample_bytree=1, gamma=0, gpu_id=-1,\n",
       "             importance_type='gain', interaction_constraints='',\n",
       "             learning_rate=0.5, max_delta_step=0, max_depth=6,\n",
       "             min_child_weight=1, missing=nan, monotone_constraints='()',\n",
       "             n_estimators=100, n_jobs=0, num_parallel_tree=1, random_state=0,\n",
       "             reg_alpha=0, reg_lambda=5, scale_pos_weight=1, subsample=1,\n",
       "             tree_method='exact', validate_parameters=1, verbosity=None)"
      ]
     },
     "execution_count": 281,
     "metadata": {},
     "output_type": "execute_result"
    }
   ],
   "source": [
    "rg_xgb = xgb.XGBRegressor( learning_rate=0.5, max_depth=6, reg_lambda=5)\n",
    "rg_xgb.fit(X_train, y_train, verbose=True, early_stopping_rounds=10, eval_set=[(X_test,y_test)])"
   ]
  },
  {
   "cell_type": "code",
   "execution_count": 282,
   "metadata": {},
   "outputs": [],
   "source": [
    "pred = rg_xgb.predict(X_test)"
   ]
  },
  {
   "cell_type": "code",
   "execution_count": 283,
   "metadata": {},
   "outputs": [],
   "source": [
    "from sklearn.model_selection import GridSearchCV"
   ]
  },
  {
   "cell_type": "code",
   "execution_count": 284,
   "metadata": {},
   "outputs": [],
   "source": [
    "# param_grid = {\n",
    "#     'max_depth': [4,5,6],\n",
    "#     'learning_rate': [0.9, 0.7,0.5,0,3],\n",
    "#     'gamma':[0, 0.25, 1],\n",
    "#     'reg_lambda':[1.0, 10, 30],\n",
    "#     'scale_pos_weight':[1,3,5]}\n",
    "   "
   ]
  },
  {
   "cell_type": "code",
   "execution_count": 285,
   "metadata": {},
   "outputs": [],
   "source": [
    "param_grid = {\n",
    "    'max_depth': [6, 7],\n",
    "    'learning_rate': [0.7,0.5,0.3],\n",
    "    'reg_lambda':[5,7,8]}"
   ]
  },
  {
   "cell_type": "code",
   "execution_count": 286,
   "metadata": {},
   "outputs": [],
   "source": [
    "optimal_params= GridSearchCV(\n",
    "    estimator=xgb.XGBRegressor(),\n",
    "    param_grid=param_grid,\n",
    "    scoring= 'neg_root_mean_squared_error',\n",
    "    verbose=2,\n",
    "    n_jobs=10,\n",
    "    cv=3)\n"
   ]
  },
  {
   "cell_type": "code",
   "execution_count": 287,
   "metadata": {},
   "outputs": [
    {
     "name": "stdout",
     "output_type": "stream",
     "text": [
      "Fitting 3 folds for each of 18 candidates, totalling 54 fits\n"
     ]
    },
    {
     "name": "stderr",
     "output_type": "stream",
     "text": [
      "[Parallel(n_jobs=10)]: Using backend LokyBackend with 10 concurrent workers.\n",
      "[Parallel(n_jobs=10)]: Done  21 tasks      | elapsed:   42.5s\n",
      "[Parallel(n_jobs=10)]: Done  54 out of  54 | elapsed:  1.6min finished\n"
     ]
    },
    {
     "data": {
      "text/plain": [
       "GridSearchCV(cv=3,\n",
       "             estimator=XGBRegressor(base_score=None, booster=None,\n",
       "                                    colsample_bylevel=None,\n",
       "                                    colsample_bynode=None,\n",
       "                                    colsample_bytree=None, gamma=None,\n",
       "                                    gpu_id=None, importance_type='gain',\n",
       "                                    interaction_constraints=None,\n",
       "                                    learning_rate=None, max_delta_step=None,\n",
       "                                    max_depth=None, min_child_weight=None,\n",
       "                                    missing=nan, monotone_constraints=None,\n",
       "                                    n_estimators=100, n_jobs=None,\n",
       "                                    num_parallel_tree=None, random_state=None,\n",
       "                                    reg_alpha=None, reg_lambda=None,\n",
       "                                    scale_pos_weight=None, subsample=None,\n",
       "                                    tree_method=None, validate_parameters=None,\n",
       "                                    verbosity=None),\n",
       "             n_jobs=10,\n",
       "             param_grid={'learning_rate': [0.7, 0.5, 0.3], 'max_depth': [6, 7],\n",
       "                         'reg_lambda': [5, 7, 8]},\n",
       "             scoring='neg_root_mean_squared_error', verbose=2)"
      ]
     },
     "execution_count": 287,
     "metadata": {},
     "output_type": "execute_result"
    }
   ],
   "source": [
    "optimal_params.fit(X_train, y_train)"
   ]
  },
  {
   "cell_type": "code",
   "execution_count": 288,
   "metadata": {},
   "outputs": [
    {
     "name": "stdout",
     "output_type": "stream",
     "text": [
      "-92599.2615671216\n",
      "{'learning_rate': 0.3, 'max_depth': 7, 'reg_lambda': 7}\n"
     ]
    }
   ],
   "source": [
    "print(optimal_params.best_score_)\n",
    "print(optimal_params.best_params_)"
   ]
  },
  {
   "cell_type": "code",
   "execution_count": 289,
   "metadata": {},
   "outputs": [
    {
     "data": {
      "text/plain": [
       "0.99999994"
      ]
     },
     "execution_count": 289,
     "metadata": {},
     "output_type": "execute_result"
    }
   ],
   "source": [
    "rg_xgb.feature_importances_.sum()"
   ]
  },
  {
   "cell_type": "code",
   "execution_count": 290,
   "metadata": {},
   "outputs": [
    {
     "data": {
      "text/plain": [
       "<BarContainer object of 9 artists>"
      ]
     },
     "execution_count": 290,
     "metadata": {},
     "output_type": "execute_result"
    },
    {
     "data": {
      "image/png": "[encoded data removed]",
      "text/plain": [
       "<Figure size 576x432 with 1 Axes>"
      ]
     },
     "metadata": {
      "needs_background": "light"
     },
     "output_type": "display_data"
    }
   ],
   "source": [
    "plt.figure(figsize=(8, 6))\n",
    "plt.bar( ['surface', 'lat', 'lon', 'precio_m2','obelisco', 'depto', 'casa', 'ph', 'store'],rg_xgb.feature_importances_[0:9], color= 'indigo')"
   ]
  },
  {
   "cell_type": "code",
   "execution_count": 291,
   "metadata": {},
   "outputs": [],
   "source": [
    "df_plot = df_plot.append({'model': 'XGBoost' ,'variable': 'RMSE',\t'value' : (-optimal_params.best_score_)}, ignore_index=True)"
   ]
  },
  {
   "cell_type": "code",
   "execution_count": 292,
   "metadata": {},
   "outputs": [
    {
     "data": {
      "text/plain": [
       "<AxesSubplot:xlabel='model', ylabel='value'>"
      ]
     },
     "execution_count": 292,
     "metadata": {},
     "output_type": "execute_result"
    },
    {
     "data": {
      "image/png": "[encoded data removed]",
      "text/plain": [
       "<Figure size 576x432 with 1 Axes>"
      ]
     },
     "metadata": {
      "needs_background": "light"
     },
     "output_type": "display_data"
    }
   ],
   "source": [
    "plt.figure(figsize=(8, 6))\n",
    "sns.barplot(x = 'model', y= 'value', data= df_plot[df_plot.variable == 'RMSE'], palette='magma')"
   ]
  }
 ],
 "metadata": {
  "interpreter": {
   "hash": "c086fc7738b30d1aba3dc99f49fa45c96aec9fd0a00bf9d0b3eaf085c1395b52"
  },
  "kernelspec": {
   "display_name": "Python 3.8.11 64-bit ('dhdsblend2021': conda)",
   "language": "python",
   "name": "python3"
  },
  "language_info": {
   "codemirror_mode": {
    "name": "ipython",
    "version": 3
   },
   "file_extension": ".py",
   "mimetype": "text/x-python",
   "name": "python",
   "nbconvert_exporter": "python",
   "pygments_lexer": "ipython3",
   "version": "3.8.11"
  },
  "orig_nbformat": 4
 },
 "nbformat": 4,
 "nbformat_minor": 2
}
