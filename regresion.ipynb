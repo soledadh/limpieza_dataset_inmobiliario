{
 "cells": [
  {
   "cell_type": "code",
   "execution_count": 68,
   "metadata": {},
   "outputs": [],
   "source": [
    "import pandas as pd\n",
    "import numpy as np\n",
    "import seaborn as sns\n",
    "import matplotlib.pyplot as plt"
   ]
  },
  {
   "cell_type": "code",
   "execution_count": 69,
   "metadata": {},
   "outputs": [],
   "source": [
    "%matplotlib inline"
   ]
  },
  {
   "cell_type": "code",
   "execution_count": 70,
   "metadata": {},
   "outputs": [],
   "source": [
    "df= pd.read_csv('dataset_limpio.csv')"
   ]
  },
  {
   "cell_type": "code",
   "execution_count": 95,
   "metadata": {},
   "outputs": [
    {
     "data": {
      "text/html": [
       "<div>\n",
       "<style scoped>\n",
       "    .dataframe tbody tr th:only-of-type {\n",
       "        vertical-align: middle;\n",
       "    }\n",
       "\n",
       "    .dataframe tbody tr th {\n",
       "        vertical-align: top;\n",
       "    }\n",
       "\n",
       "    .dataframe thead th {\n",
       "        text-align: right;\n",
       "    }\n",
       "</style>\n",
       "<table border=\"1\" class=\"dataframe\">\n",
       "  <thead>\n",
       "    <tr style=\"text-align: right;\">\n",
       "      <th></th>\n",
       "      <th>property_type</th>\n",
       "      <th>lat</th>\n",
       "      <th>lon</th>\n",
       "      <th>price_aprox_usd</th>\n",
       "      <th>surface_covered_in_m2</th>\n",
       "      <th>ciudad_barrio</th>\n",
       "      <th>sub_loc</th>\n",
       "      <th>distance_obelisco</th>\n",
       "      <th>precio_m2</th>\n",
       "      <th>segmento_precio_m2</th>\n",
       "    </tr>\n",
       "  </thead>\n",
       "  <tbody>\n",
       "    <tr>\n",
       "      <th>0</th>\n",
       "      <td>PH</td>\n",
       "      <td>-34.661824</td>\n",
       "      <td>-58.508839</td>\n",
       "      <td>62000.000000</td>\n",
       "      <td>40.0</td>\n",
       "      <td>Mataderos</td>\n",
       "      <td>Mataderos</td>\n",
       "      <td>14555.078219</td>\n",
       "      <td>1127.272727</td>\n",
       "      <td>bajo</td>\n",
       "    </tr>\n",
       "    <tr>\n",
       "      <th>1</th>\n",
       "      <td>apartment</td>\n",
       "      <td>-34.652262</td>\n",
       "      <td>-58.522982</td>\n",
       "      <td>72000.000000</td>\n",
       "      <td>55.0</td>\n",
       "      <td>Mataderos</td>\n",
       "      <td>Mataderos</td>\n",
       "      <td>15988.570648</td>\n",
       "      <td>1309.090909</td>\n",
       "      <td>bajo</td>\n",
       "    </tr>\n",
       "    <tr>\n",
       "      <th>2</th>\n",
       "      <td>apartment</td>\n",
       "      <td>-38.002626</td>\n",
       "      <td>-57.549447</td>\n",
       "      <td>64000.000000</td>\n",
       "      <td>35.0</td>\n",
       "      <td>Mar del Plata</td>\n",
       "      <td>Centro</td>\n",
       "      <td>221376.145262</td>\n",
       "      <td>1828.571429</td>\n",
       "      <td>medio</td>\n",
       "    </tr>\n",
       "    <tr>\n",
       "      <th>3</th>\n",
       "      <td>PH</td>\n",
       "      <td>-34.532957</td>\n",
       "      <td>-58.521782</td>\n",
       "      <td>130000.000000</td>\n",
       "      <td>78.0</td>\n",
       "      <td>Vicente López</td>\n",
       "      <td>Munro</td>\n",
       "      <td>16182.270448</td>\n",
       "      <td>1226.415094</td>\n",
       "      <td>bajo</td>\n",
       "    </tr>\n",
       "    <tr>\n",
       "      <th>4</th>\n",
       "      <td>apartment</td>\n",
       "      <td>-34.559873</td>\n",
       "      <td>-58.443362</td>\n",
       "      <td>138000.000000</td>\n",
       "      <td>40.0</td>\n",
       "      <td>Belgrano</td>\n",
       "      <td>Belgrano</td>\n",
       "      <td>7381.316759</td>\n",
       "      <td>3066.666667</td>\n",
       "      <td>alto</td>\n",
       "    </tr>\n",
       "    <tr>\n",
       "      <th>...</th>\n",
       "      <td>...</td>\n",
       "      <td>...</td>\n",
       "      <td>...</td>\n",
       "      <td>...</td>\n",
       "      <td>...</td>\n",
       "      <td>...</td>\n",
       "      <td>...</td>\n",
       "      <td>...</td>\n",
       "      <td>...</td>\n",
       "      <td>...</td>\n",
       "    </tr>\n",
       "    <tr>\n",
       "      <th>95807</th>\n",
       "      <td>store</td>\n",
       "      <td>-34.490090</td>\n",
       "      <td>-58.530280</td>\n",
       "      <td>281142.857143</td>\n",
       "      <td>123.0</td>\n",
       "      <td>San Isidro</td>\n",
       "      <td>San Isidro</td>\n",
       "      <td>17881.899471</td>\n",
       "      <td>2285.714286</td>\n",
       "      <td>alto</td>\n",
       "    </tr>\n",
       "    <tr>\n",
       "      <th>95808</th>\n",
       "      <td>apartment</td>\n",
       "      <td>-34.562700</td>\n",
       "      <td>-58.458290</td>\n",
       "      <td>870000.000000</td>\n",
       "      <td>93.0</td>\n",
       "      <td>Belgrano</td>\n",
       "      <td>Belgrano</td>\n",
       "      <td>8904.350856</td>\n",
       "      <td>7699.115044</td>\n",
       "      <td>alto</td>\n",
       "    </tr>\n",
       "    <tr>\n",
       "      <th>95809</th>\n",
       "      <td>house</td>\n",
       "      <td>-34.463120</td>\n",
       "      <td>-58.534810</td>\n",
       "      <td>498000.000000</td>\n",
       "      <td>360.0</td>\n",
       "      <td>San Isidro</td>\n",
       "      <td>Beccar</td>\n",
       "      <td>18984.396239</td>\n",
       "      <td>1383.333333</td>\n",
       "      <td>medio</td>\n",
       "    </tr>\n",
       "    <tr>\n",
       "      <th>95810</th>\n",
       "      <td>apartment</td>\n",
       "      <td>-34.570639</td>\n",
       "      <td>-58.475596</td>\n",
       "      <td>131500.000000</td>\n",
       "      <td>39.0</td>\n",
       "      <td>Villa Urquiza</td>\n",
       "      <td>Villa Urquiza</td>\n",
       "      <td>10670.153356</td>\n",
       "      <td>2858.695652</td>\n",
       "      <td>alto</td>\n",
       "    </tr>\n",
       "    <tr>\n",
       "      <th>95811</th>\n",
       "      <td>apartment</td>\n",
       "      <td>-34.600000</td>\n",
       "      <td>-58.450000</td>\n",
       "      <td>129000.000000</td>\n",
       "      <td>77.0</td>\n",
       "      <td>NaN</td>\n",
       "      <td>Capital Federal</td>\n",
       "      <td>7630.333623</td>\n",
       "      <td>1675.324675</td>\n",
       "      <td>medio</td>\n",
       "    </tr>\n",
       "  </tbody>\n",
       "</table>\n",
       "<p>95806 rows × 10 columns</p>\n",
       "</div>"
      ],
      "text/plain": [
       "      property_type        lat        lon  price_aprox_usd  \\\n",
       "0                PH -34.661824 -58.508839     62000.000000   \n",
       "1         apartment -34.652262 -58.522982     72000.000000   \n",
       "2         apartment -38.002626 -57.549447     64000.000000   \n",
       "3                PH -34.532957 -58.521782    130000.000000   \n",
       "4         apartment -34.559873 -58.443362    138000.000000   \n",
       "...             ...        ...        ...              ...   \n",
       "95807         store -34.490090 -58.530280    281142.857143   \n",
       "95808     apartment -34.562700 -58.458290    870000.000000   \n",
       "95809         house -34.463120 -58.534810    498000.000000   \n",
       "95810     apartment -34.570639 -58.475596    131500.000000   \n",
       "95811     apartment -34.600000 -58.450000    129000.000000   \n",
       "\n",
       "       surface_covered_in_m2  ciudad_barrio          sub_loc  \\\n",
       "0                       40.0      Mataderos        Mataderos   \n",
       "1                       55.0      Mataderos        Mataderos   \n",
       "2                       35.0  Mar del Plata           Centro   \n",
       "3                       78.0  Vicente López            Munro   \n",
       "4                       40.0       Belgrano         Belgrano   \n",
       "...                      ...            ...              ...   \n",
       "95807                  123.0     San Isidro       San Isidro   \n",
       "95808                   93.0       Belgrano         Belgrano   \n",
       "95809                  360.0     San Isidro           Beccar   \n",
       "95810                   39.0  Villa Urquiza    Villa Urquiza   \n",
       "95811                   77.0            NaN  Capital Federal   \n",
       "\n",
       "       distance_obelisco    precio_m2 segmento_precio_m2  \n",
       "0           14555.078219  1127.272727               bajo  \n",
       "1           15988.570648  1309.090909               bajo  \n",
       "2          221376.145262  1828.571429              medio  \n",
       "3           16182.270448  1226.415094               bajo  \n",
       "4            7381.316759  3066.666667               alto  \n",
       "...                  ...          ...                ...  \n",
       "95807       17881.899471  2285.714286               alto  \n",
       "95808        8904.350856  7699.115044               alto  \n",
       "95809       18984.396239  1383.333333              medio  \n",
       "95810       10670.153356  2858.695652               alto  \n",
       "95811        7630.333623  1675.324675              medio  \n",
       "\n",
       "[95806 rows x 10 columns]"
      ]
     },
     "execution_count": 95,
     "metadata": {},
     "output_type": "execute_result"
    }
   ],
   "source": [
    "df"
   ]
  },
  {
   "cell_type": "code",
   "execution_count": 96,
   "metadata": {},
   "outputs": [],
   "source": [
    "from sklearn import linear_model\n",
    "from sklearn.metrics import mean_squared_error, r2_score\n",
    "from sklearn.model_selection import train_test_split"
   ]
  },
  {
   "cell_type": "code",
   "execution_count": 105,
   "metadata": {},
   "outputs": [],
   "source": [
    "X = df[['surface_covered_in_m2']]\n",
    "y = df.price_aprox_usd\n",
    "\n",
    "X_train, X_test, y_train, y_test = train_test_split(X, y)\n"
   ]
  },
  {
   "cell_type": "code",
   "execution_count": 106,
   "metadata": {},
   "outputs": [],
   "source": [
    "lm = linear_model.LinearRegression()\n",
    "model = lm.fit(X_train, y_train)"
   ]
  },
  {
   "cell_type": "code",
   "execution_count": 107,
   "metadata": {},
   "outputs": [],
   "source": [
    "predictions = lm.predict(X_test)"
   ]
  },
  {
   "cell_type": "code",
   "execution_count": 108,
   "metadata": {},
   "outputs": [
    {
     "data": {
      "text/plain": [
       "84233     59000.0\n",
       "30378    395000.0\n",
       "94787    149000.0\n",
       "44839    750000.0\n",
       "39061     99000.0\n",
       "           ...   \n",
       "34887    129000.0\n",
       "61116    425000.0\n",
       "79373    129388.0\n",
       "63506    125000.0\n",
       "91302    130000.0\n",
       "Name: price_aprox_usd, Length: 71854, dtype: float64"
      ]
     },
     "execution_count": 108,
     "metadata": {},
     "output_type": "execute_result"
    }
   ],
   "source": [
    "y_train"
   ]
  },
  {
   "cell_type": "code",
   "execution_count": 109,
   "metadata": {},
   "outputs": [
    {
     "data": {
      "text/plain": [
       "[<matplotlib.lines.Line2D at 0x1b6c28f3ee0>]"
      ]
     },
     "execution_count": 109,
     "metadata": {},
     "output_type": "execute_result"
    },
    {
     "data": {
      "image/png": "[encoded data removed]",
      "text/plain": [
       "<Figure size 432x288 with 1 Axes>"
      ]
     },
     "metadata": {
      "needs_background": "light"
     },
     "output_type": "display_data"
    }
   ],
   "source": [
    "plt.scatter(X_train, y_train, c='blue')\n",
    "plt.plot(X_train, model.predict(X_train), color='red', linewidth=2)\n",
    "# plt.xscale('log')\n",
    "# plt.yscale('log')"
   ]
  },
  {
   "cell_type": "code",
   "execution_count": 110,
   "metadata": {},
   "outputs": [
    {
     "data": {
      "text/plain": [
       "220390.14576997317"
      ]
     },
     "execution_count": 110,
     "metadata": {},
     "output_type": "execute_result"
    }
   ],
   "source": [
    "RMSE = mean_squared_error(y_test, predictions, squared= False)\n",
    "RMSE"
   ]
  }
 ],
 "metadata": {
  "interpreter": {
   "hash": "c086fc7738b30d1aba3dc99f49fa45c96aec9fd0a00bf9d0b3eaf085c1395b52"
  },
  "kernelspec": {
   "display_name": "Python 3.8.11 64-bit ('dhdsblend2021': conda)",
   "language": "python",
   "name": "python3"
  },
  "language_info": {
   "codemirror_mode": {
    "name": "ipython",
    "version": 3
   },
   "file_extension": ".py",
   "mimetype": "text/x-python",
   "name": "python",
   "nbconvert_exporter": "python",
   "pygments_lexer": "ipython3",
   "version": "3.8.11"
  },
  "orig_nbformat": 4
 },
 "nbformat": 4,
 "nbformat_minor": 2
}
